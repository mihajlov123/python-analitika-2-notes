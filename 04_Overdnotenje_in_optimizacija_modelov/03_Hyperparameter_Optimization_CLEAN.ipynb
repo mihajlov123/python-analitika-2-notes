{
 "cells": [
  {
   "cell_type": "markdown",
   "id": "dc58e2f9",
   "metadata": {},
   "source": [
    "# Hyperparameter Optimization"
   ]
  },
  {
   "cell_type": "markdown",
   "id": "13ace209",
   "metadata": {},
   "source": [
    "## Parameter vs. Hyperparameter"
   ]
  },
  {
   "cell_type": "markdown",
   "id": "55a0f949",
   "metadata": {},
   "source": [
    "A **model parameter** is a configuration variable that is internal to the model and whose value can be estimated from data."
   ]
  },
  {
   "cell_type": "markdown",
   "id": "7529278f",
   "metadata": {},
   "source": [
    "A **model hyperparameter** is a configuration that is external to the model and whose value cannot be estimated from data.\n"
   ]
  },
  {
   "cell_type": "markdown",
   "id": "72e73b78",
   "metadata": {},
   "source": [
    "<table><thead><tr><th>PARAMETERS</th><th>HYPERPARAMETER</th></tr></thead><tbody><tr><td>They are required for making predictions</td><td>They are required for estimating the model parameters</td></tr><tr><td>They are estimated by optimization algorithms(Gradient Descent, Adam, Adagrad)</td><td>They are estimated by hyperparameter tuning</td></tr><tr><td>They are not set manually</td><td>They are set manually</td></tr><tr><td>The final parameters found after training will decide how the model will perform on unseen data</td><td>The choice of hyperparameters decide how efficient the training is. In gradient descent the learning rate decide how efficient and accurate the optimization process is in estimating the parameters</td></tr></tbody></table>"
   ]
  },
  {
   "cell_type": "markdown",
   "id": "6b23eb7c",
   "metadata": {},
   "source": [
    "## About hyperparameter tuning"
   ]
  },
  {
   "cell_type": "markdown",
   "id": "39b469da",
   "metadata": {},
   "source": [
    "**Hyperparameter tuning (or hyperparameter optimization) is the process of determining the right combination of hyperparameters that maximizes the model performance.**"
   ]
  },
  {
   "attachments": {},
   "cell_type": "markdown",
   "id": "6c802b55",
   "metadata": {},
   "source": [
    "- **`Manual hyperparameter tuning:`**\n",
    "    - Manual hyperparameter tuning involves experimenting with different sets of hyperparameters manually i.e. each trial with a set of hyperparameters will be performed by you. This technique will require a robust experiment tracker which could track a variety of variables from images, logs to system metrics. https://mlflow.org/docs/latest/index.html"
   ]
  },
  {
   "cell_type": "markdown",
   "id": "c72dfdf5",
   "metadata": {},
   "source": [
    "- **`Automated hyperparameter tuning:`**\n",
    "    - Automated hyperparameter tuning utilizes already existing algorithms to automate the process."
   ]
  },
  {
   "cell_type": "markdown",
   "id": "bf9e8a05",
   "metadata": {},
   "source": [
    "## Hyperparameter tuning methods "
   ]
  },
  {
   "cell_type": "markdown",
   "id": "8a2ed8be",
   "metadata": {},
   "source": [
    "**Grid Search**"
   ]
  },
  {
   "attachments": {},
   "cell_type": "markdown",
   "id": "14755404",
   "metadata": {},
   "source": [
    "- The Pros: It’s easy to implement. Can be easily parallelized.\n",
    "- The Cons: It’s insanely computationally expensive.\n",
    "- Should I use it: Probably not. Grid search is terribly inefficient. Even if you want to keep it simple, you’re better off using random search."
   ]
  },
  {
   "cell_type": "markdown",
   "id": "9cfcff8e",
   "metadata": {},
   "source": [
    "**Random Search**"
   ]
  },
  {
   "cell_type": "markdown",
   "id": "9dfaa0d1",
   "metadata": {},
   "source": [
    "<img src=\"images/img_01.png\">"
   ]
  },
  {
   "cell_type": "markdown",
   "id": "f4a7625e",
   "metadata": {},
   "source": [
    "- The Pros: Can be easily parallelized. Just as simple as grid search, but a bit better performance.\n",
    "- The Cons: While it gives better performance than grid search, it is still just as computationally intensive.\n",
    "- Should I use it: If trivial parallelization and simplicity are of utmost importance, go for it."
   ]
  },
  {
   "cell_type": "code",
   "execution_count": 6,
   "id": "f7ac0efc",
   "metadata": {},
   "outputs": [
    {
     "data": {
      "text/plain": [
       "{'C': 2.195254015709299, 'penalty': 'l1'}"
      ]
     },
     "execution_count": 6,
     "metadata": {},
     "output_type": "execute_result"
    }
   ],
   "source": [
    "from sklearn.datasets import load_iris\n",
    "from sklearn.linear_model import LogisticRegression\n",
    "from sklearn.model_selection import RandomizedSearchCV # uporabimo ta class namesto GridSearch kot pri preteklih primerih\n",
    "from scipy.stats import uniform # uporabimo za normalno porazdelitev znotraj območja\n",
    "\n",
    "iris = load_iris()\n",
    "\n",
    "logistic = LogisticRegression(solver='saga', tol=1e-2, max_iter=200,random_state=0)\n",
    "distributions = dict(C=uniform(loc=0, scale=4),penalty=['l2', 'l1'])\n",
    "\n",
    "clf = RandomizedSearchCV(logistic, distributions, random_state=0, n_iter=20, n_jobs=1)\n",
    "# n_iter ... max število iteracij znotraj grida\n",
    "\n",
    "search = clf.fit(iris.data, iris.target)\n",
    "search.best_params_"
   ]
  },
  {
   "cell_type": "code",
   "execution_count": 2,
   "id": "3830be30",
   "metadata": {},
   "outputs": [
    {
     "data": {
      "text/html": [
       "<style>#sk-container-id-1 {color: black;background-color: white;}#sk-container-id-1 pre{padding: 0;}#sk-container-id-1 div.sk-toggleable {background-color: white;}#sk-container-id-1 label.sk-toggleable__label {cursor: pointer;display: block;width: 100%;margin-bottom: 0;padding: 0.3em;box-sizing: border-box;text-align: center;}#sk-container-id-1 label.sk-toggleable__label-arrow:before {content: \"▸\";float: left;margin-right: 0.25em;color: #696969;}#sk-container-id-1 label.sk-toggleable__label-arrow:hover:before {color: black;}#sk-container-id-1 div.sk-estimator:hover label.sk-toggleable__label-arrow:before {color: black;}#sk-container-id-1 div.sk-toggleable__content {max-height: 0;max-width: 0;overflow: hidden;text-align: left;background-color: #f0f8ff;}#sk-container-id-1 div.sk-toggleable__content pre {margin: 0.2em;color: black;border-radius: 0.25em;background-color: #f0f8ff;}#sk-container-id-1 input.sk-toggleable__control:checked~div.sk-toggleable__content {max-height: 200px;max-width: 100%;overflow: auto;}#sk-container-id-1 input.sk-toggleable__control:checked~label.sk-toggleable__label-arrow:before {content: \"▾\";}#sk-container-id-1 div.sk-estimator input.sk-toggleable__control:checked~label.sk-toggleable__label {background-color: #d4ebff;}#sk-container-id-1 div.sk-label input.sk-toggleable__control:checked~label.sk-toggleable__label {background-color: #d4ebff;}#sk-container-id-1 input.sk-hidden--visually {border: 0;clip: rect(1px 1px 1px 1px);clip: rect(1px, 1px, 1px, 1px);height: 1px;margin: -1px;overflow: hidden;padding: 0;position: absolute;width: 1px;}#sk-container-id-1 div.sk-estimator {font-family: monospace;background-color: #f0f8ff;border: 1px dotted black;border-radius: 0.25em;box-sizing: border-box;margin-bottom: 0.5em;}#sk-container-id-1 div.sk-estimator:hover {background-color: #d4ebff;}#sk-container-id-1 div.sk-parallel-item::after {content: \"\";width: 100%;border-bottom: 1px solid gray;flex-grow: 1;}#sk-container-id-1 div.sk-label:hover label.sk-toggleable__label {background-color: #d4ebff;}#sk-container-id-1 div.sk-serial::before {content: \"\";position: absolute;border-left: 1px solid gray;box-sizing: border-box;top: 0;bottom: 0;left: 50%;z-index: 0;}#sk-container-id-1 div.sk-serial {display: flex;flex-direction: column;align-items: center;background-color: white;padding-right: 0.2em;padding-left: 0.2em;position: relative;}#sk-container-id-1 div.sk-item {position: relative;z-index: 1;}#sk-container-id-1 div.sk-parallel {display: flex;align-items: stretch;justify-content: center;background-color: white;position: relative;}#sk-container-id-1 div.sk-item::before, #sk-container-id-1 div.sk-parallel-item::before {content: \"\";position: absolute;border-left: 1px solid gray;box-sizing: border-box;top: 0;bottom: 0;left: 50%;z-index: -1;}#sk-container-id-1 div.sk-parallel-item {display: flex;flex-direction: column;z-index: 1;position: relative;background-color: white;}#sk-container-id-1 div.sk-parallel-item:first-child::after {align-self: flex-end;width: 50%;}#sk-container-id-1 div.sk-parallel-item:last-child::after {align-self: flex-start;width: 50%;}#sk-container-id-1 div.sk-parallel-item:only-child::after {width: 0;}#sk-container-id-1 div.sk-dashed-wrapped {border: 1px dashed gray;margin: 0 0.4em 0.5em 0.4em;box-sizing: border-box;padding-bottom: 0.4em;background-color: white;}#sk-container-id-1 div.sk-label label {font-family: monospace;font-weight: bold;display: inline-block;line-height: 1.2em;}#sk-container-id-1 div.sk-label-container {text-align: center;}#sk-container-id-1 div.sk-container {/* jupyter's `normalize.less` sets `[hidden] { display: none; }` but bootstrap.min.css set `[hidden] { display: none !important; }` so we also need the `!important` here to be able to override the default hidden behavior on the sphinx rendered scikit-learn.org. See: https://github.com/scikit-learn/scikit-learn/issues/21755 */display: inline-block !important;position: relative;}#sk-container-id-1 div.sk-text-repr-fallback {display: none;}</style><div id=\"sk-container-id-1\" class=\"sk-top-container\"><div class=\"sk-text-repr-fallback\"><pre>LogisticRegression(C=2.195254015709299, max_iter=200, penalty=&#x27;l1&#x27;,\n",
       "                   random_state=0, solver=&#x27;saga&#x27;, tol=0.01)</pre><b>In a Jupyter environment, please rerun this cell to show the HTML representation or trust the notebook. <br />On GitHub, the HTML representation is unable to render, please try loading this page with nbviewer.org.</b></div><div class=\"sk-container\" hidden><div class=\"sk-item\"><div class=\"sk-estimator sk-toggleable\"><input class=\"sk-toggleable__control sk-hidden--visually\" id=\"sk-estimator-id-1\" type=\"checkbox\" checked><label for=\"sk-estimator-id-1\" class=\"sk-toggleable__label sk-toggleable__label-arrow\">LogisticRegression</label><div class=\"sk-toggleable__content\"><pre>LogisticRegression(C=2.195254015709299, max_iter=200, penalty=&#x27;l1&#x27;,\n",
       "                   random_state=0, solver=&#x27;saga&#x27;, tol=0.01)</pre></div></div></div></div></div>"
      ],
      "text/plain": [
       "LogisticRegression(C=2.195254015709299, max_iter=200, penalty='l1',\n",
       "                   random_state=0, solver='saga', tol=0.01)"
      ]
     },
     "execution_count": 2,
     "metadata": {},
     "output_type": "execute_result"
    }
   ],
   "source": [
    "search.best_estimator_"
   ]
  },
  {
   "attachments": {},
   "cell_type": "markdown",
   "id": "5ce29c13",
   "metadata": {},
   "source": [
    "**Bayesian Optimization**\n",
    "- poskuša minimizrati loss funkcijo - pametna hiperopzimizacija."
   ]
  },
  {
   "cell_type": "markdown",
   "id": "38164514",
   "metadata": {},
   "source": [
    "- The Pros: Bayesian optimization gives better results than both grid search and random search.\n",
    "- The Cons: It's not as easy to parallelize.\n",
    "- Should I Use It: In most cases."
   ]
  },
  {
   "attachments": {},
   "cell_type": "markdown",
   "id": "faca565c",
   "metadata": {},
   "source": [
    "**Tree-structured Parzen estimators (TPE)**\n",
    "- bayes in TPE nista dobro podprti v sklearn-u. V nadaljevanju prikazane druge knjižnice za napredne hiperoptimizacije."
   ]
  },
  {
   "cell_type": "markdown",
   "id": "70092de3",
   "metadata": {},
   "source": [
    "## Tips for hyperparameter search"
   ]
  },
  {
   "cell_type": "markdown",
   "id": "99755956",
   "metadata": {},
   "source": [
    "- **Specifying an objective metric**\n",
    "- **Specifying multiple metrics for evaluation**"
   ]
  },
  {
   "cell_type": "code",
   "execution_count": 7,
   "id": "57d06ca5",
   "metadata": {},
   "outputs": [],
   "source": [
    "import numpy as np\n",
    "from matplotlib import pyplot as plt\n",
    "\n",
    "from sklearn.datasets import make_hastie_10_2\n",
    "from sklearn.model_selection import GridSearchCV\n",
    "from sklearn.metrics import make_scorer\n",
    "from sklearn.metrics import accuracy_score\n",
    "from sklearn.tree import DecisionTreeClassifier"
   ]
  },
  {
   "cell_type": "code",
   "execution_count": 8,
   "id": "a6481012",
   "metadata": {},
   "outputs": [],
   "source": [
    "X, y = make_hastie_10_2(n_samples=8000, random_state=42)\n",
    "\n",
    "# The scorers can be either one of the predefined metric strings or a scorer\n",
    "# callable, like the one returned by make_scorer\n",
    "scoring = {\"AUC\": \"roc_auc\", \"Accuracy\": make_scorer(accuracy_score)}\n",
    "\n",
    "# Setting refit='AUC', refits an estimator on the whole dataset with the\n",
    "# parameter setting that has the best cross-validated AUC score.\n",
    "# That estimator is made available at ``gs.best_estimator_`` along with\n",
    "# parameters like ``gs.best_score_``, ``gs.best_params_`` and\n",
    "# ``gs.best_index_``\n",
    "gs = GridSearchCV(\n",
    "    DecisionTreeClassifier(random_state=42),\n",
    "    param_grid={\"min_samples_split\": range(2, 403, 20)},\n",
    "    scoring=scoring,\n",
    "    refit=\"AUC\",\n",
    "    n_jobs=2,\n",
    "    return_train_score=True,\n",
    ")\n",
    "gs.fit(X, y)\n",
    "results = gs.cv_results_"
   ]
  },
  {
   "cell_type": "code",
   "execution_count": 9,
   "id": "638ced3d",
   "metadata": {},
   "outputs": [
    {
     "data": {
      "image/png": "[encoded data removed]",
      "text/plain": [
       "<Figure size 1300x1300 with 1 Axes>"
      ]
     },
     "metadata": {},
     "output_type": "display_data"
    }
   ],
   "source": [
    "plt.figure(figsize=(13, 13))\n",
    "plt.title(\"GridSearchCV evaluating using multiple scorers simultaneously\", fontsize=16)\n",
    "\n",
    "plt.xlabel(\"min_samples_split\")\n",
    "plt.ylabel(\"Score\")\n",
    "\n",
    "ax = plt.gca()\n",
    "ax.set_xlim(0, 402)\n",
    "ax.set_ylim(0.73, 1)\n",
    "\n",
    "# Get the regular numpy array from the MaskedArray\n",
    "X_axis = np.array(results[\"param_min_samples_split\"].data, dtype=float)\n",
    "\n",
    "for scorer, color in zip(sorted(scoring), [\"g\", \"k\"]):\n",
    "    for sample, style in ((\"train\", \"--\"), (\"test\", \"-\")):\n",
    "        sample_score_mean = results[\"mean_%s_%s\" % (sample, scorer)]\n",
    "        sample_score_std = results[\"std_%s_%s\" % (sample, scorer)]\n",
    "        ax.fill_between(\n",
    "            X_axis,\n",
    "            sample_score_mean - sample_score_std,\n",
    "            sample_score_mean + sample_score_std,\n",
    "            alpha=0.1 if sample == \"test\" else 0,\n",
    "            color=color,\n",
    "        )\n",
    "        ax.plot(\n",
    "            X_axis,\n",
    "            sample_score_mean,\n",
    "            style,\n",
    "            color=color,\n",
    "            alpha=1 if sample == \"test\" else 0.7,\n",
    "            label=\"%s (%s)\" % (scorer, sample),\n",
    "        )\n",
    "\n",
    "    best_index = np.nonzero(results[\"rank_test_%s\" % scorer] == 1)[0][0]\n",
    "    best_score = results[\"mean_test_%s\" % scorer][best_index]\n",
    "\n",
    "    # Plot a dotted vertical line at the best score for that scorer marked by x\n",
    "    ax.plot(\n",
    "        [\n",
    "            X_axis[best_index],\n",
    "        ]\n",
    "        * 2,\n",
    "        [0, best_score],\n",
    "        linestyle=\"-.\",\n",
    "        color=color,\n",
    "        marker=\"x\",\n",
    "        markeredgewidth=3,\n",
    "        ms=8,\n",
    "    )\n",
    "\n",
    "    # Annotate the best score for that scorer\n",
    "    ax.annotate(\"%0.2f\" % best_score, (X_axis[best_index], best_score + 0.005))\n",
    "\n",
    "plt.legend(loc=\"best\")\n",
    "plt.grid(False)\n",
    "plt.show()"
   ]
  },
  {
   "cell_type": "markdown",
   "id": "339df70b",
   "metadata": {},
   "source": [
    "- **Composite estimators and parameter spaces**"
   ]
  },
  {
   "attachments": {},
   "cell_type": "markdown",
   "id": "4782820d",
   "metadata": {},
   "source": [
    "## Hyperopt\n",
    "- (malo outdated - danes se bolj uporablja Optuna, ki je predstavljena v nadaljevanju)"
   ]
  },
  {
   "cell_type": "markdown",
   "id": "1f5cc739",
   "metadata": {},
   "source": [
    "**Hyperopt is an open source hyperparameter tuning library that uses a Bayesian approach to find the best values for the hyperparameters.**"
   ]
  },
  {
   "cell_type": "markdown",
   "id": "0b344d97",
   "metadata": {},
   "source": [
    "Install hyperopt from PyPI: `pip install hyperopt`"
   ]
  },
  {
   "cell_type": "markdown",
   "id": "a3f0063e",
   "metadata": {},
   "source": [
    "Documentation: http://hyperopt.github.io/hyperopt/"
   ]
  },
  {
   "cell_type": "markdown",
   "id": "6741b2bc",
   "metadata": {},
   "source": [
    "Tutorial: https://github.com/hyperopt/hyperopt/wiki/FMin"
   ]
  },
  {
   "cell_type": "markdown",
   "id": "eb181794",
   "metadata": {},
   "source": [
    "Hyperopt's job is to find the best value of a scalar-valued, possibly-stochastic function over a set of possible arguments to that function."
   ]
  },
  {
   "cell_type": "markdown",
   "id": "7b60729a",
   "metadata": {},
   "source": [
    "Currently three algorithms are implemented in hyperopt:\n",
    "- Random Search\n",
    "- Tree of Parzen Estimators (TPE)\n",
    "- Adaptive TPE"
   ]
  },
  {
   "cell_type": "markdown",
   "id": "e443bfdd",
   "metadata": {},
   "source": [
    "> [Hyperopt-sklearn](https://github.com/hyperopt/hyperopt-sklearn) is Hyperopt-based model selection among machine learning algorithms in scikit-learn."
   ]
  },
  {
   "cell_type": "markdown",
   "id": "0144b94a",
   "metadata": {},
   "source": [
    "### Example: Water quality "
   ]
  },
  {
   "cell_type": "code",
   "execution_count": 10,
   "id": "043fc02a",
   "metadata": {},
   "outputs": [],
   "source": [
    "import matplotlib.pyplot as plt\n",
    "import pandas as pd\n",
    "import numpy as np\n",
    "from sklearn.model_selection import train_test_split\n",
    "from sklearn.ensemble import RandomForestClassifier\n",
    "from sklearn.metrics import accuracy_score"
   ]
  },
  {
   "cell_type": "code",
   "execution_count": 11,
   "id": "0c9eb5e5",
   "metadata": {},
   "outputs": [
    {
     "data": {
      "text/html": [
       "<div>\n",
       "<style scoped>\n",
       "    .dataframe tbody tr th:only-of-type {\n",
       "        vertical-align: middle;\n",
       "    }\n",
       "\n",
       "    .dataframe tbody tr th {\n",
       "        vertical-align: top;\n",
       "    }\n",
       "\n",
       "    .dataframe thead th {\n",
       "        text-align: right;\n",
       "    }\n",
       "</style>\n",
       "<table border=\"1\" class=\"dataframe\">\n",
       "  <thead>\n",
       "    <tr style=\"text-align: right;\">\n",
       "      <th></th>\n",
       "      <th>ph</th>\n",
       "      <th>Hardness</th>\n",
       "      <th>Solids</th>\n",
       "      <th>Chloramines</th>\n",
       "      <th>Sulfate</th>\n",
       "      <th>Conductivity</th>\n",
       "      <th>Organic_carbon</th>\n",
       "      <th>Trihalomethanes</th>\n",
       "      <th>Turbidity</th>\n",
       "      <th>Potability</th>\n",
       "    </tr>\n",
       "  </thead>\n",
       "  <tbody>\n",
       "    <tr>\n",
       "      <th>3</th>\n",
       "      <td>8.316766</td>\n",
       "      <td>214.373394</td>\n",
       "      <td>22018.417441</td>\n",
       "      <td>8.059332</td>\n",
       "      <td>356.886136</td>\n",
       "      <td>363.266516</td>\n",
       "      <td>18.436524</td>\n",
       "      <td>100.341674</td>\n",
       "      <td>4.628771</td>\n",
       "      <td>0</td>\n",
       "    </tr>\n",
       "    <tr>\n",
       "      <th>4</th>\n",
       "      <td>9.092223</td>\n",
       "      <td>181.101509</td>\n",
       "      <td>17978.986339</td>\n",
       "      <td>6.546600</td>\n",
       "      <td>310.135738</td>\n",
       "      <td>398.410813</td>\n",
       "      <td>11.558279</td>\n",
       "      <td>31.997993</td>\n",
       "      <td>4.075075</td>\n",
       "      <td>0</td>\n",
       "    </tr>\n",
       "    <tr>\n",
       "      <th>5</th>\n",
       "      <td>5.584087</td>\n",
       "      <td>188.313324</td>\n",
       "      <td>28748.687739</td>\n",
       "      <td>7.544869</td>\n",
       "      <td>326.678363</td>\n",
       "      <td>280.467916</td>\n",
       "      <td>8.399735</td>\n",
       "      <td>54.917862</td>\n",
       "      <td>2.559708</td>\n",
       "      <td>0</td>\n",
       "    </tr>\n",
       "    <tr>\n",
       "      <th>6</th>\n",
       "      <td>10.223862</td>\n",
       "      <td>248.071735</td>\n",
       "      <td>28749.716544</td>\n",
       "      <td>7.513408</td>\n",
       "      <td>393.663396</td>\n",
       "      <td>283.651634</td>\n",
       "      <td>13.789695</td>\n",
       "      <td>84.603556</td>\n",
       "      <td>2.672989</td>\n",
       "      <td>0</td>\n",
       "    </tr>\n",
       "    <tr>\n",
       "      <th>7</th>\n",
       "      <td>8.635849</td>\n",
       "      <td>203.361523</td>\n",
       "      <td>13672.091764</td>\n",
       "      <td>4.563009</td>\n",
       "      <td>303.309771</td>\n",
       "      <td>474.607645</td>\n",
       "      <td>12.363817</td>\n",
       "      <td>62.798309</td>\n",
       "      <td>4.401425</td>\n",
       "      <td>0</td>\n",
       "    </tr>\n",
       "  </tbody>\n",
       "</table>\n",
       "</div>"
      ],
      "text/plain": [
       "          ph    Hardness        Solids  Chloramines     Sulfate  Conductivity  \\\n",
       "3   8.316766  214.373394  22018.417441     8.059332  356.886136    363.266516   \n",
       "4   9.092223  181.101509  17978.986339     6.546600  310.135738    398.410813   \n",
       "5   5.584087  188.313324  28748.687739     7.544869  326.678363    280.467916   \n",
       "6  10.223862  248.071735  28749.716544     7.513408  393.663396    283.651634   \n",
       "7   8.635849  203.361523  13672.091764     4.563009  303.309771    474.607645   \n",
       "\n",
       "   Organic_carbon  Trihalomethanes  Turbidity  Potability  \n",
       "3       18.436524       100.341674   4.628771           0  \n",
       "4       11.558279        31.997993   4.075075           0  \n",
       "5        8.399735        54.917862   2.559708           0  \n",
       "6       13.789695        84.603556   2.672989           0  \n",
       "7       12.363817        62.798309   4.401425           0  "
      ]
     },
     "execution_count": 11,
     "metadata": {},
     "output_type": "execute_result"
    }
   ],
   "source": [
    "# read in the data and info\n",
    "data = pd.read_csv('data/water_potability.csv')\n",
    "\n",
    "# remove missing values\n",
    "data = data.dropna()\n",
    "\n",
    "data.head()"
   ]
  },
  {
   "cell_type": "code",
   "execution_count": 12,
   "id": "609c2d44",
   "metadata": {},
   "outputs": [
    {
     "name": "stdout",
     "output_type": "stream",
     "text": [
      "Accuracy: 0.6724565756823822\n"
     ]
    }
   ],
   "source": [
    "# split to train and test\n",
    "X = data.drop(['Potability'], axis = 1)\n",
    "y = data['Potability']\n",
    "x_train, x_test, y_train, y_test = train_test_split(X, y, test_size = 0.2, random_state=200)\n",
    "\n",
    "# build the model\n",
    "model = RandomForestClassifier(n_estimators=300, max_features='sqrt', random_state=42)\n",
    "model.fit(x_train, y_train)\n",
    "y_pred = model.predict(x_test)\n",
    "\n",
    "# print out the score accuracy\n",
    "print(\"Accuracy:\", accuracy_score(y_test, y_pred))"
   ]
  },
  {
   "cell_type": "code",
   "execution_count": 13,
   "id": "d2b59dac",
   "metadata": {},
   "outputs": [],
   "source": [
    "# read in hyperopt values\n",
    "from hyperopt import fmin, hp, tpe, Trials, space_eval, STATUS_OK"
   ]
  },
  {
   "cell_type": "code",
   "execution_count": 20,
   "id": "e98aea67",
   "metadata": {},
   "outputs": [],
   "source": [
    "# define the function we want to minimise\n",
    "# pomemben del je definicija loss funkcije\n",
    "def objective(n_estimators):\n",
    "    model = RandomForestClassifier(n_estimators=n_estimators,\n",
    "                                   max_features='sqrt',\n",
    "                                   random_state=42)\n",
    "    model.fit(x_train, y_train)\n",
    "    y_pred = model.predict(x_test)\n",
    "    accuracy = accuracy_score(y_test, y_pred)\n",
    "    return {'loss': -accuracy, 'status': STATUS_OK}"
   ]
  },
  {
   "cell_type": "code",
   "execution_count": 15,
   "id": "25cddbf8",
   "metadata": {},
   "outputs": [],
   "source": [
    "# define the values to search over for n_estimators\n",
    "search_space = hp.randint('n_estimators', 200, 1000)"
   ]
  },
  {
   "cell_type": "code",
   "execution_count": 16,
   "id": "656c33ec",
   "metadata": {},
   "outputs": [],
   "source": [
    "# set the hyperparam tuning algorithm\n",
    "algorithm=tpe.suggest"
   ]
  },
  {
   "cell_type": "code",
   "execution_count": 17,
   "id": "70a7ee87",
   "metadata": {},
   "outputs": [
    {
     "name": "stdout",
     "output_type": "stream",
     "text": [
      "100%|██████████| 10/10 [00:56<00:00,  5.61s/trial, best loss: -0.6774193548387096]\n"
     ]
    }
   ],
   "source": [
    "best_params = fmin(\n",
    "  fn=objective,\n",
    "  space=search_space,\n",
    "  algo=algorithm,\n",
    "  max_evals=10) # v praksi 200+"
   ]
  },
  {
   "cell_type": "code",
   "execution_count": 18,
   "id": "987ccf49",
   "metadata": {},
   "outputs": [
    {
     "name": "stdout",
     "output_type": "stream",
     "text": [
      "{'n_estimators': 360}\n"
     ]
    }
   ],
   "source": [
    "print(best_params)"
   ]
  },
  {
   "cell_type": "code",
   "execution_count": 19,
   "id": "9ba59f78",
   "metadata": {},
   "outputs": [
    {
     "name": "stdout",
     "output_type": "stream",
     "text": [
      "100%|██████████| 15/15 [00:51<00:00,  3.44s/trial, best loss: -0.6724565756823822]\n"
     ]
    }
   ],
   "source": [
    "# redefine the function usng a wider range of hyperparameters\n",
    "def objective(search_space):\n",
    "    model = RandomForestClassifier(**search_space, random_state=42)\n",
    "    model.fit(x_train, y_train)\n",
    "    y_pred = model.predict(x_test)\n",
    "    accuracy = accuracy_score(y_test, y_pred)\n",
    "    return {'loss': -accuracy, 'status': STATUS_OK}\n",
    "\n",
    "# new search space\n",
    "search_space={'n_estimators':hp.randint('n_estimators',200,1000),\n",
    "              \n",
    "              'max_depth': hp.randint('max_depth',10,200),           \n",
    "            \n",
    "            'min_samples_split':hp.uniform('min_samples_split',0,1),   \n",
    "             'min_samples_leaf':hp.randint('min_samples_leaf',1,10),\n",
    "              \n",
    "               'criterion':hp.choice('criterion', ['gini','entropy']), # hp.choice( uporabimo za nabor kategorij\n",
    "                \n",
    "           'max_features':hp.choice('max_features',['sqrt', 'log2']) } # hp.choice( uporabimo za nabor kategorij\n",
    "\n",
    "# implement Hyperopt\n",
    "best_params = fmin(\n",
    "  fn=objective,\n",
    "  space=search_space,\n",
    "  algo=algorithm,\n",
    "  max_evals=15) # v praksi 200+"
   ]
  },
  {
   "cell_type": "code",
   "execution_count": 21,
   "id": "90ea1034",
   "metadata": {},
   "outputs": [
    {
     "data": {
      "text/plain": [
       "{'criterion': 'entropy',\n",
       " 'max_depth': 95,\n",
       " 'max_features': 'sqrt',\n",
       " 'min_samples_leaf': 1,\n",
       " 'min_samples_split': 0.007382022713466774,\n",
       " 'n_estimators': 985}"
      ]
     },
     "execution_count": 21,
     "metadata": {},
     "output_type": "execute_result"
    }
   ],
   "source": [
    "space_eval(search_space, best_params)"
   ]
  },
  {
   "cell_type": "markdown",
   "id": "ab1d0425",
   "metadata": {},
   "source": [
    "## Optuna"
   ]
  },
  {
   "cell_type": "markdown",
   "id": "1a53767d",
   "metadata": {},
   "source": [
    "**An open source hyperparameter optimization framework to automate hyperparameter search.**"
   ]
  },
  {
   "cell_type": "markdown",
   "id": "faa93fb1",
   "metadata": {},
   "source": [
    "Web page: https://optuna.org/"
   ]
  },
  {
   "cell_type": "markdown",
   "id": "1873f7f9",
   "metadata": {},
   "source": [
    "Docs: https://optuna.readthedocs.io/en/stable/index.html"
   ]
  },
  {
   "cell_type": "markdown",
   "id": "e868a7c7",
   "metadata": {},
   "source": [
    "Tutorial: https://optuna.readthedocs.io/en/stable/tutorial/index.html"
   ]
  },
  {
   "cell_type": "markdown",
   "id": "35cee67c",
   "metadata": {},
   "source": [
    "Optuna can be installed with pip: `pip install optuna`"
   ]
  },
  {
   "cell_type": "markdown",
   "id": "72e1a1d1",
   "metadata": {},
   "source": [
    "Optuna is framework agnostic. You can use it with any machine learning or deep learning framework."
   ]
  },
  {
   "cell_type": "markdown",
   "id": "a53462fd",
   "metadata": {},
   "source": [
    "Optuna has modern functionalities as follows:\n",
    "- Lightweight, versatile, and platform agnostic architecture. Handle a wide variety of tasks with a simple installation that has few requirements.\n",
    "- Pythonic search spaces. Define search spaces using familiar Python syntax including conditionals and loops.\n",
    "- Efficient optimization algorithms. Adopt state-of-the-art algorithms for sampling hyperparameters and efficiently pruning unpromising trials.\n",
    "- Easy parallelization. Scale studies to tens or hundreds of workers with little or no changes to the code.\n",
    "- Quick visualization. Inspect optimization histories from a variety of plotting functions."
   ]
  },
  {
   "cell_type": "markdown",
   "id": "baafa70f",
   "metadata": {},
   "source": [
    "Optuna provides the following sampling algorithms:\n",
    "- Grid Search implemented in GridSampler\n",
    "- Random Search implemented in RandomSampler\n",
    "- Tree-structured Parzen Estimator algorithm implemented in TPESampler\n",
    "- CMA-ES based algorithm implemented in CmaEsSampler\n",
    "- Algorithm to enable partial fixed parameters implemented in PartialFixedSampler\n",
    "- Nondominated Sorting Genetic Algorithm II implemented in NSGAIISampler\n",
    "- A Quasi Monte Carlo sampling algorithm implemented in QMCSampler"
   ]
  },
  {
   "cell_type": "code",
   "execution_count": 22,
   "id": "291490e1",
   "metadata": {},
   "outputs": [],
   "source": [
    "import optuna\n",
    "import sklearn.datasets\n",
    "import sklearn.ensemble\n",
    "import sklearn.model_selection"
   ]
  },
  {
   "cell_type": "code",
   "execution_count": 23,
   "id": "e24970d7",
   "metadata": {},
   "outputs": [
    {
     "name": "stdout",
     "output_type": "stream",
     "text": [
      "Accuracy: 0.9666666666666667\n"
     ]
    }
   ],
   "source": [
    "def objective():\n",
    "    iris = sklearn.datasets.load_iris()  # Prepare the data.\n",
    "    \n",
    "    clf = sklearn.ensemble.RandomForestClassifier(    \n",
    "        n_estimators=5, max_depth=3)  # Define the model.\n",
    "    \n",
    "    return sklearn.model_selection.cross_val_score(\n",
    "        clf, iris.data, iris.target, n_jobs=-1, cv=3).mean()  # Train and evaluate the model.\n",
    "\n",
    "print('Accuracy: {}'.format(objective()))"
   ]
  },
  {
   "cell_type": "code",
   "execution_count": 24,
   "id": "6b5d9f1c",
   "metadata": {},
   "outputs": [],
   "source": [
    "# Optimize hyperparameters of the model\n",
    "import optuna\n",
    "\n",
    "def objective(trial):\n",
    "    iris = sklearn.datasets.load_iris()\n",
    "    \n",
    "    n_estimators = trial.suggest_int('n_estimators', 2, 20)\n",
    "    max_depth = int(trial.suggest_float('max_depth', 1, 32, log=True))\n",
    "    \n",
    "    clf = sklearn.ensemble.RandomForestClassifier(\n",
    "        n_estimators=n_estimators, max_depth=max_depth)\n",
    "    \n",
    "    return sklearn.model_selection.cross_val_score(\n",
    "        clf, iris.data, iris.target, n_jobs=-1, cv=3).mean()"
   ]
  },
  {
   "cell_type": "code",
   "execution_count": 25,
   "id": "e8b74246",
   "metadata": {},
   "outputs": [
    {
     "name": "stderr",
     "output_type": "stream",
     "text": [
      "\u001b[32m[I 2023-03-06 17:40:15,096]\u001b[0m A new study created in memory with name: no-name-e7a98244-9149-4ab7-b36b-493c78229831\u001b[0m\n",
      "\u001b[32m[I 2023-03-06 17:40:15,898]\u001b[0m Trial 0 finished with value: 0.9666666666666667 and parameters: {'n_estimators': 20, 'max_depth': 1.6811350034787669}. Best is trial 0 with value: 0.9666666666666667.\u001b[0m\n",
      "\u001b[32m[I 2023-03-06 17:40:16,686]\u001b[0m Trial 1 finished with value: 0.9666666666666667 and parameters: {'n_estimators': 7, 'max_depth': 5.770044890504877}. Best is trial 0 with value: 0.9666666666666667.\u001b[0m\n",
      "\u001b[32m[I 2023-03-06 17:40:16,715]\u001b[0m Trial 2 finished with value: 0.9666666666666667 and parameters: {'n_estimators': 8, 'max_depth': 3.823677438006332}. Best is trial 0 with value: 0.9666666666666667.\u001b[0m\n",
      "\u001b[32m[I 2023-03-06 17:40:16,754]\u001b[0m Trial 3 finished with value: 0.96 and parameters: {'n_estimators': 13, 'max_depth': 12.759045773586818}. Best is trial 0 with value: 0.9666666666666667.\u001b[0m\n",
      "\u001b[32m[I 2023-03-06 17:40:16,783]\u001b[0m Trial 4 finished with value: 0.9533333333333333 and parameters: {'n_estimators': 10, 'max_depth': 17.299131555612135}. Best is trial 0 with value: 0.9666666666666667.\u001b[0m\n",
      "\u001b[32m[I 2023-03-06 17:40:16,828]\u001b[0m Trial 5 finished with value: 0.9466666666666667 and parameters: {'n_estimators': 18, 'max_depth': 28.410501416640557}. Best is trial 0 with value: 0.9666666666666667.\u001b[0m\n",
      "\u001b[32m[I 2023-03-06 17:40:16,840]\u001b[0m Trial 6 finished with value: 0.9466666666666667 and parameters: {'n_estimators': 3, 'max_depth': 12.849655725945627}. Best is trial 0 with value: 0.9666666666666667.\u001b[0m\n",
      "\u001b[32m[I 2023-03-06 17:40:16,865]\u001b[0m Trial 7 finished with value: 0.7466666666666667 and parameters: {'n_estimators': 8, 'max_depth': 1.467151653534783}. Best is trial 0 with value: 0.9666666666666667.\u001b[0m\n",
      "\u001b[32m[I 2023-03-06 17:40:16,891]\u001b[0m Trial 8 finished with value: 0.9533333333333333 and parameters: {'n_estimators': 10, 'max_depth': 30.70121029115182}. Best is trial 0 with value: 0.9666666666666667.\u001b[0m\n",
      "\u001b[32m[I 2023-03-06 17:40:16,915]\u001b[0m Trial 9 finished with value: 0.9466666666666667 and parameters: {'n_estimators': 5, 'max_depth': 15.795785473501848}. Best is trial 0 with value: 0.9666666666666667.\u001b[0m\n",
      "\u001b[32m[I 2023-03-06 17:40:16,972]\u001b[0m Trial 10 finished with value: 0.8866666666666667 and parameters: {'n_estimators': 19, 'max_depth': 1.1178903118782155}. Best is trial 0 with value: 0.9666666666666667.\u001b[0m\n",
      "\u001b[32m[I 2023-03-06 17:40:17,011]\u001b[0m Trial 11 finished with value: 0.9533333333333333 and parameters: {'n_estimators': 15, 'max_depth': 3.721252802940799}. Best is trial 0 with value: 0.9666666666666667.\u001b[0m\n",
      "\u001b[32m[I 2023-03-06 17:40:17,051]\u001b[0m Trial 12 finished with value: 0.96 and parameters: {'n_estimators': 15, 'max_depth': 2.0177643402676066}. Best is trial 0 with value: 0.9666666666666667.\u001b[0m\n",
      "\u001b[32m[I 2023-03-06 17:40:17,077]\u001b[0m Trial 13 finished with value: 0.9533333333333333 and parameters: {'n_estimators': 6, 'max_depth': 6.432913178181595}. Best is trial 0 with value: 0.9666666666666667.\u001b[0m\n",
      "\u001b[32m[I 2023-03-06 17:40:17,103]\u001b[0m Trial 14 finished with value: 0.9466666666666667 and parameters: {'n_estimators': 3, 'max_depth': 2.1902936573310927}. Best is trial 0 with value: 0.9666666666666667.\u001b[0m\n",
      "\u001b[32m[I 2023-03-06 17:40:17,154]\u001b[0m Trial 15 finished with value: 0.9466666666666667 and parameters: {'n_estimators': 20, 'max_depth': 5.305414050345173}. Best is trial 0 with value: 0.9666666666666667.\u001b[0m\n",
      "\u001b[32m[I 2023-03-06 17:40:17,195]\u001b[0m Trial 16 finished with value: 0.7466666666666667 and parameters: {'n_estimators': 13, 'max_depth': 1.11953338502161}. Best is trial 0 with value: 0.9666666666666667.\u001b[0m\n",
      "\u001b[32m[I 2023-03-06 17:40:17,234]\u001b[0m Trial 17 finished with value: 0.9533333333333333 and parameters: {'n_estimators': 16, 'max_depth': 2.4669301286914216}. Best is trial 0 with value: 0.9666666666666667.\u001b[0m\n",
      "\u001b[32m[I 2023-03-06 17:40:17,267]\u001b[0m Trial 18 finished with value: 0.9666666666666667 and parameters: {'n_estimators': 7, 'max_depth': 7.795973477708096}. Best is trial 0 with value: 0.9666666666666667.\u001b[0m\n",
      "\u001b[32m[I 2023-03-06 17:40:17,300]\u001b[0m Trial 19 finished with value: 0.9466666666666667 and parameters: {'n_estimators': 12, 'max_depth': 3.0967402664121404}. Best is trial 0 with value: 0.9666666666666667.\u001b[0m\n",
      "\u001b[32m[I 2023-03-06 17:40:17,326]\u001b[0m Trial 20 finished with value: 0.66 and parameters: {'n_estimators': 2, 'max_depth': 1.6663607803557512}. Best is trial 0 with value: 0.9666666666666667.\u001b[0m\n",
      "\u001b[32m[I 2023-03-06 17:40:17,356]\u001b[0m Trial 21 finished with value: 0.94 and parameters: {'n_estimators': 9, 'max_depth': 3.8830654884643994}. Best is trial 0 with value: 0.9666666666666667.\u001b[0m\n",
      "\u001b[32m[I 2023-03-06 17:40:17,429]\u001b[0m Trial 22 finished with value: 0.9666666666666667 and parameters: {'n_estimators': 5, 'max_depth': 4.707697645311258}. Best is trial 0 with value: 0.9666666666666667.\u001b[0m\n",
      "\u001b[32m[I 2023-03-06 17:40:17,465]\u001b[0m Trial 23 finished with value: 0.9533333333333333 and parameters: {'n_estimators': 8, 'max_depth': 2.8740765797106946}. Best is trial 0 with value: 0.9666666666666667.\u001b[0m\n",
      "\u001b[32m[I 2023-03-06 17:40:17,508]\u001b[0m Trial 24 finished with value: 0.9666666666666667 and parameters: {'n_estimators': 6, 'max_depth': 7.46132664614674}. Best is trial 0 with value: 0.9666666666666667.\u001b[0m\n",
      "\u001b[32m[I 2023-03-06 17:40:17,549]\u001b[0m Trial 25 finished with value: 0.9666666666666667 and parameters: {'n_estimators': 10, 'max_depth': 3.697515471125749}. Best is trial 0 with value: 0.9666666666666667.\u001b[0m\n",
      "\u001b[32m[I 2023-03-06 17:40:17,588]\u001b[0m Trial 26 finished with value: 0.9666666666666667 and parameters: {'n_estimators': 12, 'max_depth': 1.751484845456791}. Best is trial 0 with value: 0.9666666666666667.\u001b[0m\n",
      "\u001b[32m[I 2023-03-06 17:40:17,677]\u001b[0m Trial 27 finished with value: 0.9466666666666667 and parameters: {'n_estimators': 17, 'max_depth': 2.272582731345628}. Best is trial 0 with value: 0.9666666666666667.\u001b[0m\n",
      "\u001b[32m[I 2023-03-06 17:40:17,720]\u001b[0m Trial 28 finished with value: 0.9533333333333333 and parameters: {'n_estimators': 8, 'max_depth': 5.0082296727764435}. Best is trial 0 with value: 0.9666666666666667.\u001b[0m\n",
      "\u001b[32m[I 2023-03-06 17:40:17,768]\u001b[0m Trial 29 finished with value: 0.9466666666666667 and parameters: {'n_estimators': 14, 'max_depth': 8.332999871536293}. Best is trial 0 with value: 0.9666666666666667.\u001b[0m\n",
      "\u001b[32m[I 2023-03-06 17:40:17,807]\u001b[0m Trial 30 finished with value: 0.9533333333333333 and parameters: {'n_estimators': 11, 'max_depth': 1.3752747506625136}. Best is trial 0 with value: 0.9666666666666667.\u001b[0m\n",
      "\u001b[32m[I 2023-03-06 17:40:17,838]\u001b[0m Trial 31 finished with value: 0.9666666666666667 and parameters: {'n_estimators': 7, 'max_depth': 8.98139307102518}. Best is trial 0 with value: 0.9666666666666667.\u001b[0m\n",
      "\u001b[32m[I 2023-03-06 17:40:17,863]\u001b[0m Trial 32 finished with value: 0.9533333333333333 and parameters: {'n_estimators': 6, 'max_depth': 9.786260443125508}. Best is trial 0 with value: 0.9666666666666667.\u001b[0m\n",
      "\u001b[32m[I 2023-03-06 17:40:17,890]\u001b[0m Trial 33 finished with value: 0.9533333333333333 and parameters: {'n_estimators': 4, 'max_depth': 5.702664097526168}. Best is trial 0 with value: 0.9666666666666667.\u001b[0m\n",
      "\u001b[32m[I 2023-03-06 17:40:17,923]\u001b[0m Trial 34 finished with value: 0.9666666666666667 and parameters: {'n_estimators': 9, 'max_depth': 6.6579075510182895}. Best is trial 0 with value: 0.9666666666666667.\u001b[0m\n",
      "\u001b[32m[I 2023-03-06 17:40:17,949]\u001b[0m Trial 35 finished with value: 0.96 and parameters: {'n_estimators': 7, 'max_depth': 11.245889487464538}. Best is trial 0 with value: 0.9666666666666667.\u001b[0m\n",
      "\u001b[32m[I 2023-03-06 17:40:17,982]\u001b[0m Trial 36 finished with value: 0.9666666666666667 and parameters: {'n_estimators': 9, 'max_depth': 4.436907137957684}. Best is trial 0 with value: 0.9666666666666667.\u001b[0m\n",
      "\u001b[32m[I 2023-03-06 17:40:18,011]\u001b[0m Trial 37 finished with value: 0.9533333333333333 and parameters: {'n_estimators': 7, 'max_depth': 5.953893428222869}. Best is trial 0 with value: 0.9666666666666667.\u001b[0m\n",
      "\u001b[32m[I 2023-03-06 17:40:18,037]\u001b[0m Trial 38 finished with value: 0.9666666666666667 and parameters: {'n_estimators': 5, 'max_depth': 7.385822697985492}. Best is trial 0 with value: 0.9666666666666667.\u001b[0m\n",
      "\u001b[32m[I 2023-03-06 17:40:18,069]\u001b[0m Trial 39 finished with value: 0.9466666666666667 and parameters: {'n_estimators': 11, 'max_depth': 2.9046814490546007}. Best is trial 0 with value: 0.9666666666666667.\u001b[0m\n",
      "\u001b[32m[I 2023-03-06 17:40:18,094]\u001b[0m Trial 40 finished with value: 0.96 and parameters: {'n_estimators': 4, 'max_depth': 15.994536762790712}. Best is trial 0 with value: 0.9666666666666667.\u001b[0m\n",
      "\u001b[32m[I 2023-03-06 17:40:18,119]\u001b[0m Trial 41 finished with value: 0.9533333333333333 and parameters: {'n_estimators': 5, 'max_depth': 4.249443321227117}. Best is trial 0 with value: 0.9666666666666667.\u001b[0m\n",
      "\u001b[32m[I 2023-03-06 17:40:18,145]\u001b[0m Trial 42 finished with value: 0.9533333333333333 and parameters: {'n_estimators': 4, 'max_depth': 4.777686898254144}. Best is trial 0 with value: 0.9666666666666667.\u001b[0m\n",
      "\u001b[32m[I 2023-03-06 17:40:18,174]\u001b[0m Trial 43 finished with value: 0.9533333333333333 and parameters: {'n_estimators': 7, 'max_depth': 5.403776933491256}. Best is trial 0 with value: 0.9666666666666667.\u001b[0m\n",
      "\u001b[32m[I 2023-03-06 17:40:18,198]\u001b[0m Trial 44 finished with value: 0.9533333333333333 and parameters: {'n_estimators': 5, 'max_depth': 3.5033566464298693}. Best is trial 0 with value: 0.9666666666666667.\u001b[0m\n",
      "\u001b[32m[I 2023-03-06 17:40:18,229]\u001b[0m Trial 45 finished with value: 0.9533333333333333 and parameters: {'n_estimators': 8, 'max_depth': 6.381271430331021}. Best is trial 0 with value: 0.9666666666666667.\u001b[0m\n",
      "\u001b[32m[I 2023-03-06 17:40:18,254]\u001b[0m Trial 46 finished with value: 0.9466666666666667 and parameters: {'n_estimators': 2, 'max_depth': 2.5245801354163415}. Best is trial 0 with value: 0.9666666666666667.\u001b[0m\n",
      "\u001b[32m[I 2023-03-06 17:40:18,300]\u001b[0m Trial 47 finished with value: 0.9533333333333333 and parameters: {'n_estimators': 18, 'max_depth': 4.293985904391394}. Best is trial 0 with value: 0.9666666666666667.\u001b[0m\n",
      "\u001b[32m[I 2023-03-06 17:40:18,320]\u001b[0m Trial 48 finished with value: 0.9533333333333333 and parameters: {'n_estimators': 3, 'max_depth': 4.971143611170805}. Best is trial 0 with value: 0.9666666666666667.\u001b[0m\n",
      "\u001b[32m[I 2023-03-06 17:40:18,353]\u001b[0m Trial 49 finished with value: 0.96 and parameters: {'n_estimators': 10, 'max_depth': 3.464148659749627}. Best is trial 0 with value: 0.9666666666666667.\u001b[0m\n",
      "\u001b[32m[I 2023-03-06 17:40:18,400]\u001b[0m Trial 50 finished with value: 0.9666666666666667 and parameters: {'n_estimators': 20, 'max_depth': 12.825923517879687}. Best is trial 0 with value: 0.9666666666666667.\u001b[0m\n",
      "\u001b[32m[I 2023-03-06 17:40:18,424]\u001b[0m Trial 51 finished with value: 0.9466666666666667 and parameters: {'n_estimators': 6, 'max_depth': 7.384778706648353}. Best is trial 0 with value: 0.9666666666666667.\u001b[0m\n",
      "\u001b[32m[I 2023-03-06 17:40:18,449]\u001b[0m Trial 52 finished with value: 0.96 and parameters: {'n_estimators': 6, 'max_depth': 7.714186216397724}. Best is trial 0 with value: 0.9666666666666667.\u001b[0m\n",
      "\u001b[32m[I 2023-03-06 17:40:18,479]\u001b[0m Trial 53 finished with value: 0.96 and parameters: {'n_estimators': 6, 'max_depth': 5.863130984076269}. Best is trial 0 with value: 0.9666666666666667.\u001b[0m\n",
      "\u001b[32m[I 2023-03-06 17:40:18,511]\u001b[0m Trial 54 finished with value: 0.96 and parameters: {'n_estimators': 7, 'max_depth': 7.1755189733162235}. Best is trial 0 with value: 0.9666666666666667.\u001b[0m\n",
      "\u001b[32m[I 2023-03-06 17:40:18,542]\u001b[0m Trial 55 finished with value: 0.96 and parameters: {'n_estimators': 9, 'max_depth': 9.427642942578313}. Best is trial 0 with value: 0.9666666666666667.\u001b[0m\n",
      "\u001b[32m[I 2023-03-06 17:40:18,574]\u001b[0m Trial 56 finished with value: 0.9533333333333333 and parameters: {'n_estimators': 8, 'max_depth': 6.386770134332991}. Best is trial 0 with value: 0.9666666666666667.\u001b[0m\n",
      "\u001b[32m[I 2023-03-06 17:40:18,601]\u001b[0m Trial 57 finished with value: 0.9466666666666667 and parameters: {'n_estimators': 5, 'max_depth': 10.630891387808667}. Best is trial 0 with value: 0.9666666666666667.\u001b[0m\n",
      "\u001b[32m[I 2023-03-06 17:40:18,625]\u001b[0m Trial 58 finished with value: 0.9666666666666667 and parameters: {'n_estimators': 3, 'max_depth': 7.950825531046568}. Best is trial 0 with value: 0.9666666666666667.\u001b[0m\n",
      "\u001b[32m[I 2023-03-06 17:40:18,649]\u001b[0m Trial 59 finished with value: 0.7466666666666667 and parameters: {'n_estimators': 4, 'max_depth': 1.9292393056632022}. Best is trial 0 with value: 0.9666666666666667.\u001b[0m\n",
      "\u001b[32m[I 2023-03-06 17:40:18,689]\u001b[0m Trial 60 finished with value: 0.9666666666666667 and parameters: {'n_estimators': 13, 'max_depth': 4.039968567080798}. Best is trial 0 with value: 0.9666666666666667.\u001b[0m\n",
      "\u001b[32m[I 2023-03-06 17:40:18,723]\u001b[0m Trial 61 finished with value: 0.9466666666666667 and parameters: {'n_estimators': 10, 'max_depth': 3.235229686939356}. Best is trial 0 with value: 0.9666666666666667.\u001b[0m\n",
      "\u001b[32m[I 2023-03-06 17:40:18,752]\u001b[0m Trial 62 finished with value: 0.9533333333333333 and parameters: {'n_estimators': 8, 'max_depth': 3.790052440145594}. Best is trial 0 with value: 0.9666666666666667.\u001b[0m\n",
      "\u001b[32m[I 2023-03-06 17:40:18,786]\u001b[0m Trial 63 finished with value: 0.9533333333333333 and parameters: {'n_estimators': 12, 'max_depth': 4.926650351915305}. Best is trial 0 with value: 0.9666666666666667.\u001b[0m\n",
      "\u001b[32m[I 2023-03-06 17:40:18,823]\u001b[0m Trial 64 finished with value: 0.9533333333333333 and parameters: {'n_estimators': 10, 'max_depth': 4.588221536060555}. Best is trial 0 with value: 0.9666666666666667.\u001b[0m\n",
      "\u001b[32m[I 2023-03-06 17:40:18,867]\u001b[0m Trial 65 finished with value: 0.96 and parameters: {'n_estimators': 9, 'max_depth': 5.435805272631383}. Best is trial 0 with value: 0.9666666666666667.\u001b[0m\n",
      "\u001b[32m[I 2023-03-06 17:40:18,896]\u001b[0m Trial 66 finished with value: 0.96 and parameters: {'n_estimators': 7, 'max_depth': 3.734339893021483}. Best is trial 0 with value: 0.9666666666666667.\u001b[0m\n",
      "\u001b[32m[I 2023-03-06 17:40:18,953]\u001b[0m Trial 67 finished with value: 0.9533333333333333 and parameters: {'n_estimators': 14, 'max_depth': 2.5682350018361464}. Best is trial 0 with value: 0.9666666666666667.\u001b[0m\n",
      "\u001b[32m[I 2023-03-06 17:40:18,984]\u001b[0m Trial 68 finished with value: 0.9533333333333333 and parameters: {'n_estimators': 6, 'max_depth': 3.108047206236698}. Best is trial 0 with value: 0.9666666666666667.\u001b[0m\n",
      "\u001b[32m[I 2023-03-06 17:40:19,020]\u001b[0m Trial 69 finished with value: 0.9533333333333333 and parameters: {'n_estimators': 10, 'max_depth': 8.309895664210961}. Best is trial 0 with value: 0.9666666666666667.\u001b[0m\n",
      "\u001b[32m[I 2023-03-06 17:40:19,055]\u001b[0m Trial 70 finished with value: 0.96 and parameters: {'n_estimators': 9, 'max_depth': 5.372048768075145}. Best is trial 0 with value: 0.9666666666666667.\u001b[0m\n",
      "\u001b[32m[I 2023-03-06 17:40:19,103]\u001b[0m Trial 71 finished with value: 0.9333333333333332 and parameters: {'n_estimators': 11, 'max_depth': 1.4638809226231775}. Best is trial 0 with value: 0.9666666666666667.\u001b[0m\n",
      "\u001b[32m[I 2023-03-06 17:40:19,154]\u001b[0m Trial 72 finished with value: 0.9466666666666667 and parameters: {'n_estimators': 17, 'max_depth': 1.7764019835077258}. Best is trial 0 with value: 0.9666666666666667.\u001b[0m\n",
      "\u001b[32m[I 2023-03-06 17:40:19,201]\u001b[0m Trial 73 finished with value: 0.8533333333333334 and parameters: {'n_estimators': 12, 'max_depth': 1.262222829674125}. Best is trial 0 with value: 0.9666666666666667.\u001b[0m\n",
      "\u001b[32m[I 2023-03-06 17:40:19,253]\u001b[0m Trial 74 finished with value: 0.94 and parameters: {'n_estimators': 15, 'max_depth': 2.166736324003761}. Best is trial 0 with value: 0.9666666666666667.\u001b[0m\n",
      "\u001b[32m[I 2023-03-06 17:40:19,295]\u001b[0m Trial 75 finished with value: 0.7600000000000001 and parameters: {'n_estimators': 8, 'max_depth': 1.6429038671898213}. Best is trial 0 with value: 0.9666666666666667.\u001b[0m\n",
      "\u001b[32m[I 2023-03-06 17:40:19,340]\u001b[0m Trial 76 finished with value: 0.66 and parameters: {'n_estimators': 7, 'max_depth': 1.0669995253532585}. Best is trial 0 with value: 0.9666666666666667.\u001b[0m\n",
      "\u001b[32m[I 2023-03-06 17:40:19,385]\u001b[0m Trial 77 finished with value: 0.9533333333333333 and parameters: {'n_estimators': 5, 'max_depth': 4.068212596280016}. Best is trial 0 with value: 0.9666666666666667.\u001b[0m\n",
      "\u001b[32m[I 2023-03-06 17:40:19,464]\u001b[0m Trial 78 finished with value: 0.9533333333333333 and parameters: {'n_estimators': 19, 'max_depth': 6.927681548666141}. Best is trial 0 with value: 0.9666666666666667.\u001b[0m\n",
      "\u001b[32m[I 2023-03-06 17:40:19,512]\u001b[0m Trial 79 finished with value: 0.9533333333333333 and parameters: {'n_estimators': 8, 'max_depth': 6.253069822529118}. Best is trial 0 with value: 0.9666666666666667.\u001b[0m\n",
      "\u001b[32m[I 2023-03-06 17:40:19,587]\u001b[0m Trial 80 finished with value: 0.96 and parameters: {'n_estimators': 16, 'max_depth': 4.538400251560107}. Best is trial 0 with value: 0.9666666666666667.\u001b[0m\n",
      "\u001b[32m[I 2023-03-06 17:40:19,694]\u001b[0m Trial 81 finished with value: 0.96 and parameters: {'n_estimators': 7, 'max_depth': 9.199247624382059}. Best is trial 0 with value: 0.9666666666666667.\u001b[0m\n",
      "\u001b[32m[I 2023-03-06 17:40:19,757]\u001b[0m Trial 82 finished with value: 0.9666666666666667 and parameters: {'n_estimators': 6, 'max_depth': 5.876156976911807}. Best is trial 0 with value: 0.9666666666666667.\u001b[0m\n",
      "\u001b[32m[I 2023-03-06 17:40:19,802]\u001b[0m Trial 83 finished with value: 0.96 and parameters: {'n_estimators': 6, 'max_depth': 8.445486142435511}. Best is trial 0 with value: 0.9666666666666667.\u001b[0m\n",
      "\u001b[32m[I 2023-03-06 17:40:19,855]\u001b[0m Trial 84 finished with value: 0.9466666666666667 and parameters: {'n_estimators': 7, 'max_depth': 7.066345718519508}. Best is trial 0 with value: 0.9666666666666667.\u001b[0m\n",
      "\u001b[32m[I 2023-03-06 17:40:19,897]\u001b[0m Trial 85 finished with value: 0.9533333333333333 and parameters: {'n_estimators': 5, 'max_depth': 6.663934919465393}. Best is trial 0 with value: 0.9666666666666667.\u001b[0m\n",
      "\u001b[32m[I 2023-03-06 17:40:19,966]\u001b[0m Trial 86 finished with value: 0.96 and parameters: {'n_estimators': 9, 'max_depth': 4.91672949935706}. Best is trial 0 with value: 0.9666666666666667.\u001b[0m\n",
      "\u001b[32m[I 2023-03-06 17:40:20,019]\u001b[0m Trial 87 finished with value: 0.96 and parameters: {'n_estimators': 8, 'max_depth': 4.304232758505139}. Best is trial 0 with value: 0.9666666666666667.\u001b[0m\n",
      "\u001b[32m[I 2023-03-06 17:40:20,052]\u001b[0m Trial 88 finished with value: 0.9 and parameters: {'n_estimators': 4, 'max_depth': 2.7409972895606156}. Best is trial 0 with value: 0.9666666666666667.\u001b[0m\n",
      "\u001b[32m[I 2023-03-06 17:40:20,091]\u001b[0m Trial 89 finished with value: 0.9533333333333333 and parameters: {'n_estimators': 6, 'max_depth': 5.769597334718766}. Best is trial 0 with value: 0.9666666666666667.\u001b[0m\n",
      "\u001b[32m[I 2023-03-06 17:40:20,140]\u001b[0m Trial 90 finished with value: 0.96 and parameters: {'n_estimators': 11, 'max_depth': 3.297443006319375}. Best is trial 0 with value: 0.9666666666666667.\u001b[0m\n",
      "\u001b[32m[I 2023-03-06 17:40:20,183]\u001b[0m Trial 91 finished with value: 0.9533333333333333 and parameters: {'n_estimators': 8, 'max_depth': 6.63737649240093}. Best is trial 0 with value: 0.9666666666666667.\u001b[0m\n",
      "\u001b[32m[I 2023-03-06 17:40:20,231]\u001b[0m Trial 92 finished with value: 0.9533333333333333 and parameters: {'n_estimators': 9, 'max_depth': 5.262779448470463}. Best is trial 0 with value: 0.9666666666666667.\u001b[0m\n",
      "\u001b[32m[I 2023-03-06 17:40:20,270]\u001b[0m Trial 93 finished with value: 0.96 and parameters: {'n_estimators': 7, 'max_depth': 7.615321647269078}. Best is trial 0 with value: 0.9666666666666667.\u001b[0m\n",
      "\u001b[32m[I 2023-03-06 17:40:20,319]\u001b[0m Trial 94 finished with value: 0.96 and parameters: {'n_estimators': 7, 'max_depth': 6.113593130299352}. Best is trial 0 with value: 0.9666666666666667.\u001b[0m\n",
      "\u001b[32m[I 2023-03-06 17:40:20,373]\u001b[0m Trial 95 finished with value: 0.9533333333333333 and parameters: {'n_estimators': 9, 'max_depth': 3.5240904190438362}. Best is trial 0 with value: 0.9666666666666667.\u001b[0m\n",
      "\u001b[32m[I 2023-03-06 17:40:20,427]\u001b[0m Trial 96 finished with value: 0.96 and parameters: {'n_estimators': 10, 'max_depth': 7.029881877778777}. Best is trial 0 with value: 0.9666666666666667.\u001b[0m\n",
      "\u001b[32m[I 2023-03-06 17:40:20,468]\u001b[0m Trial 97 finished with value: 0.96 and parameters: {'n_estimators': 5, 'max_depth': 8.88421177107453}. Best is trial 0 with value: 0.9666666666666667.\u001b[0m\n",
      "\u001b[32m[I 2023-03-06 17:40:20,512]\u001b[0m Trial 98 finished with value: 0.96 and parameters: {'n_estimators': 6, 'max_depth': 2.326542077155715}. Best is trial 0 with value: 0.9666666666666667.\u001b[0m\n",
      "\u001b[32m[I 2023-03-06 17:40:20,565]\u001b[0m Trial 99 finished with value: 0.9666666666666667 and parameters: {'n_estimators': 11, 'max_depth': 10.181960060554038}. Best is trial 0 with value: 0.9666666666666667.\u001b[0m\n"
     ]
    },
    {
     "name": "stdout",
     "output_type": "stream",
     "text": [
      "Accuracy: 0.9666666666666667\n",
      "Best hyperparameters: {'n_estimators': 20, 'max_depth': 1.6811350034787669}\n"
     ]
    }
   ],
   "source": [
    "study = optuna.create_study(direction='maximize') # povemo ali zelimo minimizirati ali maximizirati\n",
    "study.optimize(objective, n_trials=100)\n",
    "\n",
    "trial = study.best_trial\n",
    "\n",
    "print('Accuracy: {}'.format(trial.value))\n",
    "print(\"Best hyperparameters: {}\".format(trial.params))"
   ]
  },
  {
   "cell_type": "code",
   "execution_count": 26,
   "id": "0059a9df",
   "metadata": {},
   "outputs": [],
   "source": [
    "import sklearn.svm\n",
    "\n",
    "def objective(trial):\n",
    "    iris = sklearn.datasets.load_iris()\n",
    "\n",
    "    classifier = trial.suggest_categorical('classifier', ['RandomForest', 'SVC'])\n",
    "    \n",
    "    if classifier == 'RandomForest':\n",
    "        n_estimators = trial.suggest_int('n_estimators', 2, 20)\n",
    "        max_depth = int(trial.suggest_float('max_depth', 1, 32, log=True))\n",
    "\n",
    "        clf = sklearn.ensemble.RandomForestClassifier(\n",
    "            n_estimators=n_estimators, max_depth=max_depth)\n",
    "    else:\n",
    "        c = trial.suggest_float('svc_c', 1e-10, 1e10, log=True)\n",
    "        \n",
    "        clf = sklearn.svm.SVC(C=c, gamma='auto')\n",
    "\n",
    "    return sklearn.model_selection.cross_val_score(\n",
    "        clf, iris.data, iris.target, n_jobs=-1, cv=3).mean()"
   ]
  },
  {
   "cell_type": "code",
   "execution_count": 27,
   "id": "dde411c9",
   "metadata": {},
   "outputs": [
    {
     "name": "stderr",
     "output_type": "stream",
     "text": [
      "\u001b[32m[I 2023-03-06 17:41:07,618]\u001b[0m A new study created in memory with name: no-name-70c0da1f-8fd8-43a7-9ca2-717c9bb97aae\u001b[0m\n",
      "\u001b[32m[I 2023-03-06 17:41:07,632]\u001b[0m Trial 0 finished with value: 0.32 and parameters: {'classifier': 'SVC', 'svc_c': 0.0009045180894086956}. Best is trial 0 with value: 0.32.\u001b[0m\n",
      "\u001b[32m[I 2023-03-06 17:41:07,645]\u001b[0m Trial 1 finished with value: 0.9333333333333332 and parameters: {'classifier': 'RandomForest', 'n_estimators': 2, 'max_depth': 2.718545400558641}. Best is trial 1 with value: 0.9333333333333332.\u001b[0m\n",
      "\u001b[32m[I 2023-03-06 17:41:07,690]\u001b[0m Trial 2 finished with value: 0.9533333333333333 and parameters: {'classifier': 'RandomForest', 'n_estimators': 17, 'max_depth': 10.281217050092664}. Best is trial 2 with value: 0.9533333333333333.\u001b[0m\n",
      "\u001b[32m[I 2023-03-06 17:41:07,703]\u001b[0m Trial 3 finished with value: 0.96 and parameters: {'classifier': 'SVC', 'svc_c': 5491378.631571285}. Best is trial 3 with value: 0.96.\u001b[0m\n",
      "\u001b[32m[I 2023-03-06 17:41:07,714]\u001b[0m Trial 4 finished with value: 0.9466666666666667 and parameters: {'classifier': 'SVC', 'svc_c': 0.11784634708296123}. Best is trial 3 with value: 0.96.\u001b[0m\n",
      "\u001b[32m[I 2023-03-06 17:41:07,756]\u001b[0m Trial 5 finished with value: 0.96 and parameters: {'classifier': 'RandomForest', 'n_estimators': 18, 'max_depth': 4.620869752739024}. Best is trial 3 with value: 0.96.\u001b[0m\n",
      "\u001b[32m[I 2023-03-06 17:41:07,796]\u001b[0m Trial 6 finished with value: 0.96 and parameters: {'classifier': 'RandomForest', 'n_estimators': 18, 'max_depth': 1.9152890709966175}. Best is trial 3 with value: 0.96.\u001b[0m\n",
      "\u001b[32m[I 2023-03-06 17:41:07,803]\u001b[0m Trial 7 finished with value: 0.9466666666666667 and parameters: {'classifier': 'SVC', 'svc_c': 385.64445235885916}. Best is trial 3 with value: 0.96.\u001b[0m\n",
      "\u001b[32m[I 2023-03-06 17:41:07,820]\u001b[0m Trial 8 finished with value: 0.96 and parameters: {'classifier': 'RandomForest', 'n_estimators': 2, 'max_depth': 3.1978037867526883}. Best is trial 3 with value: 0.96.\u001b[0m\n",
      "\u001b[32m[I 2023-03-06 17:41:07,839]\u001b[0m Trial 9 finished with value: 0.9533333333333333 and parameters: {'classifier': 'RandomForest', 'n_estimators': 6, 'max_depth': 5.275972868903182}. Best is trial 3 with value: 0.96.\u001b[0m\n",
      "\u001b[32m[I 2023-03-06 17:41:07,857]\u001b[0m Trial 10 finished with value: 0.96 and parameters: {'classifier': 'SVC', 'svc_c': 1072501280.6620493}. Best is trial 3 with value: 0.96.\u001b[0m\n",
      "\u001b[32m[I 2023-03-06 17:41:07,875]\u001b[0m Trial 11 finished with value: 0.32 and parameters: {'classifier': 'SVC', 'svc_c': 1.973417512276295e-10}. Best is trial 3 with value: 0.96.\u001b[0m\n",
      "\u001b[32m[I 2023-03-06 17:41:07,924]\u001b[0m Trial 12 finished with value: 0.9666666666666667 and parameters: {'classifier': 'RandomForest', 'n_estimators': 13, 'max_depth': 29.86432728936162}. Best is trial 12 with value: 0.9666666666666667.\u001b[0m\n",
      "\u001b[32m[I 2023-03-06 17:41:07,938]\u001b[0m Trial 13 finished with value: 0.96 and parameters: {'classifier': 'SVC', 'svc_c': 1680965009.8398452}. Best is trial 12 with value: 0.9666666666666667.\u001b[0m\n",
      "\u001b[32m[I 2023-03-06 17:41:07,951]\u001b[0m Trial 14 finished with value: 0.96 and parameters: {'classifier': 'SVC', 'svc_c': 26224.94394083627}. Best is trial 12 with value: 0.9666666666666667.\u001b[0m\n",
      "\u001b[32m[I 2023-03-06 17:41:07,989]\u001b[0m Trial 15 finished with value: 0.96 and parameters: {'classifier': 'RandomForest', 'n_estimators': 9, 'max_depth': 31.831369501034033}. Best is trial 12 with value: 0.9666666666666667.\u001b[0m\n",
      "\u001b[32m[I 2023-03-06 17:41:08,024]\u001b[0m Trial 16 finished with value: 0.9466666666666667 and parameters: {'classifier': 'RandomForest', 'n_estimators': 12, 'max_depth': 31.092609648433378}. Best is trial 12 with value: 0.9666666666666667.\u001b[0m\n",
      "\u001b[32m[I 2023-03-06 17:41:08,041]\u001b[0m Trial 17 finished with value: 0.96 and parameters: {'classifier': 'SVC', 'svc_c': 255119.02726885912}. Best is trial 12 with value: 0.9666666666666667.\u001b[0m\n",
      "\u001b[32m[I 2023-03-06 17:41:08,089]\u001b[0m Trial 18 finished with value: 0.8066666666666666 and parameters: {'classifier': 'RandomForest', 'n_estimators': 13, 'max_depth': 1.000319607144878}. Best is trial 12 with value: 0.9666666666666667.\u001b[0m\n",
      "\u001b[32m[I 2023-03-06 17:41:08,102]\u001b[0m Trial 19 finished with value: 0.96 and parameters: {'classifier': 'SVC', 'svc_c': 9069725867.967178}. Best is trial 12 with value: 0.9666666666666667.\u001b[0m\n",
      "\u001b[32m[I 2023-03-06 17:41:08,150]\u001b[0m Trial 20 finished with value: 0.9466666666666667 and parameters: {'classifier': 'RandomForest', 'n_estimators': 14, 'max_depth': 13.551636851907636}. Best is trial 12 with value: 0.9666666666666667.\u001b[0m\n",
      "\u001b[32m[I 2023-03-06 17:41:08,200]\u001b[0m Trial 21 finished with value: 0.9466666666666667 and parameters: {'classifier': 'RandomForest', 'n_estimators': 20, 'max_depth': 8.630597967922498}. Best is trial 12 with value: 0.9666666666666667.\u001b[0m\n",
      "\u001b[32m[I 2023-03-06 17:41:08,238]\u001b[0m Trial 22 finished with value: 0.9533333333333333 and parameters: {'classifier': 'RandomForest', 'n_estimators': 15, 'max_depth': 19.642128240939147}. Best is trial 12 with value: 0.9666666666666667.\u001b[0m\n",
      "\u001b[32m[I 2023-03-06 17:41:08,269]\u001b[0m Trial 23 finished with value: 0.9533333333333333 and parameters: {'classifier': 'RandomForest', 'n_estimators': 9, 'max_depth': 6.32501538744069}. Best is trial 12 with value: 0.9666666666666667.\u001b[0m\n",
      "\u001b[32m[I 2023-03-06 17:41:08,329]\u001b[0m Trial 24 finished with value: 0.9533333333333333 and parameters: {'classifier': 'RandomForest', 'n_estimators': 20, 'max_depth': 5.3243327448598246}. Best is trial 12 with value: 0.9666666666666667.\u001b[0m\n",
      "\u001b[32m[I 2023-03-06 17:41:08,405]\u001b[0m Trial 25 finished with value: 0.94 and parameters: {'classifier': 'RandomForest', 'n_estimators': 16, 'max_depth': 18.900056852797597}. Best is trial 12 with value: 0.9666666666666667.\u001b[0m\n",
      "\u001b[32m[I 2023-03-06 17:41:08,420]\u001b[0m Trial 26 finished with value: 0.96 and parameters: {'classifier': 'SVC', 'svc_c': 597870.4462954544}. Best is trial 12 with value: 0.9666666666666667.\u001b[0m\n",
      "\u001b[32m[I 2023-03-06 17:41:08,455]\u001b[0m Trial 27 finished with value: 0.9533333333333333 and parameters: {'classifier': 'RandomForest', 'n_estimators': 10, 'max_depth': 8.618220526166706}. Best is trial 12 with value: 0.9666666666666667.\u001b[0m\n",
      "\u001b[32m[I 2023-03-06 17:41:08,468]\u001b[0m Trial 28 finished with value: 0.9733333333333333 and parameters: {'classifier': 'SVC', 'svc_c': 13.02574482211636}. Best is trial 28 with value: 0.9733333333333333.\u001b[0m\n",
      "\u001b[32m[I 2023-03-06 17:41:08,487]\u001b[0m Trial 29 finished with value: 0.9666666666666667 and parameters: {'classifier': 'SVC', 'svc_c': 18.6487494970333}. Best is trial 28 with value: 0.9733333333333333.\u001b[0m\n",
      "\u001b[32m[I 2023-03-06 17:41:08,503]\u001b[0m Trial 30 finished with value: 0.9733333333333333 and parameters: {'classifier': 'SVC', 'svc_c': 2.5632636297654217}. Best is trial 28 with value: 0.9733333333333333.\u001b[0m\n",
      "\u001b[32m[I 2023-03-06 17:41:08,522]\u001b[0m Trial 31 finished with value: 0.9666666666666667 and parameters: {'classifier': 'SVC', 'svc_c': 18.838907041037913}. Best is trial 28 with value: 0.9733333333333333.\u001b[0m\n",
      "\u001b[32m[I 2023-03-06 17:41:08,538]\u001b[0m Trial 32 finished with value: 0.9666666666666667 and parameters: {'classifier': 'SVC', 'svc_c': 0.531406515970667}. Best is trial 28 with value: 0.9733333333333333.\u001b[0m\n",
      "\u001b[32m[I 2023-03-06 17:41:08,556]\u001b[0m Trial 33 finished with value: 0.32 and parameters: {'classifier': 'SVC', 'svc_c': 0.01605026387214724}. Best is trial 28 with value: 0.9733333333333333.\u001b[0m\n",
      "\u001b[32m[I 2023-03-06 17:41:08,574]\u001b[0m Trial 34 finished with value: 0.9466666666666667 and parameters: {'classifier': 'SVC', 'svc_c': 188.98452966472493}. Best is trial 28 with value: 0.9733333333333333.\u001b[0m\n",
      "\u001b[32m[I 2023-03-06 17:41:08,589]\u001b[0m Trial 35 finished with value: 0.32 and parameters: {'classifier': 'SVC', 'svc_c': 0.0009730162785428121}. Best is trial 28 with value: 0.9733333333333333.\u001b[0m\n",
      "\u001b[32m[I 2023-03-06 17:41:08,605]\u001b[0m Trial 36 finished with value: 0.98 and parameters: {'classifier': 'SVC', 'svc_c': 8.911472681138576}. Best is trial 36 with value: 0.98.\u001b[0m\n",
      "\u001b[32m[I 2023-03-06 17:41:08,618]\u001b[0m Trial 37 finished with value: 0.96 and parameters: {'classifier': 'SVC', 'svc_c': 6386.4130850269585}. Best is trial 36 with value: 0.98.\u001b[0m\n",
      "\u001b[32m[I 2023-03-06 17:41:08,638]\u001b[0m Trial 38 finished with value: 0.9733333333333333 and parameters: {'classifier': 'SVC', 'svc_c': 2.057144242602144}. Best is trial 36 with value: 0.98.\u001b[0m\n",
      "\u001b[32m[I 2023-03-06 17:41:08,656]\u001b[0m Trial 39 finished with value: 0.98 and parameters: {'classifier': 'SVC', 'svc_c': 6.688272131495439}. Best is trial 36 with value: 0.98.\u001b[0m\n",
      "\u001b[32m[I 2023-03-06 17:41:08,670]\u001b[0m Trial 40 finished with value: 0.96 and parameters: {'classifier': 'SVC', 'svc_c': 592.0528865307195}. Best is trial 36 with value: 0.98.\u001b[0m\n",
      "\u001b[32m[I 2023-03-06 17:41:08,684]\u001b[0m Trial 41 finished with value: 0.9866666666666667 and parameters: {'classifier': 'SVC', 'svc_c': 3.9974290491975717}. Best is trial 41 with value: 0.9866666666666667.\u001b[0m\n",
      "\u001b[32m[I 2023-03-06 17:41:08,703]\u001b[0m Trial 42 finished with value: 0.98 and parameters: {'classifier': 'SVC', 'svc_c': 5.016370356364193}. Best is trial 41 with value: 0.9866666666666667.\u001b[0m\n",
      "\u001b[32m[I 2023-03-06 17:41:08,718]\u001b[0m Trial 43 finished with value: 0.9666666666666667 and parameters: {'classifier': 'SVC', 'svc_c': 18.54886914726841}. Best is trial 41 with value: 0.9866666666666667.\u001b[0m\n",
      "\u001b[32m[I 2023-03-06 17:41:08,735]\u001b[0m Trial 44 finished with value: 0.94 and parameters: {'classifier': 'SVC', 'svc_c': 0.07229271296994848}. Best is trial 41 with value: 0.9866666666666667.\u001b[0m\n",
      "\u001b[32m[I 2023-03-06 17:41:08,751]\u001b[0m Trial 45 finished with value: 0.96 and parameters: {'classifier': 'SVC', 'svc_c': 119.82759028904036}. Best is trial 41 with value: 0.9866666666666667.\u001b[0m\n",
      "\u001b[32m[I 2023-03-06 17:41:08,770]\u001b[0m Trial 46 finished with value: 0.98 and parameters: {'classifier': 'SVC', 'svc_c': 3.6205227737204506}. Best is trial 41 with value: 0.9866666666666667.\u001b[0m\n",
      "\u001b[32m[I 2023-03-06 17:41:08,786]\u001b[0m Trial 47 finished with value: 0.9666666666666667 and parameters: {'classifier': 'SVC', 'svc_c': 0.7934177908785084}. Best is trial 41 with value: 0.9866666666666667.\u001b[0m\n",
      "\u001b[32m[I 2023-03-06 17:41:08,803]\u001b[0m Trial 48 finished with value: 0.32 and parameters: {'classifier': 'SVC', 'svc_c': 0.009464163035410847}. Best is trial 41 with value: 0.9866666666666667.\u001b[0m\n",
      "\u001b[32m[I 2023-03-06 17:41:08,817]\u001b[0m Trial 49 finished with value: 0.96 and parameters: {'classifier': 'SVC', 'svc_c': 0.27180471260161104}. Best is trial 41 with value: 0.9866666666666667.\u001b[0m\n",
      "\u001b[32m[I 2023-03-06 17:41:08,834]\u001b[0m Trial 50 finished with value: 0.96 and parameters: {'classifier': 'SVC', 'svc_c': 3651.1334093148594}. Best is trial 41 with value: 0.9866666666666667.\u001b[0m\n",
      "\u001b[32m[I 2023-03-06 17:41:08,845]\u001b[0m Trial 51 finished with value: 0.98 and parameters: {'classifier': 'SVC', 'svc_c': 9.5301811736647}. Best is trial 41 with value: 0.9866666666666667.\u001b[0m\n",
      "\u001b[32m[I 2023-03-06 17:41:08,859]\u001b[0m Trial 52 finished with value: 0.9866666666666667 and parameters: {'classifier': 'SVC', 'svc_c': 3.852859183896546}. Best is trial 41 with value: 0.9866666666666667.\u001b[0m\n",
      "\u001b[32m[I 2023-03-06 17:41:08,874]\u001b[0m Trial 53 finished with value: 0.9466666666666667 and parameters: {'classifier': 'SVC', 'svc_c': 0.11978446745989033}. Best is trial 41 with value: 0.9866666666666667.\u001b[0m\n",
      "\u001b[32m[I 2023-03-06 17:41:08,890]\u001b[0m Trial 54 finished with value: 0.9466666666666667 and parameters: {'classifier': 'SVC', 'svc_c': 302.7983228074025}. Best is trial 41 with value: 0.9866666666666667.\u001b[0m\n",
      "\u001b[32m[I 2023-03-06 17:41:08,905]\u001b[0m Trial 55 finished with value: 0.9733333333333333 and parameters: {'classifier': 'SVC', 'svc_c': 1.7343446681848038}. Best is trial 41 with value: 0.9866666666666667.\u001b[0m\n",
      "\u001b[32m[I 2023-03-06 17:41:08,921]\u001b[0m Trial 56 finished with value: 0.96 and parameters: {'classifier': 'SVC', 'svc_c': 53.708865851164234}. Best is trial 41 with value: 0.9866666666666667.\u001b[0m\n",
      "\u001b[32m[I 2023-03-06 17:41:08,939]\u001b[0m Trial 57 finished with value: 0.32 and parameters: {'classifier': 'SVC', 'svc_c': 0.017197975636524032}. Best is trial 41 with value: 0.9866666666666667.\u001b[0m\n",
      "\u001b[32m[I 2023-03-06 17:41:08,954]\u001b[0m Trial 58 finished with value: 0.96 and parameters: {'classifier': 'SVC', 'svc_c': 1182.0805181790518}. Best is trial 41 with value: 0.9866666666666667.\u001b[0m\n",
      "\u001b[32m[I 2023-03-06 17:41:08,973]\u001b[0m Trial 59 finished with value: 0.9733333333333333 and parameters: {'classifier': 'SVC', 'svc_c': 2.608567089682036}. Best is trial 41 with value: 0.9866666666666667.\u001b[0m\n",
      "\u001b[32m[I 2023-03-06 17:41:08,988]\u001b[0m Trial 60 finished with value: 0.9466666666666667 and parameters: {'classifier': 'SVC', 'svc_c': 176.92353977551778}. Best is trial 41 with value: 0.9866666666666667.\u001b[0m\n",
      "\u001b[32m[I 2023-03-06 17:41:09,009]\u001b[0m Trial 61 finished with value: 0.98 and parameters: {'classifier': 'SVC', 'svc_c': 8.551065521835834}. Best is trial 41 with value: 0.9866666666666667.\u001b[0m\n",
      "\u001b[32m[I 2023-03-06 17:41:09,024]\u001b[0m Trial 62 finished with value: 0.9666666666666667 and parameters: {'classifier': 'SVC', 'svc_c': 0.16987591926593645}. Best is trial 41 with value: 0.9866666666666667.\u001b[0m\n",
      "\u001b[32m[I 2023-03-06 17:41:09,042]\u001b[0m Trial 63 finished with value: 0.96 and parameters: {'classifier': 'SVC', 'svc_c': 35.843330540367184}. Best is trial 41 with value: 0.9866666666666667.\u001b[0m\n",
      "\u001b[32m[I 2023-03-06 17:41:09,057]\u001b[0m Trial 64 finished with value: 0.9733333333333333 and parameters: {'classifier': 'SVC', 'svc_c': 2.09606717965928}. Best is trial 41 with value: 0.9866666666666667.\u001b[0m\n",
      "\u001b[32m[I 2023-03-06 17:41:09,075]\u001b[0m Trial 65 finished with value: 0.98 and parameters: {'classifier': 'SVC', 'svc_c': 5.6417442015759365}. Best is trial 41 with value: 0.9866666666666667.\u001b[0m\n",
      "\u001b[32m[I 2023-03-06 17:41:09,095]\u001b[0m Trial 66 finished with value: 0.96 and parameters: {'classifier': 'SVC', 'svc_c': 43.791034508237196}. Best is trial 41 with value: 0.9866666666666667.\u001b[0m\n",
      "\u001b[32m[I 2023-03-06 17:41:09,115]\u001b[0m Trial 67 finished with value: 0.96 and parameters: {'classifier': 'SVC', 'svc_c': 0.33368157560419304}. Best is trial 41 with value: 0.9866666666666667.\u001b[0m\n",
      "\u001b[32m[I 2023-03-06 17:41:09,135]\u001b[0m Trial 68 finished with value: 0.96 and parameters: {'classifier': 'SVC', 'svc_c': 1527.924813287227}. Best is trial 41 with value: 0.9866666666666667.\u001b[0m\n",
      "\u001b[32m[I 2023-03-06 17:41:09,150]\u001b[0m Trial 69 finished with value: 0.96 and parameters: {'classifier': 'SVC', 'svc_c': 16033.575483140281}. Best is trial 41 with value: 0.9866666666666667.\u001b[0m\n",
      "\u001b[32m[I 2023-03-06 17:41:09,171]\u001b[0m Trial 70 finished with value: 0.9866666666666667 and parameters: {'classifier': 'SVC', 'svc_c': 4.5302936294173595}. Best is trial 41 with value: 0.9866666666666667.\u001b[0m\n",
      "\u001b[32m[I 2023-03-06 17:41:09,186]\u001b[0m Trial 71 finished with value: 0.98 and parameters: {'classifier': 'SVC', 'svc_c': 8.489430769321466}. Best is trial 41 with value: 0.9866666666666667.\u001b[0m\n",
      "\u001b[32m[I 2023-03-06 17:41:09,200]\u001b[0m Trial 72 finished with value: 0.96 and parameters: {'classifier': 'SVC', 'svc_c': 72.09886156184115}. Best is trial 41 with value: 0.9866666666666667.\u001b[0m\n",
      "\u001b[32m[I 2023-03-06 17:41:09,215]\u001b[0m Trial 73 finished with value: 0.9733333333333333 and parameters: {'classifier': 'SVC', 'svc_c': 1.9350328042832254}. Best is trial 41 with value: 0.9866666666666667.\u001b[0m\n",
      "\u001b[32m[I 2023-03-06 17:41:09,235]\u001b[0m Trial 74 finished with value: 0.9666666666666667 and parameters: {'classifier': 'SVC', 'svc_c': 0.6154875887490414}. Best is trial 41 with value: 0.9866666666666667.\u001b[0m\n",
      "\u001b[32m[I 2023-03-06 17:41:09,250]\u001b[0m Trial 75 finished with value: 0.98 and parameters: {'classifier': 'SVC', 'svc_c': 7.519098178586144}. Best is trial 41 with value: 0.9866666666666667.\u001b[0m\n",
      "\u001b[32m[I 2023-03-06 17:41:09,265]\u001b[0m Trial 76 finished with value: 0.9466666666666667 and parameters: {'classifier': 'SVC', 'svc_c': 373.9851579698634}. Best is trial 41 with value: 0.9866666666666667.\u001b[0m\n",
      "\u001b[32m[I 2023-03-06 17:41:09,279]\u001b[0m Trial 77 finished with value: 0.9666666666666667 and parameters: {'classifier': 'SVC', 'svc_c': 27.855149732057807}. Best is trial 41 with value: 0.9866666666666667.\u001b[0m\n",
      "\u001b[32m[I 2023-03-06 17:41:09,297]\u001b[0m Trial 78 finished with value: 0.8933333333333332 and parameters: {'classifier': 'SVC', 'svc_c': 0.04675525663024863}. Best is trial 41 with value: 0.9866666666666667.\u001b[0m\n",
      "\u001b[32m[I 2023-03-06 17:41:09,314]\u001b[0m Trial 79 finished with value: 0.9666666666666667 and parameters: {'classifier': 'SVC', 'svc_c': 0.5670647030184262}. Best is trial 41 with value: 0.9866666666666667.\u001b[0m\n",
      "\u001b[32m[I 2023-03-06 17:41:09,340]\u001b[0m Trial 80 finished with value: 0.7799999999999999 and parameters: {'classifier': 'RandomForest', 'n_estimators': 5, 'max_depth': 1.0246293786103666}. Best is trial 41 with value: 0.9866666666666667.\u001b[0m\n",
      "\u001b[32m[I 2023-03-06 17:41:09,355]\u001b[0m Trial 81 finished with value: 0.98 and parameters: {'classifier': 'SVC', 'svc_c': 8.637476927418975}. Best is trial 41 with value: 0.9866666666666667.\u001b[0m\n",
      "\u001b[32m[I 2023-03-06 17:41:09,368]\u001b[0m Trial 82 finished with value: 0.98 and parameters: {'classifier': 'SVC', 'svc_c': 5.539902266220755}. Best is trial 41 with value: 0.9866666666666667.\u001b[0m\n",
      "\u001b[32m[I 2023-03-06 17:41:09,386]\u001b[0m Trial 83 finished with value: 0.96 and parameters: {'classifier': 'SVC', 'svc_c': 83.33274423672817}. Best is trial 41 with value: 0.9866666666666667.\u001b[0m\n",
      "\u001b[32m[I 2023-03-06 17:41:09,404]\u001b[0m Trial 84 finished with value: 0.9733333333333333 and parameters: {'classifier': 'SVC', 'svc_c': 12.625362541624323}. Best is trial 41 with value: 0.9866666666666667.\u001b[0m\n",
      "\u001b[32m[I 2023-03-06 17:41:09,419]\u001b[0m Trial 85 finished with value: 0.9666666666666667 and parameters: {'classifier': 'SVC', 'svc_c': 1.4083110497341942}. Best is trial 41 with value: 0.9866666666666667.\u001b[0m\n",
      "\u001b[32m[I 2023-03-06 17:41:09,436]\u001b[0m Trial 86 finished with value: 0.96 and parameters: {'classifier': 'SVC', 'svc_c': 0.17436455097360906}. Best is trial 41 with value: 0.9866666666666667.\u001b[0m\n",
      "\u001b[32m[I 2023-03-06 17:41:09,453]\u001b[0m Trial 87 finished with value: 0.9466666666666667 and parameters: {'classifier': 'SVC', 'svc_c': 294.4821638800608}. Best is trial 41 with value: 0.9866666666666667.\u001b[0m\n",
      "\u001b[32m[I 2023-03-06 17:41:09,467]\u001b[0m Trial 88 finished with value: 0.96 and parameters: {'classifier': 'SVC', 'svc_c': 29.29844395723663}. Best is trial 41 with value: 0.9866666666666667.\u001b[0m\n",
      "\u001b[32m[I 2023-03-06 17:41:09,487]\u001b[0m Trial 89 finished with value: 0.9666666666666667 and parameters: {'classifier': 'SVC', 'svc_c': 0.6192746608327845}. Best is trial 41 with value: 0.9866666666666667.\u001b[0m\n",
      "\u001b[32m[I 2023-03-06 17:41:09,502]\u001b[0m Trial 90 finished with value: 0.8933333333333332 and parameters: {'classifier': 'SVC', 'svc_c': 0.04906560170565438}. Best is trial 41 with value: 0.9866666666666667.\u001b[0m\n",
      "\u001b[32m[I 2023-03-06 17:41:09,517]\u001b[0m Trial 91 finished with value: 0.9866666666666667 and parameters: {'classifier': 'SVC', 'svc_c': 4.679585960927481}. Best is trial 41 with value: 0.9866666666666667.\u001b[0m\n",
      "\u001b[32m[I 2023-03-06 17:41:09,537]\u001b[0m Trial 92 finished with value: 0.9866666666666667 and parameters: {'classifier': 'SVC', 'svc_c': 3.9874299063448757}. Best is trial 41 with value: 0.9866666666666667.\u001b[0m\n",
      "\u001b[32m[I 2023-03-06 17:41:09,556]\u001b[0m Trial 93 finished with value: 0.9866666666666667 and parameters: {'classifier': 'SVC', 'svc_c': 4.325833195112776}. Best is trial 41 with value: 0.9866666666666667.\u001b[0m\n",
      "\u001b[32m[I 2023-03-06 17:41:09,572]\u001b[0m Trial 94 finished with value: 0.9733333333333333 and parameters: {'classifier': 'SVC', 'svc_c': 1.7222024109930731}. Best is trial 41 with value: 0.9866666666666667.\u001b[0m\n",
      "\u001b[32m[I 2023-03-06 17:41:09,602]\u001b[0m Trial 95 finished with value: 0.7666666666666666 and parameters: {'classifier': 'RandomForest', 'n_estimators': 6, 'max_depth': 1.5153889802774057}. Best is trial 41 with value: 0.9866666666666667.\u001b[0m\n",
      "\u001b[32m[I 2023-03-06 17:41:09,617]\u001b[0m Trial 96 finished with value: 0.96 and parameters: {'classifier': 'SVC', 'svc_c': 119.49595599563611}. Best is trial 41 with value: 0.9866666666666667.\u001b[0m\n",
      "\u001b[32m[I 2023-03-06 17:41:09,633]\u001b[0m Trial 97 finished with value: 0.96 and parameters: {'classifier': 'SVC', 'svc_c': 0.3499882632562512}. Best is trial 41 with value: 0.9866666666666667.\u001b[0m\n",
      "\u001b[32m[I 2023-03-06 17:41:09,647]\u001b[0m Trial 98 finished with value: 0.98 and parameters: {'classifier': 'SVC', 'svc_c': 3.625299407917015}. Best is trial 41 with value: 0.9866666666666667.\u001b[0m\n",
      "\u001b[32m[I 2023-03-06 17:41:09,664]\u001b[0m Trial 99 finished with value: 0.96 and parameters: {'classifier': 'SVC', 'svc_c': 34.56888326955926}. Best is trial 41 with value: 0.9866666666666667.\u001b[0m\n"
     ]
    },
    {
     "name": "stdout",
     "output_type": "stream",
     "text": [
      "Accuracy: 0.9866666666666667\n",
      "Best hyperparameters: {'classifier': 'SVC', 'svc_c': 3.9974290491975717}\n"
     ]
    }
   ],
   "source": [
    "study = optuna.create_study(direction='maximize')\n",
    "study.optimize(objective, n_trials=100)\n",
    "\n",
    "trial = study.best_trial\n",
    "\n",
    "print('Accuracy: {}'.format(trial.value))\n",
    "print(\"Best hyperparameters: {}\".format(trial.params))"
   ]
  },
  {
   "cell_type": "code",
   "execution_count": 28,
   "id": "26c50c19",
   "metadata": {},
   "outputs": [
    {
     "data": {
      "application/vnd.plotly.v1+json": {
       "config": {
        "plotlyServerURL": "https://plot.ly"
       },
       "data": [
        {
         "mode": "markers",
         "name": "Objective Value",
         "type": "scatter",
         "x": [
          0,
          1,
          2,
          3,
          4,
          5,
          6,
          7,
          8,
          9,
          10,
          11,
          12,
          13,
          14,
          15,
          16,
          17,
          18,
          19,
          20,
          21,
          22,
          23,
          24,
          25,
          26,
          27,
          28,
          29,
          30,
          31,
          32,
          33,
          34,
          35,
          36,
          37,
          38,
          39,
          40,
          41,
          42,
          43,
          44,
          45,
          46,
          47,
          48,
          49,
          50,
          51,
          52,
          53,
          54,
          55,
          56,
          57,
          58,
          59,
          60,
          61,
          62,
          63,
          64,
          65,
          66,
          67,
          68,
          69,
          70,
          71,
          72,
          73,
          74,
          75,
          76,
          77,
          78,
          79,
          80,
          81,
          82,
          83,
          84,
          85,
          86,
          87,
          88,
          89,
          90,
          91,
          92,
          93,
          94,
          95,
          96,
          97,
          98,
          99
         ],
         "y": [
          0.32,
          0.9333333333333332,
          0.9533333333333333,
          0.96,
          0.9466666666666667,
          0.96,
          0.96,
          0.9466666666666667,
          0.96,
          0.9533333333333333,
          0.96,
          0.32,
          0.9666666666666667,
          0.96,
          0.96,
          0.96,
          0.9466666666666667,
          0.96,
          0.8066666666666666,
          0.96,
          0.9466666666666667,
          0.9466666666666667,
          0.9533333333333333,
          0.9533333333333333,
          0.9533333333333333,
          0.94,
          0.96,
          0.9533333333333333,
          0.9733333333333333,
          0.9666666666666667,
          0.9733333333333333,
          0.9666666666666667,
          0.9666666666666667,
          0.32,
          0.9466666666666667,
          0.32,
          0.98,
          0.96,
          0.9733333333333333,
          0.98,
          0.96,
          0.9866666666666667,
          0.98,
          0.9666666666666667,
          0.94,
          0.96,
          0.98,
          0.9666666666666667,
          0.32,
          0.96,
          0.96,
          0.98,
          0.9866666666666667,
          0.9466666666666667,
          0.9466666666666667,
          0.9733333333333333,
          0.96,
          0.32,
          0.96,
          0.9733333333333333,
          0.9466666666666667,
          0.98,
          0.9666666666666667,
          0.96,
          0.9733333333333333,
          0.98,
          0.96,
          0.96,
          0.96,
          0.96,
          0.9866666666666667,
          0.98,
          0.96,
          0.9733333333333333,
          0.9666666666666667,
          0.98,
          0.9466666666666667,
          0.9666666666666667,
          0.8933333333333332,
          0.9666666666666667,
          0.7799999999999999,
          0.98,
          0.98,
          0.96,
          0.9733333333333333,
          0.9666666666666667,
          0.96,
          0.9466666666666667,
          0.96,
          0.9666666666666667,
          0.8933333333333332,
          0.9866666666666667,
          0.9866666666666667,
          0.9866666666666667,
          0.9733333333333333,
          0.7666666666666666,
          0.96,
          0.96,
          0.98,
          0.96
         ]
        },
        {
         "name": "Best Value",
         "type": "scatter",
         "x": [
          0,
          1,
          2,
          3,
          4,
          5,
          6,
          7,
          8,
          9,
          10,
          11,
          12,
          13,
          14,
          15,
          16,
          17,
          18,
          19,
          20,
          21,
          22,
          23,
          24,
          25,
          26,
          27,
          28,
          29,
          30,
          31,
          32,
          33,
          34,
          35,
          36,
          37,
          38,
          39,
          40,
          41,
          42,
          43,
          44,
          45,
          46,
          47,
          48,
          49,
          50,
          51,
          52,
          53,
          54,
          55,
          56,
          57,
          58,
          59,
          60,
          61,
          62,
          63,
          64,
          65,
          66,
          67,
          68,
          69,
          70,
          71,
          72,
          73,
          74,
          75,
          76,
          77,
          78,
          79,
          80,
          81,
          82,
          83,
          84,
          85,
          86,
          87,
          88,
          89,
          90,
          91,
          92,
          93,
          94,
          95,
          96,
          97,
          98,
          99
         ],
         "y": [
          0.32,
          0.9333333333333332,
          0.9533333333333333,
          0.96,
          0.96,
          0.96,
          0.96,
          0.96,
          0.96,
          0.96,
          0.96,
          0.96,
          0.9666666666666667,
          0.9666666666666667,
          0.9666666666666667,
          0.9666666666666667,
          0.9666666666666667,
          0.9666666666666667,
          0.9666666666666667,
          0.9666666666666667,
          0.9666666666666667,
          0.9666666666666667,
          0.9666666666666667,
          0.9666666666666667,
          0.9666666666666667,
          0.9666666666666667,
          0.9666666666666667,
          0.9666666666666667,
          0.9733333333333333,
          0.9733333333333333,
          0.9733333333333333,
          0.9733333333333333,
          0.9733333333333333,
          0.9733333333333333,
          0.9733333333333333,
          0.9733333333333333,
          0.98,
          0.98,
          0.98,
          0.98,
          0.98,
          0.9866666666666667,
          0.9866666666666667,
          0.9866666666666667,
          0.9866666666666667,
          0.9866666666666667,
          0.9866666666666667,
          0.9866666666666667,
          0.9866666666666667,
          0.9866666666666667,
          0.9866666666666667,
          0.9866666666666667,
          0.9866666666666667,
          0.9866666666666667,
          0.9866666666666667,
          0.9866666666666667,
          0.9866666666666667,
          0.9866666666666667,
          0.9866666666666667,
          0.9866666666666667,
          0.9866666666666667,
          0.9866666666666667,
          0.9866666666666667,
          0.9866666666666667,
          0.9866666666666667,
          0.9866666666666667,
          0.9866666666666667,
          0.9866666666666667,
          0.9866666666666667,
          0.9866666666666667,
          0.9866666666666667,
          0.9866666666666667,
          0.9866666666666667,
          0.9866666666666667,
          0.9866666666666667,
          0.9866666666666667,
          0.9866666666666667,
          0.9866666666666667,
          0.9866666666666667,
          0.9866666666666667,
          0.9866666666666667,
          0.9866666666666667,
          0.9866666666666667,
          0.9866666666666667,
          0.9866666666666667,
          0.9866666666666667,
          0.9866666666666667,
          0.9866666666666667,
          0.9866666666666667,
          0.9866666666666667,
          0.9866666666666667,
          0.9866666666666667,
          0.9866666666666667,
          0.9866666666666667,
          0.9866666666666667,
          0.9866666666666667,
          0.9866666666666667,
          0.9866666666666667,
          0.9866666666666667,
          0.9866666666666667
         ]
        }
       ],
       "layout": {
        "template": {
         "data": {
          "bar": [
           {
            "error_x": {
             "color": "#2a3f5f"
            },
            "error_y": {
             "color": "#2a3f5f"
            },
            "marker": {
             "line": {
              "color": "#E5ECF6",
              "width": 0.5
             },
             "pattern": {
              "fillmode": "overlay",
              "size": 10,
              "solidity": 0.2
             }
            },
            "type": "bar"
           }
          ],
          "barpolar": [
           {
            "marker": {
             "line": {
              "color": "#E5ECF6",
              "width": 0.5
             },
             "pattern": {
              "fillmode": "overlay",
              "size": 10,
              "solidity": 0.2
             }
            },
            "type": "barpolar"
           }
          ],
          "carpet": [
           {
            "aaxis": {
             "endlinecolor": "#2a3f5f",
             "gridcolor": "white",
             "linecolor": "white",
             "minorgridcolor": "white",
             "startlinecolor": "#2a3f5f"
            },
            "baxis": {
             "endlinecolor": "#2a3f5f",
             "gridcolor": "white",
             "linecolor": "white",
             "minorgridcolor": "white",
             "startlinecolor": "#2a3f5f"
            },
            "type": "carpet"
           }
          ],
          "choropleth": [
           {
            "colorbar": {
             "outlinewidth": 0,
             "ticks": ""
            },
            "type": "choropleth"
           }
          ],
          "contour": [
           {
            "colorbar": {
             "outlinewidth": 0,
             "ticks": ""
            },
            "colorscale": [
             [
              0,
              "#0d0887"
             ],
             [
              0.1111111111111111,
              "#46039f"
             ],
             [
              0.2222222222222222,
              "#7201a8"
             ],
             [
              0.3333333333333333,
              "#9c179e"
             ],
             [
              0.4444444444444444,
              "#bd3786"
             ],
             [
              0.5555555555555556,
              "#d8576b"
             ],
             [
              0.6666666666666666,
              "#ed7953"
             ],
             [
              0.7777777777777778,
              "#fb9f3a"
             ],
             [
              0.8888888888888888,
              "#fdca26"
             ],
             [
              1,
              "#f0f921"
             ]
            ],
            "type": "contour"
           }
          ],
          "contourcarpet": [
           {
            "colorbar": {
             "outlinewidth": 0,
             "ticks": ""
            },
            "type": "contourcarpet"
           }
          ],
          "heatmap": [
           {
            "colorbar": {
             "outlinewidth": 0,
             "ticks": ""
            },
            "colorscale": [
             [
              0,
              "#0d0887"
             ],
             [
              0.1111111111111111,
              "#46039f"
             ],
             [
              0.2222222222222222,
              "#7201a8"
             ],
             [
              0.3333333333333333,
              "#9c179e"
             ],
             [
              0.4444444444444444,
              "#bd3786"
             ],
             [
              0.5555555555555556,
              "#d8576b"
             ],
             [
              0.6666666666666666,
              "#ed7953"
             ],
             [
              0.7777777777777778,
              "#fb9f3a"
             ],
             [
              0.8888888888888888,
              "#fdca26"
             ],
             [
              1,
              "#f0f921"
             ]
            ],
            "type": "heatmap"
           }
          ],
          "heatmapgl": [
           {
            "colorbar": {
             "outlinewidth": 0,
             "ticks": ""
            },
            "colorscale": [
             [
              0,
              "#0d0887"
             ],
             [
              0.1111111111111111,
              "#46039f"
             ],
             [
              0.2222222222222222,
              "#7201a8"
             ],
             [
              0.3333333333333333,
              "#9c179e"
             ],
             [
              0.4444444444444444,
              "#bd3786"
             ],
             [
              0.5555555555555556,
              "#d8576b"
             ],
             [
              0.6666666666666666,
              "#ed7953"
             ],
             [
              0.7777777777777778,
              "#fb9f3a"
             ],
             [
              0.8888888888888888,
              "#fdca26"
             ],
             [
              1,
              "#f0f921"
             ]
            ],
            "type": "heatmapgl"
           }
          ],
          "histogram": [
           {
            "marker": {
             "pattern": {
              "fillmode": "overlay",
              "size": 10,
              "solidity": 0.2
             }
            },
            "type": "histogram"
           }
          ],
          "histogram2d": [
           {
            "colorbar": {
             "outlinewidth": 0,
             "ticks": ""
            },
            "colorscale": [
             [
              0,
              "#0d0887"
             ],
             [
              0.1111111111111111,
              "#46039f"
             ],
             [
              0.2222222222222222,
              "#7201a8"
             ],
             [
              0.3333333333333333,
              "#9c179e"
             ],
             [
              0.4444444444444444,
              "#bd3786"
             ],
             [
              0.5555555555555556,
              "#d8576b"
             ],
             [
              0.6666666666666666,
              "#ed7953"
             ],
             [
              0.7777777777777778,
              "#fb9f3a"
             ],
             [
              0.8888888888888888,
              "#fdca26"
             ],
             [
              1,
              "#f0f921"
             ]
            ],
            "type": "histogram2d"
           }
          ],
          "histogram2dcontour": [
           {
            "colorbar": {
             "outlinewidth": 0,
             "ticks": ""
            },
            "colorscale": [
             [
              0,
              "#0d0887"
             ],
             [
              0.1111111111111111,
              "#46039f"
             ],
             [
              0.2222222222222222,
              "#7201a8"
             ],
             [
              0.3333333333333333,
              "#9c179e"
             ],
             [
              0.4444444444444444,
              "#bd3786"
             ],
             [
              0.5555555555555556,
              "#d8576b"
             ],
             [
              0.6666666666666666,
              "#ed7953"
             ],
             [
              0.7777777777777778,
              "#fb9f3a"
             ],
             [
              0.8888888888888888,
              "#fdca26"
             ],
             [
              1,
              "#f0f921"
             ]
            ],
            "type": "histogram2dcontour"
           }
          ],
          "mesh3d": [
           {
            "colorbar": {
             "outlinewidth": 0,
             "ticks": ""
            },
            "type": "mesh3d"
           }
          ],
          "parcoords": [
           {
            "line": {
             "colorbar": {
              "outlinewidth": 0,
              "ticks": ""
             }
            },
            "type": "parcoords"
           }
          ],
          "pie": [
           {
            "automargin": true,
            "type": "pie"
           }
          ],
          "scatter": [
           {
            "fillpattern": {
             "fillmode": "overlay",
             "size": 10,
             "solidity": 0.2
            },
            "type": "scatter"
           }
          ],
          "scatter3d": [
           {
            "line": {
             "colorbar": {
              "outlinewidth": 0,
              "ticks": ""
             }
            },
            "marker": {
             "colorbar": {
              "outlinewidth": 0,
              "ticks": ""
             }
            },
            "type": "scatter3d"
           }
          ],
          "scattercarpet": [
           {
            "marker": {
             "colorbar": {
              "outlinewidth": 0,
              "ticks": ""
             }
            },
            "type": "scattercarpet"
           }
          ],
          "scattergeo": [
           {
            "marker": {
             "colorbar": {
              "outlinewidth": 0,
              "ticks": ""
             }
            },
            "type": "scattergeo"
           }
          ],
          "scattergl": [
           {
            "marker": {
             "colorbar": {
              "outlinewidth": 0,
              "ticks": ""
             }
            },
            "type": "scattergl"
           }
          ],
          "scattermapbox": [
           {
            "marker": {
             "colorbar": {
              "outlinewidth": 0,
              "ticks": ""
             }
            },
            "type": "scattermapbox"
           }
          ],
          "scatterpolar": [
           {
            "marker": {
             "colorbar": {
              "outlinewidth": 0,
              "ticks": ""
             }
            },
            "type": "scatterpolar"
           }
          ],
          "scatterpolargl": [
           {
            "marker": {
             "colorbar": {
              "outlinewidth": 0,
              "ticks": ""
             }
            },
            "type": "scatterpolargl"
           }
          ],
          "scatterternary": [
           {
            "marker": {
             "colorbar": {
              "outlinewidth": 0,
              "ticks": ""
             }
            },
            "type": "scatterternary"
           }
          ],
          "surface": [
           {
            "colorbar": {
             "outlinewidth": 0,
             "ticks": ""
            },
            "colorscale": [
             [
              0,
              "#0d0887"
             ],
             [
              0.1111111111111111,
              "#46039f"
             ],
             [
              0.2222222222222222,
              "#7201a8"
             ],
             [
              0.3333333333333333,
              "#9c179e"
             ],
             [
              0.4444444444444444,
              "#bd3786"
             ],
             [
              0.5555555555555556,
              "#d8576b"
             ],
             [
              0.6666666666666666,
              "#ed7953"
             ],
             [
              0.7777777777777778,
              "#fb9f3a"
             ],
             [
              0.8888888888888888,
              "#fdca26"
             ],
             [
              1,
              "#f0f921"
             ]
            ],
            "type": "surface"
           }
          ],
          "table": [
           {
            "cells": {
             "fill": {
              "color": "#EBF0F8"
             },
             "line": {
              "color": "white"
             }
            },
            "header": {
             "fill": {
              "color": "#C8D4E3"
             },
             "line": {
              "color": "white"
             }
            },
            "type": "table"
           }
          ]
         },
         "layout": {
          "annotationdefaults": {
           "arrowcolor": "#2a3f5f",
           "arrowhead": 0,
           "arrowwidth": 1
          },
          "autotypenumbers": "strict",
          "coloraxis": {
           "colorbar": {
            "outlinewidth": 0,
            "ticks": ""
           }
          },
          "colorscale": {
           "diverging": [
            [
             0,
             "#8e0152"
            ],
            [
             0.1,
             "#c51b7d"
            ],
            [
             0.2,
             "#de77ae"
            ],
            [
             0.3,
             "#f1b6da"
            ],
            [
             0.4,
             "#fde0ef"
            ],
            [
             0.5,
             "#f7f7f7"
            ],
            [
             0.6,
             "#e6f5d0"
            ],
            [
             0.7,
             "#b8e186"
            ],
            [
             0.8,
             "#7fbc41"
            ],
            [
             0.9,
             "#4d9221"
            ],
            [
             1,
             "#276419"
            ]
           ],
           "sequential": [
            [
             0,
             "#0d0887"
            ],
            [
             0.1111111111111111,
             "#46039f"
            ],
            [
             0.2222222222222222,
             "#7201a8"
            ],
            [
             0.3333333333333333,
             "#9c179e"
            ],
            [
             0.4444444444444444,
             "#bd3786"
            ],
            [
             0.5555555555555556,
             "#d8576b"
            ],
            [
             0.6666666666666666,
             "#ed7953"
            ],
            [
             0.7777777777777778,
             "#fb9f3a"
            ],
            [
             0.8888888888888888,
             "#fdca26"
            ],
            [
             1,
             "#f0f921"
            ]
           ],
           "sequentialminus": [
            [
             0,
             "#0d0887"
            ],
            [
             0.1111111111111111,
             "#46039f"
            ],
            [
             0.2222222222222222,
             "#7201a8"
            ],
            [
             0.3333333333333333,
             "#9c179e"
            ],
            [
             0.4444444444444444,
             "#bd3786"
            ],
            [
             0.5555555555555556,
             "#d8576b"
            ],
            [
             0.6666666666666666,
             "#ed7953"
            ],
            [
             0.7777777777777778,
             "#fb9f3a"
            ],
            [
             0.8888888888888888,
             "#fdca26"
            ],
            [
             1,
             "#f0f921"
            ]
           ]
          },
          "colorway": [
           "#636efa",
           "#EF553B",
           "#00cc96",
           "#ab63fa",
           "#FFA15A",
           "#19d3f3",
           "#FF6692",
           "#B6E880",
           "#FF97FF",
           "#FECB52"
          ],
          "font": {
           "color": "#2a3f5f"
          },
          "geo": {
           "bgcolor": "white",
           "lakecolor": "white",
           "landcolor": "#E5ECF6",
           "showlakes": true,
           "showland": true,
           "subunitcolor": "white"
          },
          "hoverlabel": {
           "align": "left"
          },
          "hovermode": "closest",
          "mapbox": {
           "style": "light"
          },
          "paper_bgcolor": "white",
          "plot_bgcolor": "#E5ECF6",
          "polar": {
           "angularaxis": {
            "gridcolor": "white",
            "linecolor": "white",
            "ticks": ""
           },
           "bgcolor": "#E5ECF6",
           "radialaxis": {
            "gridcolor": "white",
            "linecolor": "white",
            "ticks": ""
           }
          },
          "scene": {
           "xaxis": {
            "backgroundcolor": "#E5ECF6",
            "gridcolor": "white",
            "gridwidth": 2,
            "linecolor": "white",
            "showbackground": true,
            "ticks": "",
            "zerolinecolor": "white"
           },
           "yaxis": {
            "backgroundcolor": "#E5ECF6",
            "gridcolor": "white",
            "gridwidth": 2,
            "linecolor": "white",
            "showbackground": true,
            "ticks": "",
            "zerolinecolor": "white"
           },
           "zaxis": {
            "backgroundcolor": "#E5ECF6",
            "gridcolor": "white",
            "gridwidth": 2,
            "linecolor": "white",
            "showbackground": true,
            "ticks": "",
            "zerolinecolor": "white"
           }
          },
          "shapedefaults": {
           "line": {
            "color": "#2a3f5f"
           }
          },
          "ternary": {
           "aaxis": {
            "gridcolor": "white",
            "linecolor": "white",
            "ticks": ""
           },
           "baxis": {
            "gridcolor": "white",
            "linecolor": "white",
            "ticks": ""
           },
           "bgcolor": "#E5ECF6",
           "caxis": {
            "gridcolor": "white",
            "linecolor": "white",
            "ticks": ""
           }
          },
          "title": {
           "x": 0.05
          },
          "xaxis": {
           "automargin": true,
           "gridcolor": "white",
           "linecolor": "white",
           "ticks": "",
           "title": {
            "standoff": 15
           },
           "zerolinecolor": "white",
           "zerolinewidth": 2
          },
          "yaxis": {
           "automargin": true,
           "gridcolor": "white",
           "linecolor": "white",
           "ticks": "",
           "title": {
            "standoff": 15
           },
           "zerolinecolor": "white",
           "zerolinewidth": 2
          }
         }
        },
        "title": {
         "text": "Optimization History Plot"
        },
        "xaxis": {
         "title": {
          "text": "Trial"
         }
        },
        "yaxis": {
         "title": {
          "text": "Objective Value"
         }
        }
       }
      }
     },
     "metadata": {},
     "output_type": "display_data"
    }
   ],
   "source": [
    "optuna.visualization.plot_optimization_history(study)"
   ]
  },
  {
   "cell_type": "code",
   "execution_count": 29,
   "id": "8c4badc1",
   "metadata": {},
   "outputs": [
    {
     "data": {
      "application/vnd.plotly.v1+json": {
       "config": {
        "plotlyServerURL": "https://plot.ly"
       },
       "data": [
        {
         "marker": {
          "color": [
           0,
           1,
           2,
           3,
           4,
           5,
           6,
           7,
           8,
           9,
           10,
           11,
           12,
           13,
           14,
           15,
           16,
           17,
           18,
           19,
           20,
           21,
           22,
           23,
           24,
           25,
           26,
           27,
           28,
           29,
           30,
           31,
           32,
           33,
           34,
           35,
           36,
           37,
           38,
           39,
           40,
           41,
           42,
           43,
           44,
           45,
           46,
           47,
           48,
           49,
           50,
           51,
           52,
           53,
           54,
           55,
           56,
           57,
           58,
           59,
           60,
           61,
           62,
           63,
           64,
           65,
           66,
           67,
           68,
           69,
           70,
           71,
           72,
           73,
           74,
           75,
           76,
           77,
           78,
           79,
           80,
           81,
           82,
           83,
           84,
           85,
           86,
           87,
           88,
           89,
           90,
           91,
           92,
           93,
           94,
           95,
           96,
           97,
           98,
           99
          ],
          "colorbar": {
           "title": {
            "text": "Trial"
           },
           "x": 1,
           "xpad": 40
          },
          "colorscale": [
           [
            0,
            "rgb(247,251,255)"
           ],
           [
            0.125,
            "rgb(222,235,247)"
           ],
           [
            0.25,
            "rgb(198,219,239)"
           ],
           [
            0.375,
            "rgb(158,202,225)"
           ],
           [
            0.5,
            "rgb(107,174,214)"
           ],
           [
            0.625,
            "rgb(66,146,198)"
           ],
           [
            0.75,
            "rgb(33,113,181)"
           ],
           [
            0.875,
            "rgb(8,81,156)"
           ],
           [
            1,
            "rgb(8,48,107)"
           ]
          ],
          "line": {
           "color": "Grey",
           "width": 0.5
          },
          "showscale": true
         },
         "mode": "markers",
         "showlegend": false,
         "type": "scatter",
         "x": [
          "SVC",
          "RandomForest",
          "RandomForest",
          "SVC",
          "SVC",
          "RandomForest",
          "RandomForest",
          "SVC",
          "RandomForest",
          "RandomForest",
          "SVC",
          "SVC",
          "RandomForest",
          "SVC",
          "SVC",
          "RandomForest",
          "RandomForest",
          "SVC",
          "RandomForest",
          "SVC",
          "RandomForest",
          "RandomForest",
          "RandomForest",
          "RandomForest",
          "RandomForest",
          "RandomForest",
          "SVC",
          "RandomForest",
          "SVC",
          "SVC",
          "SVC",
          "SVC",
          "SVC",
          "SVC",
          "SVC",
          "SVC",
          "SVC",
          "SVC",
          "SVC",
          "SVC",
          "SVC",
          "SVC",
          "SVC",
          "SVC",
          "SVC",
          "SVC",
          "SVC",
          "SVC",
          "SVC",
          "SVC",
          "SVC",
          "SVC",
          "SVC",
          "SVC",
          "SVC",
          "SVC",
          "SVC",
          "SVC",
          "SVC",
          "SVC",
          "SVC",
          "SVC",
          "SVC",
          "SVC",
          "SVC",
          "SVC",
          "SVC",
          "SVC",
          "SVC",
          "SVC",
          "SVC",
          "SVC",
          "SVC",
          "SVC",
          "SVC",
          "SVC",
          "SVC",
          "SVC",
          "SVC",
          "SVC",
          "RandomForest",
          "SVC",
          "SVC",
          "SVC",
          "SVC",
          "SVC",
          "SVC",
          "SVC",
          "SVC",
          "SVC",
          "SVC",
          "SVC",
          "SVC",
          "SVC",
          "SVC",
          "RandomForest",
          "SVC",
          "SVC",
          "SVC",
          "SVC"
         ],
         "xaxis": "x",
         "y": [
          0.32,
          0.9333333333333332,
          0.9533333333333333,
          0.96,
          0.9466666666666667,
          0.96,
          0.96,
          0.9466666666666667,
          0.96,
          0.9533333333333333,
          0.96,
          0.32,
          0.9666666666666667,
          0.96,
          0.96,
          0.96,
          0.9466666666666667,
          0.96,
          0.8066666666666666,
          0.96,
          0.9466666666666667,
          0.9466666666666667,
          0.9533333333333333,
          0.9533333333333333,
          0.9533333333333333,
          0.94,
          0.96,
          0.9533333333333333,
          0.9733333333333333,
          0.9666666666666667,
          0.9733333333333333,
          0.9666666666666667,
          0.9666666666666667,
          0.32,
          0.9466666666666667,
          0.32,
          0.98,
          0.96,
          0.9733333333333333,
          0.98,
          0.96,
          0.9866666666666667,
          0.98,
          0.9666666666666667,
          0.94,
          0.96,
          0.98,
          0.9666666666666667,
          0.32,
          0.96,
          0.96,
          0.98,
          0.9866666666666667,
          0.9466666666666667,
          0.9466666666666667,
          0.9733333333333333,
          0.96,
          0.32,
          0.96,
          0.9733333333333333,
          0.9466666666666667,
          0.98,
          0.9666666666666667,
          0.96,
          0.9733333333333333,
          0.98,
          0.96,
          0.96,
          0.96,
          0.96,
          0.9866666666666667,
          0.98,
          0.96,
          0.9733333333333333,
          0.9666666666666667,
          0.98,
          0.9466666666666667,
          0.9666666666666667,
          0.8933333333333332,
          0.9666666666666667,
          0.7799999999999999,
          0.98,
          0.98,
          0.96,
          0.9733333333333333,
          0.9666666666666667,
          0.96,
          0.9466666666666667,
          0.96,
          0.9666666666666667,
          0.8933333333333332,
          0.9866666666666667,
          0.9866666666666667,
          0.9866666666666667,
          0.9733333333333333,
          0.7666666666666666,
          0.96,
          0.96,
          0.98,
          0.96
         ],
         "yaxis": "y"
        },
        {
         "marker": {
          "color": [
           1,
           2,
           5,
           6,
           8,
           9,
           12,
           15,
           16,
           18,
           20,
           21,
           22,
           23,
           24,
           25,
           27,
           80,
           95
          ],
          "colorbar": {
           "title": {
            "text": "Trial"
           },
           "x": 1,
           "xpad": 40
          },
          "colorscale": [
           [
            0,
            "rgb(247,251,255)"
           ],
           [
            0.125,
            "rgb(222,235,247)"
           ],
           [
            0.25,
            "rgb(198,219,239)"
           ],
           [
            0.375,
            "rgb(158,202,225)"
           ],
           [
            0.5,
            "rgb(107,174,214)"
           ],
           [
            0.625,
            "rgb(66,146,198)"
           ],
           [
            0.75,
            "rgb(33,113,181)"
           ],
           [
            0.875,
            "rgb(8,81,156)"
           ],
           [
            1,
            "rgb(8,48,107)"
           ]
          ],
          "line": {
           "color": "Grey",
           "width": 0.5
          },
          "showscale": false
         },
         "mode": "markers",
         "showlegend": false,
         "type": "scatter",
         "x": [
          2.718545400558641,
          10.281217050092664,
          4.620869752739024,
          1.9152890709966175,
          3.1978037867526883,
          5.275972868903182,
          29.86432728936162,
          31.831369501034033,
          31.092609648433378,
          1.000319607144878,
          13.551636851907636,
          8.630597967922498,
          19.642128240939147,
          6.32501538744069,
          5.3243327448598246,
          18.900056852797597,
          8.618220526166706,
          1.0246293786103666,
          1.5153889802774057
         ],
         "xaxis": "x2",
         "y": [
          0.9333333333333332,
          0.9533333333333333,
          0.96,
          0.96,
          0.96,
          0.9533333333333333,
          0.9666666666666667,
          0.96,
          0.9466666666666667,
          0.8066666666666666,
          0.9466666666666667,
          0.9466666666666667,
          0.9533333333333333,
          0.9533333333333333,
          0.9533333333333333,
          0.94,
          0.9533333333333333,
          0.7799999999999999,
          0.7666666666666666
         ],
         "yaxis": "y2"
        },
        {
         "marker": {
          "color": [
           1,
           2,
           5,
           6,
           8,
           9,
           12,
           15,
           16,
           18,
           20,
           21,
           22,
           23,
           24,
           25,
           27,
           80,
           95
          ],
          "colorbar": {
           "title": {
            "text": "Trial"
           },
           "x": 1,
           "xpad": 40
          },
          "colorscale": [
           [
            0,
            "rgb(247,251,255)"
           ],
           [
            0.125,
            "rgb(222,235,247)"
           ],
           [
            0.25,
            "rgb(198,219,239)"
           ],
           [
            0.375,
            "rgb(158,202,225)"
           ],
           [
            0.5,
            "rgb(107,174,214)"
           ],
           [
            0.625,
            "rgb(66,146,198)"
           ],
           [
            0.75,
            "rgb(33,113,181)"
           ],
           [
            0.875,
            "rgb(8,81,156)"
           ],
           [
            1,
            "rgb(8,48,107)"
           ]
          ],
          "line": {
           "color": "Grey",
           "width": 0.5
          },
          "showscale": false
         },
         "mode": "markers",
         "showlegend": false,
         "type": "scatter",
         "x": [
          2,
          17,
          18,
          18,
          2,
          6,
          13,
          9,
          12,
          13,
          14,
          20,
          15,
          9,
          20,
          16,
          10,
          5,
          6
         ],
         "xaxis": "x3",
         "y": [
          0.9333333333333332,
          0.9533333333333333,
          0.96,
          0.96,
          0.96,
          0.9533333333333333,
          0.9666666666666667,
          0.96,
          0.9466666666666667,
          0.8066666666666666,
          0.9466666666666667,
          0.9466666666666667,
          0.9533333333333333,
          0.9533333333333333,
          0.9533333333333333,
          0.94,
          0.9533333333333333,
          0.7799999999999999,
          0.7666666666666666
         ],
         "yaxis": "y3"
        },
        {
         "marker": {
          "color": [
           0,
           3,
           4,
           7,
           10,
           11,
           13,
           14,
           17,
           19,
           26,
           28,
           29,
           30,
           31,
           32,
           33,
           34,
           35,
           36,
           37,
           38,
           39,
           40,
           41,
           42,
           43,
           44,
           45,
           46,
           47,
           48,
           49,
           50,
           51,
           52,
           53,
           54,
           55,
           56,
           57,
           58,
           59,
           60,
           61,
           62,
           63,
           64,
           65,
           66,
           67,
           68,
           69,
           70,
           71,
           72,
           73,
           74,
           75,
           76,
           77,
           78,
           79,
           81,
           82,
           83,
           84,
           85,
           86,
           87,
           88,
           89,
           90,
           91,
           92,
           93,
           94,
           96,
           97,
           98,
           99
          ],
          "colorbar": {
           "title": {
            "text": "Trial"
           },
           "x": 1,
           "xpad": 40
          },
          "colorscale": [
           [
            0,
            "rgb(247,251,255)"
           ],
           [
            0.125,
            "rgb(222,235,247)"
           ],
           [
            0.25,
            "rgb(198,219,239)"
           ],
           [
            0.375,
            "rgb(158,202,225)"
           ],
           [
            0.5,
            "rgb(107,174,214)"
           ],
           [
            0.625,
            "rgb(66,146,198)"
           ],
           [
            0.75,
            "rgb(33,113,181)"
           ],
           [
            0.875,
            "rgb(8,81,156)"
           ],
           [
            1,
            "rgb(8,48,107)"
           ]
          ],
          "line": {
           "color": "Grey",
           "width": 0.5
          },
          "showscale": false
         },
         "mode": "markers",
         "showlegend": false,
         "type": "scatter",
         "x": [
          0.0009045180894086956,
          5491378.631571285,
          0.11784634708296123,
          385.64445235885916,
          1072501280.6620493,
          1.973417512276295e-10,
          1680965009.8398452,
          26224.94394083627,
          255119.02726885912,
          9069725867.967178,
          597870.4462954544,
          13.02574482211636,
          18.6487494970333,
          2.5632636297654217,
          18.838907041037913,
          0.531406515970667,
          0.01605026387214724,
          188.98452966472493,
          0.0009730162785428121,
          8.911472681138576,
          6386.4130850269585,
          2.057144242602144,
          6.688272131495439,
          592.0528865307195,
          3.9974290491975717,
          5.016370356364193,
          18.54886914726841,
          0.07229271296994848,
          119.82759028904036,
          3.6205227737204506,
          0.7934177908785084,
          0.009464163035410847,
          0.27180471260161104,
          3651.1334093148594,
          9.5301811736647,
          3.852859183896546,
          0.11978446745989033,
          302.7983228074025,
          1.7343446681848038,
          53.708865851164234,
          0.017197975636524032,
          1182.0805181790518,
          2.608567089682036,
          176.92353977551778,
          8.551065521835834,
          0.16987591926593645,
          35.843330540367184,
          2.09606717965928,
          5.6417442015759365,
          43.791034508237196,
          0.33368157560419304,
          1527.924813287227,
          16033.575483140281,
          4.5302936294173595,
          8.489430769321466,
          72.09886156184115,
          1.9350328042832254,
          0.6154875887490414,
          7.519098178586144,
          373.9851579698634,
          27.855149732057807,
          0.04675525663024863,
          0.5670647030184262,
          8.637476927418975,
          5.539902266220755,
          83.33274423672817,
          12.625362541624323,
          1.4083110497341942,
          0.17436455097360906,
          294.4821638800608,
          29.29844395723663,
          0.6192746608327845,
          0.04906560170565438,
          4.679585960927481,
          3.9874299063448757,
          4.325833195112776,
          1.7222024109930731,
          119.49595599563611,
          0.3499882632562512,
          3.625299407917015,
          34.56888326955926
         ],
         "xaxis": "x4",
         "y": [
          0.32,
          0.96,
          0.9466666666666667,
          0.9466666666666667,
          0.96,
          0.32,
          0.96,
          0.96,
          0.96,
          0.96,
          0.96,
          0.9733333333333333,
          0.9666666666666667,
          0.9733333333333333,
          0.9666666666666667,
          0.9666666666666667,
          0.32,
          0.9466666666666667,
          0.32,
          0.98,
          0.96,
          0.9733333333333333,
          0.98,
          0.96,
          0.9866666666666667,
          0.98,
          0.9666666666666667,
          0.94,
          0.96,
          0.98,
          0.9666666666666667,
          0.32,
          0.96,
          0.96,
          0.98,
          0.9866666666666667,
          0.9466666666666667,
          0.9466666666666667,
          0.9733333333333333,
          0.96,
          0.32,
          0.96,
          0.9733333333333333,
          0.9466666666666667,
          0.98,
          0.9666666666666667,
          0.96,
          0.9733333333333333,
          0.98,
          0.96,
          0.96,
          0.96,
          0.96,
          0.9866666666666667,
          0.98,
          0.96,
          0.9733333333333333,
          0.9666666666666667,
          0.98,
          0.9466666666666667,
          0.9666666666666667,
          0.8933333333333332,
          0.9666666666666667,
          0.98,
          0.98,
          0.96,
          0.9733333333333333,
          0.9666666666666667,
          0.96,
          0.9466666666666667,
          0.96,
          0.9666666666666667,
          0.8933333333333332,
          0.9866666666666667,
          0.9866666666666667,
          0.9866666666666667,
          0.9733333333333333,
          0.96,
          0.96,
          0.98,
          0.96
         ],
         "yaxis": "y4"
        }
       ],
       "layout": {
        "template": {
         "data": {
          "bar": [
           {
            "error_x": {
             "color": "#2a3f5f"
            },
            "error_y": {
             "color": "#2a3f5f"
            },
            "marker": {
             "line": {
              "color": "#E5ECF6",
              "width": 0.5
             },
             "pattern": {
              "fillmode": "overlay",
              "size": 10,
              "solidity": 0.2
             }
            },
            "type": "bar"
           }
          ],
          "barpolar": [
           {
            "marker": {
             "line": {
              "color": "#E5ECF6",
              "width": 0.5
             },
             "pattern": {
              "fillmode": "overlay",
              "size": 10,
              "solidity": 0.2
             }
            },
            "type": "barpolar"
           }
          ],
          "carpet": [
           {
            "aaxis": {
             "endlinecolor": "#2a3f5f",
             "gridcolor": "white",
             "linecolor": "white",
             "minorgridcolor": "white",
             "startlinecolor": "#2a3f5f"
            },
            "baxis": {
             "endlinecolor": "#2a3f5f",
             "gridcolor": "white",
             "linecolor": "white",
             "minorgridcolor": "white",
             "startlinecolor": "#2a3f5f"
            },
            "type": "carpet"
           }
          ],
          "choropleth": [
           {
            "colorbar": {
             "outlinewidth": 0,
             "ticks": ""
            },
            "type": "choropleth"
           }
          ],
          "contour": [
           {
            "colorbar": {
             "outlinewidth": 0,
             "ticks": ""
            },
            "colorscale": [
             [
              0,
              "#0d0887"
             ],
             [
              0.1111111111111111,
              "#46039f"
             ],
             [
              0.2222222222222222,
              "#7201a8"
             ],
             [
              0.3333333333333333,
              "#9c179e"
             ],
             [
              0.4444444444444444,
              "#bd3786"
             ],
             [
              0.5555555555555556,
              "#d8576b"
             ],
             [
              0.6666666666666666,
              "#ed7953"
             ],
             [
              0.7777777777777778,
              "#fb9f3a"
             ],
             [
              0.8888888888888888,
              "#fdca26"
             ],
             [
              1,
              "#f0f921"
             ]
            ],
            "type": "contour"
           }
          ],
          "contourcarpet": [
           {
            "colorbar": {
             "outlinewidth": 0,
             "ticks": ""
            },
            "type": "contourcarpet"
           }
          ],
          "heatmap": [
           {
            "colorbar": {
             "outlinewidth": 0,
             "ticks": ""
            },
            "colorscale": [
             [
              0,
              "#0d0887"
             ],
             [
              0.1111111111111111,
              "#46039f"
             ],
             [
              0.2222222222222222,
              "#7201a8"
             ],
             [
              0.3333333333333333,
              "#9c179e"
             ],
             [
              0.4444444444444444,
              "#bd3786"
             ],
             [
              0.5555555555555556,
              "#d8576b"
             ],
             [
              0.6666666666666666,
              "#ed7953"
             ],
             [
              0.7777777777777778,
              "#fb9f3a"
             ],
             [
              0.8888888888888888,
              "#fdca26"
             ],
             [
              1,
              "#f0f921"
             ]
            ],
            "type": "heatmap"
           }
          ],
          "heatmapgl": [
           {
            "colorbar": {
             "outlinewidth": 0,
             "ticks": ""
            },
            "colorscale": [
             [
              0,
              "#0d0887"
             ],
             [
              0.1111111111111111,
              "#46039f"
             ],
             [
              0.2222222222222222,
              "#7201a8"
             ],
             [
              0.3333333333333333,
              "#9c179e"
             ],
             [
              0.4444444444444444,
              "#bd3786"
             ],
             [
              0.5555555555555556,
              "#d8576b"
             ],
             [
              0.6666666666666666,
              "#ed7953"
             ],
             [
              0.7777777777777778,
              "#fb9f3a"
             ],
             [
              0.8888888888888888,
              "#fdca26"
             ],
             [
              1,
              "#f0f921"
             ]
            ],
            "type": "heatmapgl"
           }
          ],
          "histogram": [
           {
            "marker": {
             "pattern": {
              "fillmode": "overlay",
              "size": 10,
              "solidity": 0.2
             }
            },
            "type": "histogram"
           }
          ],
          "histogram2d": [
           {
            "colorbar": {
             "outlinewidth": 0,
             "ticks": ""
            },
            "colorscale": [
             [
              0,
              "#0d0887"
             ],
             [
              0.1111111111111111,
              "#46039f"
             ],
             [
              0.2222222222222222,
              "#7201a8"
             ],
             [
              0.3333333333333333,
              "#9c179e"
             ],
             [
              0.4444444444444444,
              "#bd3786"
             ],
             [
              0.5555555555555556,
              "#d8576b"
             ],
             [
              0.6666666666666666,
              "#ed7953"
             ],
             [
              0.7777777777777778,
              "#fb9f3a"
             ],
             [
              0.8888888888888888,
              "#fdca26"
             ],
             [
              1,
              "#f0f921"
             ]
            ],
            "type": "histogram2d"
           }
          ],
          "histogram2dcontour": [
           {
            "colorbar": {
             "outlinewidth": 0,
             "ticks": ""
            },
            "colorscale": [
             [
              0,
              "#0d0887"
             ],
             [
              0.1111111111111111,
              "#46039f"
             ],
             [
              0.2222222222222222,
              "#7201a8"
             ],
             [
              0.3333333333333333,
              "#9c179e"
             ],
             [
              0.4444444444444444,
              "#bd3786"
             ],
             [
              0.5555555555555556,
              "#d8576b"
             ],
             [
              0.6666666666666666,
              "#ed7953"
             ],
             [
              0.7777777777777778,
              "#fb9f3a"
             ],
             [
              0.8888888888888888,
              "#fdca26"
             ],
             [
              1,
              "#f0f921"
             ]
            ],
            "type": "histogram2dcontour"
           }
          ],
          "mesh3d": [
           {
            "colorbar": {
             "outlinewidth": 0,
             "ticks": ""
            },
            "type": "mesh3d"
           }
          ],
          "parcoords": [
           {
            "line": {
             "colorbar": {
              "outlinewidth": 0,
              "ticks": ""
             }
            },
            "type": "parcoords"
           }
          ],
          "pie": [
           {
            "automargin": true,
            "type": "pie"
           }
          ],
          "scatter": [
           {
            "fillpattern": {
             "fillmode": "overlay",
             "size": 10,
             "solidity": 0.2
            },
            "type": "scatter"
           }
          ],
          "scatter3d": [
           {
            "line": {
             "colorbar": {
              "outlinewidth": 0,
              "ticks": ""
             }
            },
            "marker": {
             "colorbar": {
              "outlinewidth": 0,
              "ticks": ""
             }
            },
            "type": "scatter3d"
           }
          ],
          "scattercarpet": [
           {
            "marker": {
             "colorbar": {
              "outlinewidth": 0,
              "ticks": ""
             }
            },
            "type": "scattercarpet"
           }
          ],
          "scattergeo": [
           {
            "marker": {
             "colorbar": {
              "outlinewidth": 0,
              "ticks": ""
             }
            },
            "type": "scattergeo"
           }
          ],
          "scattergl": [
           {
            "marker": {
             "colorbar": {
              "outlinewidth": 0,
              "ticks": ""
             }
            },
            "type": "scattergl"
           }
          ],
          "scattermapbox": [
           {
            "marker": {
             "colorbar": {
              "outlinewidth": 0,
              "ticks": ""
             }
            },
            "type": "scattermapbox"
           }
          ],
          "scatterpolar": [
           {
            "marker": {
             "colorbar": {
              "outlinewidth": 0,
              "ticks": ""
             }
            },
            "type": "scatterpolar"
           }
          ],
          "scatterpolargl": [
           {
            "marker": {
             "colorbar": {
              "outlinewidth": 0,
              "ticks": ""
             }
            },
            "type": "scatterpolargl"
           }
          ],
          "scatterternary": [
           {
            "marker": {
             "colorbar": {
              "outlinewidth": 0,
              "ticks": ""
             }
            },
            "type": "scatterternary"
           }
          ],
          "surface": [
           {
            "colorbar": {
             "outlinewidth": 0,
             "ticks": ""
            },
            "colorscale": [
             [
              0,
              "#0d0887"
             ],
             [
              0.1111111111111111,
              "#46039f"
             ],
             [
              0.2222222222222222,
              "#7201a8"
             ],
             [
              0.3333333333333333,
              "#9c179e"
             ],
             [
              0.4444444444444444,
              "#bd3786"
             ],
             [
              0.5555555555555556,
              "#d8576b"
             ],
             [
              0.6666666666666666,
              "#ed7953"
             ],
             [
              0.7777777777777778,
              "#fb9f3a"
             ],
             [
              0.8888888888888888,
              "#fdca26"
             ],
             [
              1,
              "#f0f921"
             ]
            ],
            "type": "surface"
           }
          ],
          "table": [
           {
            "cells": {
             "fill": {
              "color": "#EBF0F8"
             },
             "line": {
              "color": "white"
             }
            },
            "header": {
             "fill": {
              "color": "#C8D4E3"
             },
             "line": {
              "color": "white"
             }
            },
            "type": "table"
           }
          ]
         },
         "layout": {
          "annotationdefaults": {
           "arrowcolor": "#2a3f5f",
           "arrowhead": 0,
           "arrowwidth": 1
          },
          "autotypenumbers": "strict",
          "coloraxis": {
           "colorbar": {
            "outlinewidth": 0,
            "ticks": ""
           }
          },
          "colorscale": {
           "diverging": [
            [
             0,
             "#8e0152"
            ],
            [
             0.1,
             "#c51b7d"
            ],
            [
             0.2,
             "#de77ae"
            ],
            [
             0.3,
             "#f1b6da"
            ],
            [
             0.4,
             "#fde0ef"
            ],
            [
             0.5,
             "#f7f7f7"
            ],
            [
             0.6,
             "#e6f5d0"
            ],
            [
             0.7,
             "#b8e186"
            ],
            [
             0.8,
             "#7fbc41"
            ],
            [
             0.9,
             "#4d9221"
            ],
            [
             1,
             "#276419"
            ]
           ],
           "sequential": [
            [
             0,
             "#0d0887"
            ],
            [
             0.1111111111111111,
             "#46039f"
            ],
            [
             0.2222222222222222,
             "#7201a8"
            ],
            [
             0.3333333333333333,
             "#9c179e"
            ],
            [
             0.4444444444444444,
             "#bd3786"
            ],
            [
             0.5555555555555556,
             "#d8576b"
            ],
            [
             0.6666666666666666,
             "#ed7953"
            ],
            [
             0.7777777777777778,
             "#fb9f3a"
            ],
            [
             0.8888888888888888,
             "#fdca26"
            ],
            [
             1,
             "#f0f921"
            ]
           ],
           "sequentialminus": [
            [
             0,
             "#0d0887"
            ],
            [
             0.1111111111111111,
             "#46039f"
            ],
            [
             0.2222222222222222,
             "#7201a8"
            ],
            [
             0.3333333333333333,
             "#9c179e"
            ],
            [
             0.4444444444444444,
             "#bd3786"
            ],
            [
             0.5555555555555556,
             "#d8576b"
            ],
            [
             0.6666666666666666,
             "#ed7953"
            ],
            [
             0.7777777777777778,
             "#fb9f3a"
            ],
            [
             0.8888888888888888,
             "#fdca26"
            ],
            [
             1,
             "#f0f921"
            ]
           ]
          },
          "colorway": [
           "#636efa",
           "#EF553B",
           "#00cc96",
           "#ab63fa",
           "#FFA15A",
           "#19d3f3",
           "#FF6692",
           "#B6E880",
           "#FF97FF",
           "#FECB52"
          ],
          "font": {
           "color": "#2a3f5f"
          },
          "geo": {
           "bgcolor": "white",
           "lakecolor": "white",
           "landcolor": "#E5ECF6",
           "showlakes": true,
           "showland": true,
           "subunitcolor": "white"
          },
          "hoverlabel": {
           "align": "left"
          },
          "hovermode": "closest",
          "mapbox": {
           "style": "light"
          },
          "paper_bgcolor": "white",
          "plot_bgcolor": "#E5ECF6",
          "polar": {
           "angularaxis": {
            "gridcolor": "white",
            "linecolor": "white",
            "ticks": ""
           },
           "bgcolor": "#E5ECF6",
           "radialaxis": {
            "gridcolor": "white",
            "linecolor": "white",
            "ticks": ""
           }
          },
          "scene": {
           "xaxis": {
            "backgroundcolor": "#E5ECF6",
            "gridcolor": "white",
            "gridwidth": 2,
            "linecolor": "white",
            "showbackground": true,
            "ticks": "",
            "zerolinecolor": "white"
           },
           "yaxis": {
            "backgroundcolor": "#E5ECF6",
            "gridcolor": "white",
            "gridwidth": 2,
            "linecolor": "white",
            "showbackground": true,
            "ticks": "",
            "zerolinecolor": "white"
           },
           "zaxis": {
            "backgroundcolor": "#E5ECF6",
            "gridcolor": "white",
            "gridwidth": 2,
            "linecolor": "white",
            "showbackground": true,
            "ticks": "",
            "zerolinecolor": "white"
           }
          },
          "shapedefaults": {
           "line": {
            "color": "#2a3f5f"
           }
          },
          "ternary": {
           "aaxis": {
            "gridcolor": "white",
            "linecolor": "white",
            "ticks": ""
           },
           "baxis": {
            "gridcolor": "white",
            "linecolor": "white",
            "ticks": ""
           },
           "bgcolor": "#E5ECF6",
           "caxis": {
            "gridcolor": "white",
            "linecolor": "white",
            "ticks": ""
           }
          },
          "title": {
           "x": 0.05
          },
          "xaxis": {
           "automargin": true,
           "gridcolor": "white",
           "linecolor": "white",
           "ticks": "",
           "title": {
            "standoff": 15
           },
           "zerolinecolor": "white",
           "zerolinewidth": 2
          },
          "yaxis": {
           "automargin": true,
           "gridcolor": "white",
           "linecolor": "white",
           "ticks": "",
           "title": {
            "standoff": 15
           },
           "zerolinecolor": "white",
           "zerolinewidth": 2
          }
         }
        },
        "title": {
         "text": "Slice Plot"
        },
        "width": 1200,
        "xaxis": {
         "anchor": "y",
         "domain": [
          0,
          0.2125
         ],
         "title": {
          "text": "classifier"
         }
        },
        "xaxis2": {
         "anchor": "y2",
         "domain": [
          0.2625,
          0.475
         ],
         "title": {
          "text": "max_depth"
         },
         "type": "log"
        },
        "xaxis3": {
         "anchor": "y3",
         "domain": [
          0.525,
          0.7375
         ],
         "title": {
          "text": "n_estimators"
         }
        },
        "xaxis4": {
         "anchor": "y4",
         "domain": [
          0.7875,
          1
         ],
         "title": {
          "text": "svc_c"
         },
         "type": "log"
        },
        "yaxis": {
         "anchor": "x",
         "domain": [
          0,
          1
         ],
         "title": {
          "text": "Objective Value"
         }
        },
        "yaxis2": {
         "anchor": "x2",
         "domain": [
          0,
          1
         ],
         "matches": "y",
         "showticklabels": false
        },
        "yaxis3": {
         "anchor": "x3",
         "domain": [
          0,
          1
         ],
         "matches": "y",
         "showticklabels": false
        },
        "yaxis4": {
         "anchor": "x4",
         "domain": [
          0,
          1
         ],
         "matches": "y",
         "showticklabels": false
        }
       }
      }
     },
     "metadata": {},
     "output_type": "display_data"
    }
   ],
   "source": [
    "optuna.visualization.plot_slice(study)"
   ]
  },
  {
   "cell_type": "code",
   "execution_count": 30,
   "id": "5d4ae6f8",
   "metadata": {},
   "outputs": [
    {
     "data": {
      "application/vnd.plotly.v1+json": {
       "config": {
        "plotlyServerURL": "https://plot.ly"
       },
       "data": [
        {
         "colorbar": {
          "title": {
           "text": "Objective Value"
          }
         },
         "colorscale": [
          [
           0,
           "rgb(247,251,255)"
          ],
          [
           0.125,
           "rgb(222,235,247)"
          ],
          [
           0.25,
           "rgb(198,219,239)"
          ],
          [
           0.375,
           "rgb(158,202,225)"
          ],
          [
           0.5,
           "rgb(107,174,214)"
          ],
          [
           0.625,
           "rgb(66,146,198)"
          ],
          [
           0.75,
           "rgb(33,113,181)"
          ],
          [
           0.875,
           "rgb(8,81,156)"
          ],
          [
           1,
           "rgb(8,48,107)"
          ]
         ],
         "connectgaps": true,
         "contours": {
          "coloring": "heatmap"
         },
         "hoverinfo": "none",
         "line": {
          "smoothing": 1.3
         },
         "reversescale": false,
         "type": "contour",
         "x": [
          0.8414008653119814,
          1.000319607144878,
          1.0246293786103666,
          1.5153889802774057,
          1.9152890709966175,
          2.718545400558641,
          3.1978037867526883,
          4.620869752739024,
          5.275972868903182,
          5.3243327448598246,
          6.32501538744069,
          8.618220526166706,
          8.630597967922498,
          10.281217050092664,
          13.551636851907636,
          18.900056852797597,
          19.642128240939147,
          29.86432728936162,
          31.092609648433378,
          31.831369501034033,
          37.84348738737194
         ],
         "y": [
          1.1,
          2,
          5,
          6,
          9,
          10,
          12,
          13,
          14,
          15,
          16,
          17,
          18,
          20,
          20.9
         ],
         "z": [
          [
           null,
           null,
           null,
           null,
           null,
           null,
           null,
           null,
           null,
           null,
           null,
           null,
           null,
           null,
           null,
           null,
           null,
           null,
           null,
           null,
           null
          ],
          [
           null,
           null,
           null,
           null,
           null,
           0.9333333333333332,
           0.96,
           null,
           null,
           null,
           null,
           null,
           null,
           null,
           null,
           null,
           null,
           null,
           null,
           null,
           null
          ],
          [
           null,
           null,
           0.7799999999999999,
           null,
           null,
           null,
           null,
           null,
           null,
           null,
           null,
           null,
           null,
           null,
           null,
           null,
           null,
           null,
           null,
           null,
           null
          ],
          [
           null,
           null,
           null,
           0.7666666666666666,
           null,
           null,
           null,
           null,
           0.9533333333333333,
           null,
           null,
           null,
           null,
           null,
           null,
           null,
           null,
           null,
           null,
           null,
           null
          ],
          [
           null,
           null,
           null,
           null,
           null,
           null,
           null,
           null,
           null,
           null,
           0.9533333333333333,
           null,
           null,
           null,
           null,
           null,
           null,
           null,
           null,
           0.96,
           null
          ],
          [
           null,
           null,
           null,
           null,
           null,
           null,
           null,
           null,
           null,
           null,
           null,
           0.9533333333333333,
           null,
           null,
           null,
           null,
           null,
           null,
           null,
           null,
           null
          ],
          [
           null,
           null,
           null,
           null,
           null,
           null,
           null,
           null,
           null,
           null,
           null,
           null,
           null,
           null,
           null,
           null,
           null,
           null,
           0.9466666666666667,
           null,
           null
          ],
          [
           null,
           0.8066666666666666,
           null,
           null,
           null,
           null,
           null,
           null,
           null,
           null,
           null,
           null,
           null,
           null,
           null,
           null,
           null,
           0.9666666666666667,
           null,
           null,
           null
          ],
          [
           null,
           null,
           null,
           null,
           null,
           null,
           null,
           null,
           null,
           null,
           null,
           null,
           null,
           null,
           0.9466666666666667,
           null,
           null,
           null,
           null,
           null,
           null
          ],
          [
           null,
           null,
           null,
           null,
           null,
           null,
           null,
           null,
           null,
           null,
           null,
           null,
           null,
           null,
           null,
           null,
           0.9533333333333333,
           null,
           null,
           null,
           null
          ],
          [
           null,
           null,
           null,
           null,
           null,
           null,
           null,
           null,
           null,
           null,
           null,
           null,
           null,
           null,
           null,
           0.94,
           null,
           null,
           null,
           null,
           null
          ],
          [
           null,
           null,
           null,
           null,
           null,
           null,
           null,
           null,
           null,
           null,
           null,
           null,
           null,
           0.9533333333333333,
           null,
           null,
           null,
           null,
           null,
           null,
           null
          ],
          [
           null,
           null,
           null,
           null,
           0.96,
           null,
           null,
           0.96,
           null,
           null,
           null,
           null,
           null,
           null,
           null,
           null,
           null,
           null,
           null,
           null,
           null
          ],
          [
           null,
           null,
           null,
           null,
           null,
           null,
           null,
           null,
           null,
           0.9533333333333333,
           null,
           null,
           0.9466666666666667,
           null,
           null,
           null,
           null,
           null,
           null,
           null,
           null
          ],
          [
           null,
           null,
           null,
           null,
           null,
           null,
           null,
           null,
           null,
           null,
           null,
           null,
           null,
           null,
           null,
           null,
           null,
           null,
           null,
           null,
           null
          ]
         ]
        },
        {
         "marker": {
          "color": "black",
          "line": {
           "color": "Grey",
           "width": 2
          }
         },
         "mode": "markers",
         "showlegend": false,
         "type": "scatter",
         "x": [
          2.718545400558641,
          10.281217050092664,
          4.620869752739024,
          1.9152890709966175,
          3.1978037867526883,
          5.275972868903182,
          29.86432728936162,
          31.831369501034033,
          31.092609648433378,
          1.000319607144878,
          13.551636851907636,
          8.630597967922498,
          19.642128240939147,
          6.32501538744069,
          5.3243327448598246,
          18.900056852797597,
          8.618220526166706,
          1.0246293786103666,
          1.5153889802774057
         ],
         "y": [
          2,
          17,
          18,
          18,
          2,
          6,
          13,
          9,
          12,
          13,
          14,
          20,
          15,
          9,
          20,
          16,
          10,
          5,
          6
         ]
        }
       ],
       "layout": {
        "template": {
         "data": {
          "bar": [
           {
            "error_x": {
             "color": "#2a3f5f"
            },
            "error_y": {
             "color": "#2a3f5f"
            },
            "marker": {
             "line": {
              "color": "#E5ECF6",
              "width": 0.5
             },
             "pattern": {
              "fillmode": "overlay",
              "size": 10,
              "solidity": 0.2
             }
            },
            "type": "bar"
           }
          ],
          "barpolar": [
           {
            "marker": {
             "line": {
              "color": "#E5ECF6",
              "width": 0.5
             },
             "pattern": {
              "fillmode": "overlay",
              "size": 10,
              "solidity": 0.2
             }
            },
            "type": "barpolar"
           }
          ],
          "carpet": [
           {
            "aaxis": {
             "endlinecolor": "#2a3f5f",
             "gridcolor": "white",
             "linecolor": "white",
             "minorgridcolor": "white",
             "startlinecolor": "#2a3f5f"
            },
            "baxis": {
             "endlinecolor": "#2a3f5f",
             "gridcolor": "white",
             "linecolor": "white",
             "minorgridcolor": "white",
             "startlinecolor": "#2a3f5f"
            },
            "type": "carpet"
           }
          ],
          "choropleth": [
           {
            "colorbar": {
             "outlinewidth": 0,
             "ticks": ""
            },
            "type": "choropleth"
           }
          ],
          "contour": [
           {
            "colorbar": {
             "outlinewidth": 0,
             "ticks": ""
            },
            "colorscale": [
             [
              0,
              "#0d0887"
             ],
             [
              0.1111111111111111,
              "#46039f"
             ],
             [
              0.2222222222222222,
              "#7201a8"
             ],
             [
              0.3333333333333333,
              "#9c179e"
             ],
             [
              0.4444444444444444,
              "#bd3786"
             ],
             [
              0.5555555555555556,
              "#d8576b"
             ],
             [
              0.6666666666666666,
              "#ed7953"
             ],
             [
              0.7777777777777778,
              "#fb9f3a"
             ],
             [
              0.8888888888888888,
              "#fdca26"
             ],
             [
              1,
              "#f0f921"
             ]
            ],
            "type": "contour"
           }
          ],
          "contourcarpet": [
           {
            "colorbar": {
             "outlinewidth": 0,
             "ticks": ""
            },
            "type": "contourcarpet"
           }
          ],
          "heatmap": [
           {
            "colorbar": {
             "outlinewidth": 0,
             "ticks": ""
            },
            "colorscale": [
             [
              0,
              "#0d0887"
             ],
             [
              0.1111111111111111,
              "#46039f"
             ],
             [
              0.2222222222222222,
              "#7201a8"
             ],
             [
              0.3333333333333333,
              "#9c179e"
             ],
             [
              0.4444444444444444,
              "#bd3786"
             ],
             [
              0.5555555555555556,
              "#d8576b"
             ],
             [
              0.6666666666666666,
              "#ed7953"
             ],
             [
              0.7777777777777778,
              "#fb9f3a"
             ],
             [
              0.8888888888888888,
              "#fdca26"
             ],
             [
              1,
              "#f0f921"
             ]
            ],
            "type": "heatmap"
           }
          ],
          "heatmapgl": [
           {
            "colorbar": {
             "outlinewidth": 0,
             "ticks": ""
            },
            "colorscale": [
             [
              0,
              "#0d0887"
             ],
             [
              0.1111111111111111,
              "#46039f"
             ],
             [
              0.2222222222222222,
              "#7201a8"
             ],
             [
              0.3333333333333333,
              "#9c179e"
             ],
             [
              0.4444444444444444,
              "#bd3786"
             ],
             [
              0.5555555555555556,
              "#d8576b"
             ],
             [
              0.6666666666666666,
              "#ed7953"
             ],
             [
              0.7777777777777778,
              "#fb9f3a"
             ],
             [
              0.8888888888888888,
              "#fdca26"
             ],
             [
              1,
              "#f0f921"
             ]
            ],
            "type": "heatmapgl"
           }
          ],
          "histogram": [
           {
            "marker": {
             "pattern": {
              "fillmode": "overlay",
              "size": 10,
              "solidity": 0.2
             }
            },
            "type": "histogram"
           }
          ],
          "histogram2d": [
           {
            "colorbar": {
             "outlinewidth": 0,
             "ticks": ""
            },
            "colorscale": [
             [
              0,
              "#0d0887"
             ],
             [
              0.1111111111111111,
              "#46039f"
             ],
             [
              0.2222222222222222,
              "#7201a8"
             ],
             [
              0.3333333333333333,
              "#9c179e"
             ],
             [
              0.4444444444444444,
              "#bd3786"
             ],
             [
              0.5555555555555556,
              "#d8576b"
             ],
             [
              0.6666666666666666,
              "#ed7953"
             ],
             [
              0.7777777777777778,
              "#fb9f3a"
             ],
             [
              0.8888888888888888,
              "#fdca26"
             ],
             [
              1,
              "#f0f921"
             ]
            ],
            "type": "histogram2d"
           }
          ],
          "histogram2dcontour": [
           {
            "colorbar": {
             "outlinewidth": 0,
             "ticks": ""
            },
            "colorscale": [
             [
              0,
              "#0d0887"
             ],
             [
              0.1111111111111111,
              "#46039f"
             ],
             [
              0.2222222222222222,
              "#7201a8"
             ],
             [
              0.3333333333333333,
              "#9c179e"
             ],
             [
              0.4444444444444444,
              "#bd3786"
             ],
             [
              0.5555555555555556,
              "#d8576b"
             ],
             [
              0.6666666666666666,
              "#ed7953"
             ],
             [
              0.7777777777777778,
              "#fb9f3a"
             ],
             [
              0.8888888888888888,
              "#fdca26"
             ],
             [
              1,
              "#f0f921"
             ]
            ],
            "type": "histogram2dcontour"
           }
          ],
          "mesh3d": [
           {
            "colorbar": {
             "outlinewidth": 0,
             "ticks": ""
            },
            "type": "mesh3d"
           }
          ],
          "parcoords": [
           {
            "line": {
             "colorbar": {
              "outlinewidth": 0,
              "ticks": ""
             }
            },
            "type": "parcoords"
           }
          ],
          "pie": [
           {
            "automargin": true,
            "type": "pie"
           }
          ],
          "scatter": [
           {
            "fillpattern": {
             "fillmode": "overlay",
             "size": 10,
             "solidity": 0.2
            },
            "type": "scatter"
           }
          ],
          "scatter3d": [
           {
            "line": {
             "colorbar": {
              "outlinewidth": 0,
              "ticks": ""
             }
            },
            "marker": {
             "colorbar": {
              "outlinewidth": 0,
              "ticks": ""
             }
            },
            "type": "scatter3d"
           }
          ],
          "scattercarpet": [
           {
            "marker": {
             "colorbar": {
              "outlinewidth": 0,
              "ticks": ""
             }
            },
            "type": "scattercarpet"
           }
          ],
          "scattergeo": [
           {
            "marker": {
             "colorbar": {
              "outlinewidth": 0,
              "ticks": ""
             }
            },
            "type": "scattergeo"
           }
          ],
          "scattergl": [
           {
            "marker": {
             "colorbar": {
              "outlinewidth": 0,
              "ticks": ""
             }
            },
            "type": "scattergl"
           }
          ],
          "scattermapbox": [
           {
            "marker": {
             "colorbar": {
              "outlinewidth": 0,
              "ticks": ""
             }
            },
            "type": "scattermapbox"
           }
          ],
          "scatterpolar": [
           {
            "marker": {
             "colorbar": {
              "outlinewidth": 0,
              "ticks": ""
             }
            },
            "type": "scatterpolar"
           }
          ],
          "scatterpolargl": [
           {
            "marker": {
             "colorbar": {
              "outlinewidth": 0,
              "ticks": ""
             }
            },
            "type": "scatterpolargl"
           }
          ],
          "scatterternary": [
           {
            "marker": {
             "colorbar": {
              "outlinewidth": 0,
              "ticks": ""
             }
            },
            "type": "scatterternary"
           }
          ],
          "surface": [
           {
            "colorbar": {
             "outlinewidth": 0,
             "ticks": ""
            },
            "colorscale": [
             [
              0,
              "#0d0887"
             ],
             [
              0.1111111111111111,
              "#46039f"
             ],
             [
              0.2222222222222222,
              "#7201a8"
             ],
             [
              0.3333333333333333,
              "#9c179e"
             ],
             [
              0.4444444444444444,
              "#bd3786"
             ],
             [
              0.5555555555555556,
              "#d8576b"
             ],
             [
              0.6666666666666666,
              "#ed7953"
             ],
             [
              0.7777777777777778,
              "#fb9f3a"
             ],
             [
              0.8888888888888888,
              "#fdca26"
             ],
             [
              1,
              "#f0f921"
             ]
            ],
            "type": "surface"
           }
          ],
          "table": [
           {
            "cells": {
             "fill": {
              "color": "#EBF0F8"
             },
             "line": {
              "color": "white"
             }
            },
            "header": {
             "fill": {
              "color": "#C8D4E3"
             },
             "line": {
              "color": "white"
             }
            },
            "type": "table"
           }
          ]
         },
         "layout": {
          "annotationdefaults": {
           "arrowcolor": "#2a3f5f",
           "arrowhead": 0,
           "arrowwidth": 1
          },
          "autotypenumbers": "strict",
          "coloraxis": {
           "colorbar": {
            "outlinewidth": 0,
            "ticks": ""
           }
          },
          "colorscale": {
           "diverging": [
            [
             0,
             "#8e0152"
            ],
            [
             0.1,
             "#c51b7d"
            ],
            [
             0.2,
             "#de77ae"
            ],
            [
             0.3,
             "#f1b6da"
            ],
            [
             0.4,
             "#fde0ef"
            ],
            [
             0.5,
             "#f7f7f7"
            ],
            [
             0.6,
             "#e6f5d0"
            ],
            [
             0.7,
             "#b8e186"
            ],
            [
             0.8,
             "#7fbc41"
            ],
            [
             0.9,
             "#4d9221"
            ],
            [
             1,
             "#276419"
            ]
           ],
           "sequential": [
            [
             0,
             "#0d0887"
            ],
            [
             0.1111111111111111,
             "#46039f"
            ],
            [
             0.2222222222222222,
             "#7201a8"
            ],
            [
             0.3333333333333333,
             "#9c179e"
            ],
            [
             0.4444444444444444,
             "#bd3786"
            ],
            [
             0.5555555555555556,
             "#d8576b"
            ],
            [
             0.6666666666666666,
             "#ed7953"
            ],
            [
             0.7777777777777778,
             "#fb9f3a"
            ],
            [
             0.8888888888888888,
             "#fdca26"
            ],
            [
             1,
             "#f0f921"
            ]
           ],
           "sequentialminus": [
            [
             0,
             "#0d0887"
            ],
            [
             0.1111111111111111,
             "#46039f"
            ],
            [
             0.2222222222222222,
             "#7201a8"
            ],
            [
             0.3333333333333333,
             "#9c179e"
            ],
            [
             0.4444444444444444,
             "#bd3786"
            ],
            [
             0.5555555555555556,
             "#d8576b"
            ],
            [
             0.6666666666666666,
             "#ed7953"
            ],
            [
             0.7777777777777778,
             "#fb9f3a"
            ],
            [
             0.8888888888888888,
             "#fdca26"
            ],
            [
             1,
             "#f0f921"
            ]
           ]
          },
          "colorway": [
           "#636efa",
           "#EF553B",
           "#00cc96",
           "#ab63fa",
           "#FFA15A",
           "#19d3f3",
           "#FF6692",
           "#B6E880",
           "#FF97FF",
           "#FECB52"
          ],
          "font": {
           "color": "#2a3f5f"
          },
          "geo": {
           "bgcolor": "white",
           "lakecolor": "white",
           "landcolor": "#E5ECF6",
           "showlakes": true,
           "showland": true,
           "subunitcolor": "white"
          },
          "hoverlabel": {
           "align": "left"
          },
          "hovermode": "closest",
          "mapbox": {
           "style": "light"
          },
          "paper_bgcolor": "white",
          "plot_bgcolor": "#E5ECF6",
          "polar": {
           "angularaxis": {
            "gridcolor": "white",
            "linecolor": "white",
            "ticks": ""
           },
           "bgcolor": "#E5ECF6",
           "radialaxis": {
            "gridcolor": "white",
            "linecolor": "white",
            "ticks": ""
           }
          },
          "scene": {
           "xaxis": {
            "backgroundcolor": "#E5ECF6",
            "gridcolor": "white",
            "gridwidth": 2,
            "linecolor": "white",
            "showbackground": true,
            "ticks": "",
            "zerolinecolor": "white"
           },
           "yaxis": {
            "backgroundcolor": "#E5ECF6",
            "gridcolor": "white",
            "gridwidth": 2,
            "linecolor": "white",
            "showbackground": true,
            "ticks": "",
            "zerolinecolor": "white"
           },
           "zaxis": {
            "backgroundcolor": "#E5ECF6",
            "gridcolor": "white",
            "gridwidth": 2,
            "linecolor": "white",
            "showbackground": true,
            "ticks": "",
            "zerolinecolor": "white"
           }
          },
          "shapedefaults": {
           "line": {
            "color": "#2a3f5f"
           }
          },
          "ternary": {
           "aaxis": {
            "gridcolor": "white",
            "linecolor": "white",
            "ticks": ""
           },
           "baxis": {
            "gridcolor": "white",
            "linecolor": "white",
            "ticks": ""
           },
           "bgcolor": "#E5ECF6",
           "caxis": {
            "gridcolor": "white",
            "linecolor": "white",
            "ticks": ""
           }
          },
          "title": {
           "x": 0.05
          },
          "xaxis": {
           "automargin": true,
           "gridcolor": "white",
           "linecolor": "white",
           "ticks": "",
           "title": {
            "standoff": 15
           },
           "zerolinecolor": "white",
           "zerolinewidth": 2
          },
          "yaxis": {
           "automargin": true,
           "gridcolor": "white",
           "linecolor": "white",
           "ticks": "",
           "title": {
            "standoff": 15
           },
           "zerolinecolor": "white",
           "zerolinewidth": 2
          }
         }
        },
        "title": {
         "text": "Contour Plot"
        },
        "xaxis": {
         "range": [
          -0.07499704568243412,
          1.5779911510728977
         ],
         "title": {
          "text": "max_depth"
         },
         "type": "log"
        },
        "yaxis": {
         "range": [
          1.1,
          20.9
         ],
         "title": {
          "text": "n_estimators"
         }
        }
       }
      }
     },
     "metadata": {},
     "output_type": "display_data"
    }
   ],
   "source": [
    "optuna.visualization.plot_contour(study, params=['n_estimators', 'max_depth'])"
   ]
  },
  {
   "cell_type": "markdown",
   "id": "7cb55a00",
   "metadata": {},
   "source": [
    "> Optuna Dashboard: https://optuna.readthedocs.io/en/stable/tutorial/10_key_features/005_visualization.html"
   ]
  }
 ],
 "metadata": {
  "kernelspec": {
   "display_name": ".venv",
   "language": "python",
   "name": "python3"
  },
  "language_info": {
   "codemirror_mode": {
    "name": "ipython",
    "version": 3
   },
   "file_extension": ".py",
   "mimetype": "text/x-python",
   "name": "python",
   "nbconvert_exporter": "python",
   "pygments_lexer": "ipython3",
   "version": "3.11.1"
  },
  "vscode": {
   "interpreter": {
    "hash": "fa22d641b846ad1a51e9fa43a97b4a160f6a3c3fc3abc162bbf7874c2905cea5"
   }
  }
 },
 "nbformat": 4,
 "nbformat_minor": 5
}
