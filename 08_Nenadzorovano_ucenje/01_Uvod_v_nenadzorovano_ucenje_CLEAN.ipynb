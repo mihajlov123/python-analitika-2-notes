{
 "cells": [
  {
   "cell_type": "markdown",
   "id": "a1190c9e",
   "metadata": {},
   "source": [
    "# Uvod v nenadzorovano učenje"
   ]
  },
  {
   "cell_type": "markdown",
   "id": "7aa7e035",
   "metadata": {},
   "source": [
    "Unsupervised learning subsumes all **kinds of machine learning where there is no known output, no teacher to instruct the learning algorithm**."
   ]
  },
  {
   "cell_type": "markdown",
   "id": "40039d35",
   "metadata": {},
   "source": [
    "<img src=\"./images/img01.png\"/>"
   ]
  },
  {
   "cell_type": "markdown",
   "id": "ef04310f",
   "metadata": {},
   "source": [
    "## Types of Unsupervised Learning"
   ]
  },
  {
   "cell_type": "markdown",
   "id": "2b3f691d",
   "metadata": {},
   "source": [
    "<img src=\"./images/img02.png\"/>"
   ]
  },
  {
   "cell_type": "markdown",
   "id": "3e1b6c20",
   "metadata": {},
   "source": [
    "- **`Clustering algorithms`**, on the other hand, **partition data into distinct groups of similar items**.\n"
   ]
  },
  {
   "cell_type": "markdown",
   "id": "72a2cef7",
   "metadata": {},
   "source": [
    "- **`Unsupervised transformations of a dataset`** are **algorithms that create a new representation of the data** which might be **easier** for humans or other machine learning algorithms **to understand** compared to the original representation of the data.\n"
   ]
  },
  {
   "cell_type": "markdown",
   "id": "f51ac882",
   "metadata": {},
   "source": [
    "## Challenges in Unsupervised Learning"
   ]
  },
  {
   "cell_type": "markdown",
   "id": "97f32c07",
   "metadata": {},
   "source": [
    "- A major challenge in unsupervised learning is **evaluating whether the algorithm learned something useful**.\n",
    "- Computational complexity due to a high volume of training data"
   ]
  },
  {
   "cell_type": "markdown",
   "id": "7baf44b8",
   "metadata": {},
   "source": [
    "## Applications of unsupervised learning"
   ]
  },
  {
   "cell_type": "code",
   "execution_count": null,
   "id": "7d1bce36",
   "metadata": {},
   "outputs": [],
   "source": []
  },
  {
   "cell_type": "code",
   "execution_count": null,
   "id": "ec47d12c",
   "metadata": {},
   "outputs": [],
   "source": []
  },
  {
   "cell_type": "code",
   "execution_count": null,
   "id": "a7e6ab7f",
   "metadata": {},
   "outputs": [],
   "source": []
  },
  {
   "cell_type": "code",
   "execution_count": null,
   "id": "12a3f915",
   "metadata": {},
   "outputs": [],
   "source": []
  },
  {
   "cell_type": "code",
   "execution_count": null,
   "id": "407d8cbd",
   "metadata": {},
   "outputs": [],
   "source": []
  },
  {
   "cell_type": "code",
   "execution_count": null,
   "id": "e0f17b2c",
   "metadata": {},
   "outputs": [],
   "source": []
  }
 ],
 "metadata": {
  "kernelspec": {
   "display_name": "Python 3 (ipykernel)",
   "language": "python",
   "name": "python3"
  },
  "language_info": {
   "codemirror_mode": {
    "name": "ipython",
    "version": 3
   },
   "file_extension": ".py",
   "mimetype": "text/x-python",
   "name": "python",
   "nbconvert_exporter": "python",
   "pygments_lexer": "ipython3",
   "version": "3.10.7"
  }
 },
 "nbformat": 4,
 "nbformat_minor": 5
}
