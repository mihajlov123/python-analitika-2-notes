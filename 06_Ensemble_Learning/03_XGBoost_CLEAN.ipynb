{
 "cells": [
  {
   "cell_type": "markdown",
   "id": "05912c67",
   "metadata": {},
   "source": [
    "# XGBoost"
   ]
  },
  {
   "cell_type": "code",
   "execution_count": 34,
   "id": "88e3def6",
   "metadata": {},
   "outputs": [],
   "source": [
    "import pandas as pd\n",
    "import numpy as np\n",
    "%matplotlib inline\n",
    "import matplotlib.pyplot as plt\n",
    "import seaborn as sns; sns.set()"
   ]
  },
  {
   "cell_type": "markdown",
   "id": "15fe7fbb",
   "metadata": {},
   "source": [
    "## Intro to XGBoost"
   ]
  },
  {
   "cell_type": "code",
   "execution_count": null,
   "id": "df6ac64f",
   "metadata": {},
   "outputs": [],
   "source": []
  },
  {
   "cell_type": "code",
   "execution_count": null,
   "id": "5adfbfd7",
   "metadata": {},
   "outputs": [],
   "source": []
  },
  {
   "cell_type": "markdown",
   "id": "86f9f34d",
   "metadata": {},
   "source": [
    "## XGBoost Library"
   ]
  },
  {
   "cell_type": "markdown",
   "id": "dfbbd779",
   "metadata": {},
   "source": [
    "XGBoost is an industry-proven, open-source software library that provides a gradient boosting framework for scaling billions of data points quickly and efficiently."
   ]
  },
  {
   "cell_type": "markdown",
   "id": "59bc02ab",
   "metadata": {},
   "source": [
    "Docs: https://xgboost.readthedocs.io/en/stable/index.html"
   ]
  },
  {
   "cell_type": "markdown",
   "id": "6beab719",
   "metadata": {},
   "source": [
    "**XGBoost** is an optimized distributed gradient boosting library designed to be highly **efficient, flexible and portable**. It implements machine learning algorithms under the Gradient Boosting framework. XGBoost provides a parallel tree boosting (also known as GBDT, GBM) that solve many data science problems in a fast and accurate way. The same code runs on major distributed environment (Hadoop, SGE, MPI) and can solve problems beyond billions of examples."
   ]
  },
  {
   "cell_type": "markdown",
   "id": "ce15edd5",
   "metadata": {},
   "source": [
    "Installation: https://xgboost.readthedocs.io/en/stable/install.html#python\n",
    "- `pip install xgboost`"
   ]
  },
  {
   "cell_type": "code",
   "execution_count": 35,
   "id": "de3bf3bd",
   "metadata": {},
   "outputs": [
    {
     "name": "stdout",
     "output_type": "stream",
     "text": [
      "1.7.4\n"
     ]
    }
   ],
   "source": [
    "import xgboost\n",
    "\n",
    "print(xgboost.__version__)"
   ]
  },
  {
   "attachments": {},
   "cell_type": "markdown",
   "id": "2aee7f77",
   "metadata": {},
   "source": [
    "## XGBoost native API\n",
    "- lahko uporabljamo direktno z native API-jem"
   ]
  },
  {
   "cell_type": "code",
   "execution_count": 36,
   "id": "54ffd196",
   "metadata": {},
   "outputs": [
    {
     "data": {
      "text/html": [
       "<div>\n",
       "<style scoped>\n",
       "    .dataframe tbody tr th:only-of-type {\n",
       "        vertical-align: middle;\n",
       "    }\n",
       "\n",
       "    .dataframe tbody tr th {\n",
       "        vertical-align: top;\n",
       "    }\n",
       "\n",
       "    .dataframe thead th {\n",
       "        text-align: right;\n",
       "    }\n",
       "</style>\n",
       "<table border=\"1\" class=\"dataframe\">\n",
       "  <thead>\n",
       "    <tr style=\"text-align: right;\">\n",
       "      <th></th>\n",
       "      <th>carat</th>\n",
       "      <th>cut</th>\n",
       "      <th>color</th>\n",
       "      <th>clarity</th>\n",
       "      <th>depth</th>\n",
       "      <th>table</th>\n",
       "      <th>price</th>\n",
       "      <th>x</th>\n",
       "      <th>y</th>\n",
       "      <th>z</th>\n",
       "    </tr>\n",
       "  </thead>\n",
       "  <tbody>\n",
       "    <tr>\n",
       "      <th>0</th>\n",
       "      <td>0.23</td>\n",
       "      <td>Ideal</td>\n",
       "      <td>E</td>\n",
       "      <td>SI2</td>\n",
       "      <td>61.5</td>\n",
       "      <td>55.0</td>\n",
       "      <td>326</td>\n",
       "      <td>3.95</td>\n",
       "      <td>3.98</td>\n",
       "      <td>2.43</td>\n",
       "    </tr>\n",
       "    <tr>\n",
       "      <th>1</th>\n",
       "      <td>0.21</td>\n",
       "      <td>Premium</td>\n",
       "      <td>E</td>\n",
       "      <td>SI1</td>\n",
       "      <td>59.8</td>\n",
       "      <td>61.0</td>\n",
       "      <td>326</td>\n",
       "      <td>3.89</td>\n",
       "      <td>3.84</td>\n",
       "      <td>2.31</td>\n",
       "    </tr>\n",
       "    <tr>\n",
       "      <th>2</th>\n",
       "      <td>0.23</td>\n",
       "      <td>Good</td>\n",
       "      <td>E</td>\n",
       "      <td>VS1</td>\n",
       "      <td>56.9</td>\n",
       "      <td>65.0</td>\n",
       "      <td>327</td>\n",
       "      <td>4.05</td>\n",
       "      <td>4.07</td>\n",
       "      <td>2.31</td>\n",
       "    </tr>\n",
       "    <tr>\n",
       "      <th>3</th>\n",
       "      <td>0.29</td>\n",
       "      <td>Premium</td>\n",
       "      <td>I</td>\n",
       "      <td>VS2</td>\n",
       "      <td>62.4</td>\n",
       "      <td>58.0</td>\n",
       "      <td>334</td>\n",
       "      <td>4.20</td>\n",
       "      <td>4.23</td>\n",
       "      <td>2.63</td>\n",
       "    </tr>\n",
       "    <tr>\n",
       "      <th>4</th>\n",
       "      <td>0.31</td>\n",
       "      <td>Good</td>\n",
       "      <td>J</td>\n",
       "      <td>SI2</td>\n",
       "      <td>63.3</td>\n",
       "      <td>58.0</td>\n",
       "      <td>335</td>\n",
       "      <td>4.34</td>\n",
       "      <td>4.35</td>\n",
       "      <td>2.75</td>\n",
       "    </tr>\n",
       "  </tbody>\n",
       "</table>\n",
       "</div>"
      ],
      "text/plain": [
       "   carat      cut color clarity  depth  table  price     x     y     z\n",
       "0   0.23    Ideal     E     SI2   61.5   55.0    326  3.95  3.98  2.43\n",
       "1   0.21  Premium     E     SI1   59.8   61.0    326  3.89  3.84  2.31\n",
       "2   0.23     Good     E     VS1   56.9   65.0    327  4.05  4.07  2.31\n",
       "3   0.29  Premium     I     VS2   62.4   58.0    334  4.20  4.23  2.63\n",
       "4   0.31     Good     J     SI2   63.3   58.0    335  4.34  4.35  2.75"
      ]
     },
     "execution_count": 36,
     "metadata": {},
     "output_type": "execute_result"
    }
   ],
   "source": [
    "diamonds = sns.load_dataset(\"diamonds\")\n",
    "diamonds.head()"
   ]
  },
  {
   "cell_type": "code",
   "execution_count": 37,
   "id": "582b8b6b",
   "metadata": {},
   "outputs": [
    {
     "data": {
      "text/plain": [
       "(53940, 10)"
      ]
     },
     "execution_count": 37,
     "metadata": {},
     "output_type": "execute_result"
    }
   ],
   "source": [
    "diamonds.shape"
   ]
  },
  {
   "cell_type": "code",
   "execution_count": 38,
   "id": "4ba449b3",
   "metadata": {},
   "outputs": [
    {
     "data": {
      "text/html": [
       "<div>\n",
       "<style scoped>\n",
       "    .dataframe tbody tr th:only-of-type {\n",
       "        vertical-align: middle;\n",
       "    }\n",
       "\n",
       "    .dataframe tbody tr th {\n",
       "        vertical-align: top;\n",
       "    }\n",
       "\n",
       "    .dataframe thead th {\n",
       "        text-align: right;\n",
       "    }\n",
       "</style>\n",
       "<table border=\"1\" class=\"dataframe\">\n",
       "  <thead>\n",
       "    <tr style=\"text-align: right;\">\n",
       "      <th></th>\n",
       "      <th>carat</th>\n",
       "      <th>depth</th>\n",
       "      <th>table</th>\n",
       "      <th>price</th>\n",
       "      <th>x</th>\n",
       "      <th>y</th>\n",
       "      <th>z</th>\n",
       "    </tr>\n",
       "  </thead>\n",
       "  <tbody>\n",
       "    <tr>\n",
       "      <th>count</th>\n",
       "      <td>53940.000000</td>\n",
       "      <td>53940.000000</td>\n",
       "      <td>53940.000000</td>\n",
       "      <td>53940.000000</td>\n",
       "      <td>53940.000000</td>\n",
       "      <td>53940.000000</td>\n",
       "      <td>53940.000000</td>\n",
       "    </tr>\n",
       "    <tr>\n",
       "      <th>mean</th>\n",
       "      <td>0.797940</td>\n",
       "      <td>61.749405</td>\n",
       "      <td>57.457184</td>\n",
       "      <td>3932.799722</td>\n",
       "      <td>5.731157</td>\n",
       "      <td>5.734526</td>\n",
       "      <td>3.538734</td>\n",
       "    </tr>\n",
       "    <tr>\n",
       "      <th>std</th>\n",
       "      <td>0.474011</td>\n",
       "      <td>1.432621</td>\n",
       "      <td>2.234491</td>\n",
       "      <td>3989.439738</td>\n",
       "      <td>1.121761</td>\n",
       "      <td>1.142135</td>\n",
       "      <td>0.705699</td>\n",
       "    </tr>\n",
       "    <tr>\n",
       "      <th>min</th>\n",
       "      <td>0.200000</td>\n",
       "      <td>43.000000</td>\n",
       "      <td>43.000000</td>\n",
       "      <td>326.000000</td>\n",
       "      <td>0.000000</td>\n",
       "      <td>0.000000</td>\n",
       "      <td>0.000000</td>\n",
       "    </tr>\n",
       "    <tr>\n",
       "      <th>25%</th>\n",
       "      <td>0.400000</td>\n",
       "      <td>61.000000</td>\n",
       "      <td>56.000000</td>\n",
       "      <td>950.000000</td>\n",
       "      <td>4.710000</td>\n",
       "      <td>4.720000</td>\n",
       "      <td>2.910000</td>\n",
       "    </tr>\n",
       "    <tr>\n",
       "      <th>50%</th>\n",
       "      <td>0.700000</td>\n",
       "      <td>61.800000</td>\n",
       "      <td>57.000000</td>\n",
       "      <td>2401.000000</td>\n",
       "      <td>5.700000</td>\n",
       "      <td>5.710000</td>\n",
       "      <td>3.530000</td>\n",
       "    </tr>\n",
       "    <tr>\n",
       "      <th>75%</th>\n",
       "      <td>1.040000</td>\n",
       "      <td>62.500000</td>\n",
       "      <td>59.000000</td>\n",
       "      <td>5324.250000</td>\n",
       "      <td>6.540000</td>\n",
       "      <td>6.540000</td>\n",
       "      <td>4.040000</td>\n",
       "    </tr>\n",
       "    <tr>\n",
       "      <th>max</th>\n",
       "      <td>5.010000</td>\n",
       "      <td>79.000000</td>\n",
       "      <td>95.000000</td>\n",
       "      <td>18823.000000</td>\n",
       "      <td>10.740000</td>\n",
       "      <td>58.900000</td>\n",
       "      <td>31.800000</td>\n",
       "    </tr>\n",
       "  </tbody>\n",
       "</table>\n",
       "</div>"
      ],
      "text/plain": [
       "              carat         depth         table         price             x  \\\n",
       "count  53940.000000  53940.000000  53940.000000  53940.000000  53940.000000   \n",
       "mean       0.797940     61.749405     57.457184   3932.799722      5.731157   \n",
       "std        0.474011      1.432621      2.234491   3989.439738      1.121761   \n",
       "min        0.200000     43.000000     43.000000    326.000000      0.000000   \n",
       "25%        0.400000     61.000000     56.000000    950.000000      4.710000   \n",
       "50%        0.700000     61.800000     57.000000   2401.000000      5.700000   \n",
       "75%        1.040000     62.500000     59.000000   5324.250000      6.540000   \n",
       "max        5.010000     79.000000     95.000000  18823.000000     10.740000   \n",
       "\n",
       "                  y             z  \n",
       "count  53940.000000  53940.000000  \n",
       "mean       5.734526      3.538734  \n",
       "std        1.142135      0.705699  \n",
       "min        0.000000      0.000000  \n",
       "25%        4.720000      2.910000  \n",
       "50%        5.710000      3.530000  \n",
       "75%        6.540000      4.040000  \n",
       "max       58.900000     31.800000  "
      ]
     },
     "execution_count": 38,
     "metadata": {},
     "output_type": "execute_result"
    }
   ],
   "source": [
    "diamonds.describe()"
   ]
  },
  {
   "cell_type": "code",
   "execution_count": 39,
   "id": "bd9bf33b",
   "metadata": {},
   "outputs": [
    {
     "data": {
      "text/html": [
       "<div>\n",
       "<style scoped>\n",
       "    .dataframe tbody tr th:only-of-type {\n",
       "        vertical-align: middle;\n",
       "    }\n",
       "\n",
       "    .dataframe tbody tr th {\n",
       "        vertical-align: top;\n",
       "    }\n",
       "\n",
       "    .dataframe thead th {\n",
       "        text-align: right;\n",
       "    }\n",
       "</style>\n",
       "<table border=\"1\" class=\"dataframe\">\n",
       "  <thead>\n",
       "    <tr style=\"text-align: right;\">\n",
       "      <th></th>\n",
       "      <th>cut</th>\n",
       "      <th>color</th>\n",
       "      <th>clarity</th>\n",
       "    </tr>\n",
       "  </thead>\n",
       "  <tbody>\n",
       "    <tr>\n",
       "      <th>count</th>\n",
       "      <td>53940</td>\n",
       "      <td>53940</td>\n",
       "      <td>53940</td>\n",
       "    </tr>\n",
       "    <tr>\n",
       "      <th>unique</th>\n",
       "      <td>5</td>\n",
       "      <td>7</td>\n",
       "      <td>8</td>\n",
       "    </tr>\n",
       "    <tr>\n",
       "      <th>top</th>\n",
       "      <td>Ideal</td>\n",
       "      <td>G</td>\n",
       "      <td>SI1</td>\n",
       "    </tr>\n",
       "    <tr>\n",
       "      <th>freq</th>\n",
       "      <td>21551</td>\n",
       "      <td>11292</td>\n",
       "      <td>13065</td>\n",
       "    </tr>\n",
       "  </tbody>\n",
       "</table>\n",
       "</div>"
      ],
      "text/plain": [
       "          cut  color clarity\n",
       "count   53940  53940   53940\n",
       "unique      5      7       8\n",
       "top     Ideal      G     SI1\n",
       "freq    21551  11292   13065"
      ]
     },
     "execution_count": 39,
     "metadata": {},
     "output_type": "execute_result"
    }
   ],
   "source": [
    "diamonds.describe(exclude=np.number)"
   ]
  },
  {
   "cell_type": "code",
   "execution_count": 40,
   "id": "fa77cbf5",
   "metadata": {},
   "outputs": [],
   "source": [
    "from sklearn.model_selection import train_test_split\n",
    "\n",
    "# Extract feature and target arrays\n",
    "X, y = diamonds.drop('price', axis=1), diamonds[['price']]\n",
    "\n",
    "# Extract text features\n",
    "cats = X.select_dtypes(exclude=np.number).columns.tolist()\n",
    "\n",
    "# Convert to Pandas category\n",
    "# Ni potrebno posebej one-hot encodati -> samo povemo da gre za categoricne podatke\n",
    "for col in cats:\n",
    "    X[col] = X[col].astype('category')\n",
    "    \n",
    "# Split the data\n",
    "X_train, X_test, y_train, y_test = train_test_split(X, y, random_state=1)"
   ]
  },
  {
   "cell_type": "code",
   "execution_count": 41,
   "id": "7211e019",
   "metadata": {},
   "outputs": [],
   "source": [
    "import xgboost as xgb\n",
    "\n",
    "# Create regression matrices - DMatrix je visoko optimiziran class za hranjenje podatkov (podobno kot pandas)\n",
    "dtrain_reg = xgb.DMatrix(X_train, y_train, enable_categorical=True)\n",
    "dtest_reg = xgb.DMatrix(X_test, y_test, enable_categorical=True)"
   ]
  },
  {
   "cell_type": "code",
   "execution_count": 66,
   "id": "b2de6ae2",
   "metadata": {},
   "outputs": [],
   "source": [
    "# Define hyperparameters\n",
    "\n",
    "params = {\"objective\": \"reg:squarederror\", \"tree_method\": \"hist\"}\n",
    "# objective je loss funkcija - na podlagi tega xgboost ve ali gre za klassifikacijski ali regresijski problem\n",
    "# reg:squarederror -> regresijski problem z loss funkcijo squarederror\n",
    "\n",
    "# tree_method določa HW parameters\n",
    "# gpu_hist -> grafična kartica"
   ]
  },
  {
   "cell_type": "code",
   "execution_count": 43,
   "id": "551d99eb",
   "metadata": {},
   "outputs": [],
   "source": [
    "# .train je tako kot da bi dali .fit v sklearn-u\n",
    "model = xgb.train(params=params, dtrain=dtrain_reg, num_boost_round=100)"
   ]
  },
  {
   "cell_type": "code",
   "execution_count": 44,
   "id": "104395bd",
   "metadata": {},
   "outputs": [],
   "source": [
    "from sklearn.metrics import mean_squared_error\n",
    "# delno lahko native API kombiniramo s sklearn knjižnico\n",
    "preds = model.predict(dtest_reg)"
   ]
  },
  {
   "cell_type": "code",
   "execution_count": 45,
   "id": "d4f358b8",
   "metadata": {},
   "outputs": [
    {
     "name": "stdout",
     "output_type": "stream",
     "text": [
      "RMSE of the base model: 545.388\n"
     ]
    }
   ],
   "source": [
    "rmse = mean_squared_error(y_test, preds, squared=False)\n",
    "print(f\"RMSE of the base model: {rmse:.3f}\")"
   ]
  },
  {
   "attachments": {},
   "cell_type": "markdown",
   "id": "2a3d9916",
   "metadata": {},
   "source": [
    "### Using Validation Sets During Training\n",
    "- prikaz kako se z iteracijami izboljšuje model"
   ]
  },
  {
   "cell_type": "code",
   "execution_count": 46,
   "id": "e78ff643",
   "metadata": {},
   "outputs": [],
   "source": [
    "params = {\"objective\": \"reg:squarederror\", \"tree_method\": \"hist\"}"
   ]
  },
  {
   "cell_type": "code",
   "execution_count": 47,
   "id": "de53e9b3",
   "metadata": {},
   "outputs": [],
   "source": [
    "evals = [(dtest_reg, \"validation\"), (dtrain_reg, \"train\")]"
   ]
  },
  {
   "cell_type": "code",
   "execution_count": 67,
   "id": "f54297fa",
   "metadata": {},
   "outputs": [
    {
     "name": "stdout",
     "output_type": "stream",
     "text": [
      "[0]\tvalidation-rmse:3930.87087\ttrain-rmse:3985.31595\n",
      "[10]\tvalidation-rmse:591.03042\ttrain-rmse:557.19710\n",
      "[20]\tvalidation-rmse:550.76666\ttrain-rmse:495.31647\n",
      "[30]\tvalidation-rmse:547.16647\ttrain-rmse:467.13670\n",
      "[40]\tvalidation-rmse:544.10422\ttrain-rmse:447.26879\n",
      "[50]\tvalidation-rmse:543.97371\ttrain-rmse:432.51681\n",
      "[60]\tvalidation-rmse:544.77874\ttrain-rmse:420.72943\n",
      "[70]\tvalidation-rmse:544.77491\ttrain-rmse:408.72053\n",
      "[80]\tvalidation-rmse:544.33808\ttrain-rmse:395.88816\n",
      "[90]\tvalidation-rmse:545.99682\ttrain-rmse:383.62262\n",
      "[99]\tvalidation-rmse:545.38842\ttrain-rmse:378.37454\n"
     ]
    }
   ],
   "source": [
    "evals = [(dtest_reg, \"validation\"), (dtrain_reg, \"train\")]\n",
    "\n",
    "model = xgb.train(params=params, dtrain=dtrain_reg, num_boost_round=100, evals=evals,verbose_eval=10) # Print every ten rounds"
   ]
  },
  {
   "cell_type": "markdown",
   "id": "222ddb4a",
   "metadata": {},
   "source": [
    "### XGBoost Early Stopping"
   ]
  },
  {
   "cell_type": "code",
   "execution_count": 49,
   "id": "de76c8e3",
   "metadata": {},
   "outputs": [
    {
     "name": "stdout",
     "output_type": "stream",
     "text": [
      "[0]\tvalidation-rmse:3930.87087\ttrain-rmse:3985.31595\n",
      "[500]\tvalidation-rmse:567.09440\ttrain-rmse:202.29270\n",
      "[1000]\tvalidation-rmse:573.92496\ttrain-rmse:124.11251\n",
      "[1500]\tvalidation-rmse:577.05346\ttrain-rmse:86.53817\n",
      "[2000]\tvalidation-rmse:579.29924\ttrain-rmse:64.88654\n",
      "[2500]\tvalidation-rmse:580.64166\ttrain-rmse:49.60797\n",
      "[3000]\tvalidation-rmse:581.33497\ttrain-rmse:39.07501\n",
      "[3500]\tvalidation-rmse:581.94197\ttrain-rmse:31.53707\n",
      "[4000]\tvalidation-rmse:582.09487\ttrain-rmse:26.22932\n",
      "[4500]\tvalidation-rmse:582.35214\ttrain-rmse:22.08176\n",
      "[4999]\tvalidation-rmse:582.41460\ttrain-rmse:19.09406\n"
     ]
    }
   ],
   "source": [
    "model = xgb.train(params=params, dtrain=dtrain_reg, num_boost_round=5000, evals=evals,verbose_eval=500)"
   ]
  },
  {
   "cell_type": "code",
   "execution_count": 68,
   "id": "dd24ccc6",
   "metadata": {},
   "outputs": [
    {
     "name": "stdout",
     "output_type": "stream",
     "text": [
      "[0]\ttrain-rmse:3985.31595\tvalidation-rmse:3930.87087\n",
      "[50]\ttrain-rmse:432.51681\tvalidation-rmse:543.97371\n",
      "[88]\ttrain-rmse:385.79451\tvalidation-rmse:545.25177\n"
     ]
    }
   ],
   "source": [
    "# If there’s more than one metric in the eval_metric parameter given in params, \n",
    "# the last metric will be used for early stopping.\n",
    "evals = [(dtrain_reg, \"train\"), (dtest_reg, \"validation\")]\n",
    "\n",
    "model = xgb.train(\n",
    "   params=params,\n",
    "   dtrain=dtrain_reg,\n",
    "   num_boost_round=1000,\n",
    "   evals=evals,\n",
    "   verbose_eval=50,\n",
    "   # Activate early stopping\n",
    "   early_stopping_rounds=50 # če se 50 iteracij rezultat ne izboljša se proces ustavi\n",
    ")"
   ]
  },
  {
   "cell_type": "markdown",
   "id": "a6ea5745",
   "metadata": {},
   "source": [
    "### XGBoost Cross-Validation"
   ]
  },
  {
   "cell_type": "code",
   "execution_count": 51,
   "id": "7b629c2d",
   "metadata": {},
   "outputs": [],
   "source": [
    "params = {\"objective\": \"reg:squarederror\", \"tree_method\": \"hist\"}\n",
    "n = 1000\n",
    "\n",
    "# podobno kot .cv metoda v sklearnu\n",
    "results = xgb.cv(params, dtrain_reg, num_boost_round=n, nfold=5, early_stopping_rounds=20)"
   ]
  },
  {
   "cell_type": "code",
   "execution_count": 52,
   "id": "adf598e8",
   "metadata": {},
   "outputs": [
    {
     "data": {
      "text/html": [
       "<div>\n",
       "<style scoped>\n",
       "    .dataframe tbody tr th:only-of-type {\n",
       "        vertical-align: middle;\n",
       "    }\n",
       "\n",
       "    .dataframe tbody tr th {\n",
       "        vertical-align: top;\n",
       "    }\n",
       "\n",
       "    .dataframe thead th {\n",
       "        text-align: right;\n",
       "    }\n",
       "</style>\n",
       "<table border=\"1\" class=\"dataframe\">\n",
       "  <thead>\n",
       "    <tr style=\"text-align: right;\">\n",
       "      <th></th>\n",
       "      <th>train-rmse-mean</th>\n",
       "      <th>train-rmse-std</th>\n",
       "      <th>test-rmse-mean</th>\n",
       "      <th>test-rmse-std</th>\n",
       "    </tr>\n",
       "  </thead>\n",
       "  <tbody>\n",
       "    <tr>\n",
       "      <th>0</th>\n",
       "      <td>3985.648654</td>\n",
       "      <td>10.343596</td>\n",
       "      <td>3986.913623</td>\n",
       "      <td>41.642778</td>\n",
       "    </tr>\n",
       "    <tr>\n",
       "      <th>1</th>\n",
       "      <td>2848.365726</td>\n",
       "      <td>8.014086</td>\n",
       "      <td>2851.020437</td>\n",
       "      <td>28.028733</td>\n",
       "    </tr>\n",
       "    <tr>\n",
       "      <th>2</th>\n",
       "      <td>2063.401458</td>\n",
       "      <td>4.637773</td>\n",
       "      <td>2068.629977</td>\n",
       "      <td>19.969459</td>\n",
       "    </tr>\n",
       "    <tr>\n",
       "      <th>3</th>\n",
       "      <td>1521.493751</td>\n",
       "      <td>3.874078</td>\n",
       "      <td>1530.496272</td>\n",
       "      <td>13.592330</td>\n",
       "    </tr>\n",
       "    <tr>\n",
       "      <th>4</th>\n",
       "      <td>1156.827103</td>\n",
       "      <td>2.991735</td>\n",
       "      <td>1170.413316</td>\n",
       "      <td>11.695597</td>\n",
       "    </tr>\n",
       "  </tbody>\n",
       "</table>\n",
       "</div>"
      ],
      "text/plain": [
       "   train-rmse-mean  train-rmse-std  test-rmse-mean  test-rmse-std\n",
       "0      3985.648654       10.343596     3986.913623      41.642778\n",
       "1      2848.365726        8.014086     2851.020437      28.028733\n",
       "2      2063.401458        4.637773     2068.629977      19.969459\n",
       "3      1521.493751        3.874078     1530.496272      13.592330\n",
       "4      1156.827103        2.991735     1170.413316      11.695597"
      ]
     },
     "execution_count": 52,
     "metadata": {},
     "output_type": "execute_result"
    }
   ],
   "source": [
    "results.head()"
   ]
  },
  {
   "cell_type": "code",
   "execution_count": 53,
   "id": "299e75b0",
   "metadata": {},
   "outputs": [
    {
     "data": {
      "text/plain": [
       "550.7196748119261"
      ]
     },
     "execution_count": 53,
     "metadata": {},
     "output_type": "execute_result"
    }
   ],
   "source": [
    "best_rmse = results['test-rmse-mean'].min()\n",
    "best_rmse"
   ]
  },
  {
   "cell_type": "markdown",
   "id": "cd20d47f",
   "metadata": {},
   "source": [
    "### XGBoost Classification"
   ]
  },
  {
   "cell_type": "code",
   "execution_count": 54,
   "id": "6a0215e5",
   "metadata": {},
   "outputs": [],
   "source": [
    "from sklearn.preprocessing import OrdinalEncoder\n",
    "\n",
    "X, y = diamonds.drop(\"cut\", axis=1), diamonds[['cut']]\n",
    "\n",
    "# Encode y to numeric\n",
    "y_encoded = OrdinalEncoder().fit_transform(y)\n",
    "\n",
    "# Extract text features\n",
    "cats = X.select_dtypes(exclude=np.number).columns.tolist()\n",
    "\n",
    "# Convert to pd.Categorical\n",
    "for col in cats:\n",
    "    X[col] = X[col].astype('category')\n",
    "\n",
    "# Split the data\n",
    "X_train, X_test, y_train, y_test = train_test_split(X, y_encoded, random_state=1, stratify=y_encoded)"
   ]
  },
  {
   "cell_type": "code",
   "execution_count": 55,
   "id": "34162412",
   "metadata": {},
   "outputs": [
    {
     "data": {
      "text/plain": [
       "['Ideal', 'Premium', 'Good', 'Very Good', 'Fair']\n",
       "Categories (5, object): ['Ideal', 'Premium', 'Very Good', 'Good', 'Fair']"
      ]
     },
     "execution_count": 55,
     "metadata": {},
     "output_type": "execute_result"
    }
   ],
   "source": [
    "y[\"cut\"].unique()"
   ]
  },
  {
   "cell_type": "code",
   "execution_count": 56,
   "id": "1b7cae2e",
   "metadata": {},
   "outputs": [],
   "source": [
    "# Create classification matrices\n",
    "dtrain_clf = xgb.DMatrix(X_train, y_train, enable_categorical=True)\n",
    "dtest_clf = xgb.DMatrix(X_test, y_test, enable_categorical=True)"
   ]
  },
  {
   "cell_type": "code",
   "execution_count": 57,
   "id": "9a18d96a",
   "metadata": {},
   "outputs": [],
   "source": [
    "params = {\"objective\": \"multi:softprob\", \"tree_method\": \"hist\", \"num_class\": 5}\n",
    "# \"objective\": \"multi:softprob\" -> klaisifkacijski model v tem primeru je potrebno napovedato število napovedanih klasov \"num_class\": 5\n",
    "\n",
    "results = xgb.cv(\n",
    "   params, dtrain_clf,\n",
    "   num_boost_round=100,\n",
    "   nfold=5,\n",
    "   metrics=[\"mlogloss\", \"auc\", \"merror\"],\n",
    "   early_stopping_rounds=20\n",
    ")"
   ]
  },
  {
   "cell_type": "code",
   "execution_count": 58,
   "id": "4a1505c6",
   "metadata": {},
   "outputs": [
    {
     "data": {
      "text/html": [
       "<div>\n",
       "<style scoped>\n",
       "    .dataframe tbody tr th:only-of-type {\n",
       "        vertical-align: middle;\n",
       "    }\n",
       "\n",
       "    .dataframe tbody tr th {\n",
       "        vertical-align: top;\n",
       "    }\n",
       "\n",
       "    .dataframe thead th {\n",
       "        text-align: right;\n",
       "    }\n",
       "</style>\n",
       "<table border=\"1\" class=\"dataframe\">\n",
       "  <thead>\n",
       "    <tr style=\"text-align: right;\">\n",
       "      <th></th>\n",
       "      <th>train-mlogloss-mean</th>\n",
       "      <th>train-mlogloss-std</th>\n",
       "      <th>train-auc-mean</th>\n",
       "      <th>train-auc-std</th>\n",
       "      <th>train-merror-mean</th>\n",
       "      <th>train-merror-std</th>\n",
       "      <th>test-mlogloss-mean</th>\n",
       "      <th>test-mlogloss-std</th>\n",
       "      <th>test-auc-mean</th>\n",
       "      <th>test-auc-std</th>\n",
       "      <th>test-merror-mean</th>\n",
       "      <th>test-merror-std</th>\n",
       "    </tr>\n",
       "  </thead>\n",
       "  <tbody>\n",
       "    <tr>\n",
       "      <th>0</th>\n",
       "      <td>1.257340</td>\n",
       "      <td>0.000793</td>\n",
       "      <td>0.892373</td>\n",
       "      <td>0.000520</td>\n",
       "      <td>0.255772</td>\n",
       "      <td>0.000619</td>\n",
       "      <td>1.260954</td>\n",
       "      <td>0.001528</td>\n",
       "      <td>0.887060</td>\n",
       "      <td>0.001848</td>\n",
       "      <td>0.260042</td>\n",
       "      <td>0.002096</td>\n",
       "    </tr>\n",
       "    <tr>\n",
       "      <th>1</th>\n",
       "      <td>1.073036</td>\n",
       "      <td>0.000955</td>\n",
       "      <td>0.897153</td>\n",
       "      <td>0.000239</td>\n",
       "      <td>0.253918</td>\n",
       "      <td>0.000650</td>\n",
       "      <td>1.079572</td>\n",
       "      <td>0.002348</td>\n",
       "      <td>0.891436</td>\n",
       "      <td>0.001965</td>\n",
       "      <td>0.258139</td>\n",
       "      <td>0.002890</td>\n",
       "    </tr>\n",
       "    <tr>\n",
       "      <th>2</th>\n",
       "      <td>0.954985</td>\n",
       "      <td>0.001309</td>\n",
       "      <td>0.900132</td>\n",
       "      <td>0.000810</td>\n",
       "      <td>0.251533</td>\n",
       "      <td>0.002001</td>\n",
       "      <td>0.964390</td>\n",
       "      <td>0.003143</td>\n",
       "      <td>0.894313</td>\n",
       "      <td>0.001703</td>\n",
       "      <td>0.255617</td>\n",
       "      <td>0.001872</td>\n",
       "    </tr>\n",
       "    <tr>\n",
       "      <th>3</th>\n",
       "      <td>0.874229</td>\n",
       "      <td>0.001387</td>\n",
       "      <td>0.902673</td>\n",
       "      <td>0.000454</td>\n",
       "      <td>0.249951</td>\n",
       "      <td>0.001960</td>\n",
       "      <td>0.886645</td>\n",
       "      <td>0.003445</td>\n",
       "      <td>0.896172</td>\n",
       "      <td>0.002041</td>\n",
       "      <td>0.255172</td>\n",
       "      <td>0.002239</td>\n",
       "    </tr>\n",
       "    <tr>\n",
       "      <th>4</th>\n",
       "      <td>0.815914</td>\n",
       "      <td>0.002027</td>\n",
       "      <td>0.905565</td>\n",
       "      <td>0.001047</td>\n",
       "      <td>0.248999</td>\n",
       "      <td>0.002175</td>\n",
       "      <td>0.831286</td>\n",
       "      <td>0.003392</td>\n",
       "      <td>0.898215</td>\n",
       "      <td>0.001337</td>\n",
       "      <td>0.254283</td>\n",
       "      <td>0.002097</td>\n",
       "    </tr>\n",
       "  </tbody>\n",
       "</table>\n",
       "</div>"
      ],
      "text/plain": [
       "   train-mlogloss-mean  train-mlogloss-std  train-auc-mean  train-auc-std  \\\n",
       "0             1.257340            0.000793        0.892373       0.000520   \n",
       "1             1.073036            0.000955        0.897153       0.000239   \n",
       "2             0.954985            0.001309        0.900132       0.000810   \n",
       "3             0.874229            0.001387        0.902673       0.000454   \n",
       "4             0.815914            0.002027        0.905565       0.001047   \n",
       "\n",
       "   train-merror-mean  train-merror-std  test-mlogloss-mean  test-mlogloss-std  \\\n",
       "0           0.255772          0.000619            1.260954           0.001528   \n",
       "1           0.253918          0.000650            1.079572           0.002348   \n",
       "2           0.251533          0.002001            0.964390           0.003143   \n",
       "3           0.249951          0.001960            0.886645           0.003445   \n",
       "4           0.248999          0.002175            0.831286           0.003392   \n",
       "\n",
       "   test-auc-mean  test-auc-std  test-merror-mean  test-merror-std  \n",
       "0       0.887060      0.001848          0.260042         0.002096  \n",
       "1       0.891436      0.001965          0.258139         0.002890  \n",
       "2       0.894313      0.001703          0.255617         0.001872  \n",
       "3       0.896172      0.002041          0.255172         0.002239  \n",
       "4       0.898215      0.001337          0.254283         0.002097  "
      ]
     },
     "execution_count": 58,
     "metadata": {},
     "output_type": "execute_result"
    }
   ],
   "source": [
    "results.head()"
   ]
  },
  {
   "cell_type": "code",
   "execution_count": 59,
   "id": "d7a2e4b3",
   "metadata": {},
   "outputs": [
    {
     "data": {
      "text/plain": [
       "0.9387768205705852"
      ]
     },
     "execution_count": 59,
     "metadata": {},
     "output_type": "execute_result"
    }
   ],
   "source": [
    "results['test-auc-mean'].max()"
   ]
  },
  {
   "attachments": {},
   "cell_type": "markdown",
   "id": "99eff7b5",
   "metadata": {},
   "source": [
    "## XGBoost Sklearn\n",
    "- lahko uporabljamo tako da uporabljamo znotraj že znanega Sklearn workflowa (npr. pipelines)\n",
    "- bolj poznana sintaksa (ni potrebno delati z DMAtrix classi itd...)\n",
    "- manjsa fleksibilnost v primerjavi z native API uporabo xgboost knjižnice"
   ]
  },
  {
   "cell_type": "code",
   "execution_count": 60,
   "id": "532cd75d",
   "metadata": {},
   "outputs": [],
   "source": [
    "from sklearn import datasets\n",
    "\n",
    "X,y = datasets.load_diabetes(return_X_y=True)"
   ]
  },
  {
   "cell_type": "code",
   "execution_count": 61,
   "id": "e2356047",
   "metadata": {},
   "outputs": [],
   "source": [
    "from xgboost import XGBRegressor\n",
    "from sklearn.model_selection import cross_val_score"
   ]
  },
  {
   "cell_type": "code",
   "execution_count": 62,
   "id": "8cc6de1c",
   "metadata": {},
   "outputs": [],
   "source": [
    "scores = cross_val_score(XGBRegressor(objective='reg:squarederror'), X, y, scoring='neg_mean_squared_error')"
   ]
  },
  {
   "cell_type": "code",
   "execution_count": 63,
   "id": "dc4f0f64",
   "metadata": {},
   "outputs": [
    {
     "data": {
      "text/plain": [
       "array([62.80101886, 65.78389959, 62.21211593, 66.40836809, 67.3001013 ])"
      ]
     },
     "execution_count": 63,
     "metadata": {},
     "output_type": "execute_result"
    }
   ],
   "source": [
    "(-scores)**0.5 "
   ]
  },
  {
   "cell_type": "code",
   "execution_count": 64,
   "id": "76366bb7",
   "metadata": {},
   "outputs": [],
   "source": [
    "from sklearn import datasets\n",
    "\n",
    "X,y = datasets.load_breast_cancer(return_X_y=True)"
   ]
  },
  {
   "cell_type": "code",
   "execution_count": 65,
   "id": "7d7d0e40",
   "metadata": {},
   "outputs": [
    {
     "data": {
      "text/plain": [
       "0.9771619313771154"
      ]
     },
     "execution_count": 65,
     "metadata": {},
     "output_type": "execute_result"
    }
   ],
   "source": [
    "from xgboost import XGBClassifier\n",
    "from sklearn.model_selection import cross_val_score\n",
    "\n",
    "cross_val_score(XGBClassifier(), X, y).mean()"
   ]
  }
 ],
 "metadata": {
  "kernelspec": {
   "display_name": ".venv",
   "language": "python",
   "name": "python3"
  },
  "language_info": {
   "codemirror_mode": {
    "name": "ipython",
    "version": 3
   },
   "file_extension": ".py",
   "mimetype": "text/x-python",
   "name": "python",
   "nbconvert_exporter": "python",
   "pygments_lexer": "ipython3",
   "version": "3.11.1"
  },
  "vscode": {
   "interpreter": {
    "hash": "fa22d641b846ad1a51e9fa43a97b4a160f6a3c3fc3abc162bbf7874c2905cea5"
   }
  }
 },
 "nbformat": 4,
 "nbformat_minor": 5
}
