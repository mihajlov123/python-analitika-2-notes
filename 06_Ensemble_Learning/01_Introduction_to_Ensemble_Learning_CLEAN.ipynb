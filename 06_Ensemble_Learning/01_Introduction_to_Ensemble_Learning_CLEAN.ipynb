{
 "cells": [
  {
   "cell_type": "markdown",
   "id": "02895f1b",
   "metadata": {},
   "source": [
    "# Introduction to Ensemble Learning"
   ]
  },
  {
   "cell_type": "markdown",
   "id": "dd7ae8d4",
   "metadata": {},
   "source": [
    "<img src=\"./images/iel_01.png\"/>"
   ]
  },
  {
   "cell_type": "markdown",
   "id": "db7d7f4f",
   "metadata": {},
   "source": [
    "<img src=\"./images/iel_02.png\"/>"
   ]
  },
  {
   "cell_type": "markdown",
   "id": "eb562864",
   "metadata": {},
   "source": [
    "## What is Ensemble Learning?"
   ]
  },
  {
   "cell_type": "markdown",
   "id": "03f4ee1e",
   "metadata": {},
   "source": [
    "**Ensemble Learning** is a method of reaching a consensus in predictions by **fusing the salient properties of two or more models**. "
   ]
  },
  {
   "cell_type": "markdown",
   "id": "6b7bfac4",
   "metadata": {},
   "source": [
    "> Ensemble learning is a general meta approach to machine learning that seeks better predictive performance by combining the predictions from multiple models."
   ]
  },
  {
   "cell_type": "markdown",
   "id": "28fed914",
   "metadata": {},
   "source": [
    "Here are some of the scenarios where ensemble learning comes in handy:"
   ]
  },
  {
   "cell_type": "markdown",
   "id": "40dd5957",
   "metadata": {},
   "source": [
    "- **Can't choose an “optimal” model**:\n",
    "- **Excess/Shortage of data**:\n",
    "- **Confidence Estimation**\n",
    "- **High Problem Complexity**:\n",
    "- **Information Fusion**"
   ]
  },
  {
   "cell_type": "code",
   "execution_count": null,
   "id": "d54a5a45",
   "metadata": {},
   "outputs": [],
   "source": []
  },
  {
   "cell_type": "markdown",
   "id": "f65a5705",
   "metadata": {},
   "source": [
    "## Bagging Ensemble Learning"
   ]
  },
  {
   "cell_type": "markdown",
   "id": "bc9e3a68",
   "metadata": {},
   "source": [
    "> **Bagging involves fitting many decision trees on different samples of the same dataset and averaging the predictions.**"
   ]
  },
  {
   "cell_type": "markdown",
   "id": "f9a9fc7d",
   "metadata": {},
   "source": [
    "Some algorithms include:\n",
    "- Bagged Decision Trees\n",
    "- Random Subspaces\n",
    "- Random Forest\n",
    "- Extra Trees\n",
    "- Custom Bagging"
   ]
  },
  {
   "cell_type": "markdown",
   "id": "c8b4d762",
   "metadata": {},
   "source": [
    "<img src=\"./images/iel_03.png\"/>"
   ]
  },
  {
   "cell_type": "markdown",
   "id": "db24da21",
   "metadata": {},
   "source": [
    "<img src=\"./images/iel_04.png\"/>"
   ]
  },
  {
   "cell_type": "markdown",
   "id": "70000840",
   "metadata": {},
   "source": [
    "## Stacking Ensemble Learning"
   ]
  },
  {
   "cell_type": "markdown",
   "id": "2aa6daea",
   "metadata": {},
   "source": [
    "> **Stacking involves fitting many different models types on the same data and using another model to learn how to best combine the predictions.**"
   ]
  },
  {
   "cell_type": "markdown",
   "id": "55a59540",
   "metadata": {},
   "source": [
    "Some algorithms include:\n",
    "- Voting\n",
    "- Weighted Average\n",
    "- Blending\n",
    "- Stacking\n",
    "- Super Learner"
   ]
  },
  {
   "cell_type": "markdown",
   "id": "53e5b87d",
   "metadata": {},
   "source": [
    "<img src=\"./images/iel_05.png\"/>"
   ]
  },
  {
   "cell_type": "markdown",
   "id": "61617ae1",
   "metadata": {},
   "source": [
    "## Boosting Ensemble Learning"
   ]
  },
  {
   "cell_type": "markdown",
   "id": "5e507189",
   "metadata": {},
   "source": [
    "> **Boosting involves adding ensemble members sequentially that correct the predictions made by prior models and outputs a weighted average of the predictions.**"
   ]
  },
  {
   "cell_type": "markdown",
   "id": "12211f56",
   "metadata": {},
   "source": [
    "Some algorithms include:\n",
    "- AdaBoost\n",
    "- Gradient Boosting Machine\n",
    "- Stochastic Gradient Boosting\n",
    "- XGBoost\n",
    "- LightGBM"
   ]
  },
  {
   "cell_type": "markdown",
   "id": "423c7f1b",
   "metadata": {},
   "source": [
    "<img src=\"./images/iel_06.webp\"/>"
   ]
  }
 ],
 "metadata": {
  "kernelspec": {
   "display_name": ".venv",
   "language": "python",
   "name": "python3"
  },
  "language_info": {
   "codemirror_mode": {
    "name": "ipython",
    "version": 3
   },
   "file_extension": ".py",
   "mimetype": "text/x-python",
   "name": "python",
   "nbconvert_exporter": "python",
   "pygments_lexer": "ipython3",
   "version": "3.11.1"
  },
  "vscode": {
   "interpreter": {
    "hash": "fa22d641b846ad1a51e9fa43a97b4a160f6a3c3fc3abc162bbf7874c2905cea5"
   }
  }
 },
 "nbformat": 4,
 "nbformat_minor": 5
}
