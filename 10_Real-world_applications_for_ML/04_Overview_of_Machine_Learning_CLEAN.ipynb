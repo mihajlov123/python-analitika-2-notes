{
 "cells": [
  {
   "cell_type": "markdown",
   "id": "256b3389",
   "metadata": {},
   "source": [
    "# Overview of Machine Learning"
   ]
  },
  {
   "cell_type": "markdown",
   "id": "0d738001",
   "metadata": {},
   "source": [
    "## Approaching a Machine Learning Problem"
   ]
  },
  {
   "cell_type": "markdown",
   "id": "4cb141e2",
   "metadata": {},
   "source": [
    "### Resources"
   ]
  },
  {
   "cell_type": "markdown",
   "id": "580e7926",
   "metadata": {},
   "source": [
    "- [Machine Learning Engineering for Production (MLOps) Specialization](https://www.coursera.org/specializations/machine-learning-engineering-for-production-mlops#courses)\n"
   ]
  },
  {
   "cell_type": "markdown",
   "id": "a7a90370",
   "metadata": {},
   "source": [
    "- [The 4 Pillars of MLOps: How to Deploy ML Models to Production](https://www.phdata.io/blog/the-ultimate-mlops-guide-how-to-deploy-ml-models-to-production/)\n",
    "- [Putting Machine Learning Models into Production](https://blog.cloudera.com/putting-machine-learning-models-into-production/)\n",
    "- [The MLOps Toolkit](https://testdriven.io/blog/mlops/)\n",
    "- [Introduction to Machine Learning Reliability Engineering](https://testdriven.io/blog/machine-learning-reliability-engineering/#background)\n",
    "- [Serving a Machine Learning Model with FastAPI and Streamlit](https://testdriven.io/blog/fastapi-streamlit/)\n",
    "- [Awesome production machine learning](https://github.com/EthicalML/awesome-production-machine-learning)"
   ]
  },
  {
   "cell_type": "markdown",
   "id": "e904935b",
   "metadata": {},
   "source": [
    "## From Prototype to Production"
   ]
  },
  {
   "cell_type": "markdown",
   "id": "eaf881ab",
   "metadata": {},
   "source": [
    "- [Machine Learning: The High Interest Credit Card of Technical Debt](https://research.google/pubs/pub43146/) -> tiste ki zanima postavljanje modelov v produkcijo\n"
   ]
  },
  {
   "cell_type": "markdown",
   "id": "937a538d",
   "metadata": {},
   "source": [
    "### Model-centric vs Data-centric"
   ]
  },
  {
   "cell_type": "markdown",
   "id": "1e5ad2e8",
   "metadata": {},
   "source": [
    "<img src=\"https://miro.medium.com/max/1400/1*BzxsNxyyP77dVW3_Lto1Hw.png\" jsaction=\"load:XAeZkd;\" jsname=\"HiaYvf\" class=\"n3VNCb\" alt=\"From model-centric to data-centric | by Fabiana Clemente | Towards Data  Science\" data-noaft=\"1\" style=\"width: 434px; height: 141.764px; margin: 29.0182px 0px;\">"
   ]
  },
  {
   "cell_type": "markdown",
   "id": "d73bfe0d",
   "metadata": {},
   "source": [
    "### What Does it Take to Deploy an ML Model?"
   ]
  },
  {
   "cell_type": "markdown",
   "id": "f5f4a947",
   "metadata": {},
   "source": [
    "<img style=\"-webkit-user-select: none;margin: auto;cursor: zoom-in;background-color: hsl(0, 0%, 90%);transition: background-color 300ms;\" src=\"https://testdriven.io/static/images/blog/mlops/mlops_toolkit_lifecycle.png\" width=\"766\" height=\"421\">"
   ]
  },
  {
   "cell_type": "markdown",
   "id": "1bbf03b0",
   "metadata": {},
   "source": [
    "## Testing Production Systems"
   ]
  },
  {
   "cell_type": "code",
   "execution_count": null,
   "id": "b4881dad",
   "metadata": {},
   "outputs": [],
   "source": []
  },
  {
   "cell_type": "code",
   "execution_count": null,
   "id": "ab5db858",
   "metadata": {},
   "outputs": [],
   "source": []
  },
  {
   "cell_type": "code",
   "execution_count": null,
   "id": "99f8655f",
   "metadata": {},
   "outputs": [],
   "source": []
  },
  {
   "cell_type": "markdown",
   "id": "a68f6b84",
   "metadata": {},
   "source": [
    "- https://www.amazon.com/Bandit-Algorithms-Website-Optimization-Developing/dp/1449341330"
   ]
  },
  {
   "cell_type": "markdown",
   "id": "231ccdda",
   "metadata": {},
   "source": [
    "## ML landscape"
   ]
  },
  {
   "cell_type": "markdown",
   "id": "d9e4bccd",
   "metadata": {},
   "source": [
    "<img style=\"-webkit-user-select: none;margin: auto;background-color: hsl(0, 0%, 90%);transition: background-color 300ms;\" src=\"https://i.stack.imgur.com/2EDiO.png\">"
   ]
  },
  {
   "cell_type": "markdown",
   "id": "ee1c6871",
   "metadata": {},
   "source": [
    "<img style=\"-webkit-user-select: none;margin: auto;cursor: zoom-in;background-color: hsl(0, 0%, 90%);transition: background-color 300ms;\" src=\"https://i.stack.imgur.com/42u1r.png\" width=\"766\" height=\"477\">"
   ]
  },
  {
   "cell_type": "markdown",
   "id": "8e336848",
   "metadata": {},
   "source": [
    "<img alt=\"\" class=\"dq jp jq\" src=\"https://miro.medium.com/max/1400/1*yGDZqNVkJINY61ONFV-aiA.jpeg\" width=\"700\" height=\"458\" role=\"presentation\">"
   ]
  },
  {
   "cell_type": "markdown",
   "id": "e881bfbd",
   "metadata": {},
   "source": [
    "https://landscape.lfai.foundation/"
   ]
  },
  {
   "cell_type": "markdown",
   "id": "ae353e64",
   "metadata": {},
   "source": [
    "## Where to Go from Here"
   ]
  },
  {
   "cell_type": "markdown",
   "id": "5676e084",
   "metadata": {},
   "source": [
    "### Theory"
   ]
  },
  {
   "cell_type": "code",
   "execution_count": null,
   "id": "4f4a603d",
   "metadata": {},
   "outputs": [],
   "source": []
  },
  {
   "cell_type": "code",
   "execution_count": null,
   "id": "dd01ecd1",
   "metadata": {},
   "outputs": [],
   "source": []
  },
  {
   "cell_type": "code",
   "execution_count": null,
   "id": "91f2aff5",
   "metadata": {},
   "outputs": [],
   "source": []
  },
  {
   "cell_type": "markdown",
   "id": "dc801b02",
   "metadata": {},
   "source": [
    "### Other Machine Learning Frameworks and Packages"
   ]
  },
  {
   "cell_type": "markdown",
   "id": "77824bc3",
   "metadata": {},
   "source": [
    "\n",
    "- https://vowpalwabbit.org/\n",
    "- https://spark.apache.org/mllib/"
   ]
  },
  {
   "cell_type": "code",
   "execution_count": null,
   "id": "65c7fb85",
   "metadata": {},
   "outputs": [],
   "source": []
  },
  {
   "cell_type": "markdown",
   "id": "a44ab25f",
   "metadata": {},
   "source": [
    "### Cloud services"
   ]
  },
  {
   "cell_type": "code",
   "execution_count": null,
   "id": "87fe28ec",
   "metadata": {},
   "outputs": [],
   "source": []
  },
  {
   "cell_type": "markdown",
   "id": "9f233d7b",
   "metadata": {},
   "source": [
    "### Scaling to Larger Datasets"
   ]
  },
  {
   "cell_type": "code",
   "execution_count": null,
   "id": "cd7b09f9",
   "metadata": {},
   "outputs": [],
   "source": []
  },
  {
   "cell_type": "code",
   "execution_count": null,
   "id": "260e2936",
   "metadata": {},
   "outputs": [],
   "source": []
  },
  {
   "cell_type": "code",
   "execution_count": null,
   "id": "547a69a5",
   "metadata": {},
   "outputs": [],
   "source": []
  },
  {
   "cell_type": "code",
   "execution_count": null,
   "id": "90818581",
   "metadata": {},
   "outputs": [],
   "source": []
  },
  {
   "cell_type": "markdown",
   "id": "abe0034b",
   "metadata": {},
   "source": [
    "## Tools\n",
    "\n",
    "- [Streamlit](https://streamlit.io/):Streamlit is an open-source Python library that makes it easy to create and share beautiful, custom web apps for machine learning and data science. In just a few minutes you can build and deploy powerful data apps. So let’s get started! **The fastest way to build and share data apps**\n",
    "    - https://docs.streamlit.io/library/get-started/create-an-app\n",
    "- [MLflow](https://mlflow.org/): MLflow is an open source platform to manage the ML lifecycle, including experimentation, reproducibility, deployment, and a central model registry.\n",
    "- [Dask](https://docs.dask.org/en/stable/): Dask is a flexible library for parallel computing in Python.\n",
    "- [XGBoost](https://xgboost.readthedocs.io/en/stable/): XGBoost is an optimized distributed gradient boosting library designed to be highly efficient, flexible and portable. It implements machine learning algorithms under the Gradient Boosting framework.\n",
    "- [OpenCV](https://opencv.org/): OpenCV is an open-source platform dedicated to computer vision and image processing. This library has more than 2500 algorithms dedicated to computer vision and ML. It can track human movements, detect moving objects, extract 3d models, stitch images together to create a high-resolution image, exploring the AR possibilities. It is used in various CCTV monitoring activities by many governments, especially in China and Isreal. Also, the major camera companies in the world use OpenCv for making their technology smart and user-friendly.\n",
    "- [Apache Saprk](https://spark.apache.org/)"
   ]
  },
  {
   "cell_type": "markdown",
   "id": "acd96333",
   "metadata": {},
   "source": [
    "**Other useful tools**"
   ]
  },
  {
   "cell_type": "markdown",
   "id": "a0e10c92",
   "metadata": {},
   "source": [
    "- SQL\n",
    "- Git"
   ]
  },
  {
   "cell_type": "markdown",
   "id": "0ffdff4b",
   "metadata": {},
   "source": [
    "**Deep learning**\n",
    "- [TensorFlow](https://www.tensorflow.org/): TensorFlow is a library developed by the Google Brain team for the primary purpose of Deep Learning and Neural Networks. It allows easy distribution of work onto multiple CPU cores or GPU cores, and can even distribute the work to multiple GPUs.  TensorFlow uses Tensors for this purpose. Tensors can be defined as a container that can store N-dimensional data along with its linear operations. Although it is production-ready and does support reinforcement learning along with Neural networks, it is not commercially supported which means any bug or defect can be resolved only by community help.\n",
    "- [Keras:](https://keras.io/): Keras provides a Python interface of Tensorflow Library especially focused on AI neural networks. The earlier versions also included many other backends like Theano, Microsoft cognitive platform, and PlaidMl. Keras contains standard blocks of commonly used neural networks, and also the tools to make image and text processing faster and smoother. Apart from standard blocks of neural networks, it also provides re-occurring neural networks.\n",
    "- [PyTorch](https://pytorch.org/): Pytorch is a Facebook-developed ML library that is based on the Torch Library (an open-source ML library written in Lua Programming language). The project is written in Python Web Development, C++, and CUDA languages. Along with Python, PyTorch has extensions in both C and C++ languages. It is a competitor to Tensorflow as both of these libraries use tensors but it is easier to learn and has better integrability with Python. Although it supports NLP, but the main focus of the library is only on developing and training deep learning models only. \n",
    "\n",
    "**Natural Language Processing**\n",
    "- [Natural Language Toolkit (NLTK)](https://www.nltk.org/): NLTK is the widely used library for Text Classification and Natural Language Processing. It performs word Stemming, Lemmatizing, Tokenization, and searching a keyword in documents. The library can be further used for sentiment analysis, understanding movie reviews, food reviews, text-classifier, checking and censoring the vulgarised words from comments, text mining, and many other human language-related operations. The wider scope of its uses includes AI-powered chatbots which need text processing to train their models to identify and also create sentences important for machine and human interaction in the upcoming future.\n",
    "- [spaCy](https://spacy.io/): a relatively new but very efficient and welldesigned package\n",
    "- [Gensim](https://radimrehurek.com/gensim/index.html): an NLP package with an emphasis on topic modeling\n"
   ]
  },
  {
   "cell_type": "markdown",
   "id": "2dc00f25",
   "metadata": {},
   "source": [
    "**Other resources**\n",
    "- [Kaggle](https://www.kaggle.com/)\n",
    "- [pandas - User Guide](https://pandas.pydata.org/pandas-docs/stable/user_guide/index.html)\n",
    "- [Open Machine Learning Course mlcourse.ai](https://mlcourse.ai/)\n",
    "- [KDnuggets](https://www.kdnuggets.com/)\n",
    "- [DEV](https://dev.to/)\n",
    "- [DZone](https://dzone.com)\n",
    "- [Medium](https://medium.com/)\n",
    "- [Towards Data Science](https://towardsdatascience.com/)\n",
    "- [Machine Learning Crash Course](https://developers.google.com/machine-learning): Google's fast-paced, practical introduction to machine learning\n",
    "- [Accurately Measuring Model Prediction Error](http://scott.fortmann-roe.com/docs/MeasuringError.html)\n",
    "- [Understanding the Bias-Variance Tradeoff](http://scott.fortmann-roe.com/docs/BiasVariance.html)\n",
    "- https://www.youtube.com/@TwoMinutePapers/videos"
   ]
  },
  {
   "cell_type": "markdown",
   "id": "28a54e4d",
   "metadata": {},
   "source": [
    "**Courses**\n",
    "- [Applied Machine Learning in Python](https://www.coursera.org/learn/python-machine-learning#syllabus)\n",
    "- [In-depth introduction to machine learning in 15 hours of expert videos](https://www.dataschool.io/15-hours-of-expert-machine-learning-videos/)\n",
    "- [The Analytics Edge](https://www.edx.org/course/the-analytics-edge)\n",
    "- [Lecture Collection | Machine Learning](https://www.youtube.com/playlist?list=PLA89DCFA6ADACE599)\n",
    "- https://realpython.com/tutorials/machine-learning/\n",
    "- https://inria.github.io/scikit-learn-mooc/index.html"
   ]
  }
 ],
 "metadata": {
  "kernelspec": {
   "display_name": "Python 3 (ipykernel)",
   "language": "python",
   "name": "python3"
  },
  "language_info": {
   "codemirror_mode": {
    "name": "ipython",
    "version": 3
   },
   "file_extension": ".py",
   "mimetype": "text/x-python",
   "name": "python",
   "nbconvert_exporter": "python",
   "pygments_lexer": "ipython3",
   "version": "3.10.9"
  }
 },
 "nbformat": 4,
 "nbformat_minor": 5
}
