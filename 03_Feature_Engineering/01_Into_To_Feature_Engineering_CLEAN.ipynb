{
 "cells": [
  {
   "cell_type": "markdown",
   "id": "311051a1",
   "metadata": {},
   "source": [
    "# Intro to Feature Engineering"
   ]
  },
  {
   "cell_type": "markdown",
   "id": "cd8cf6c3",
   "metadata": {},
   "source": [
    "## Intro"
   ]
  },
  {
   "cell_type": "markdown",
   "id": "a333ad82",
   "metadata": {},
   "source": [
    "The process of **feature engineering** consists in **using domain knowledge** and statistical methods to create features that make **machine learning algorithms work effectively**."
   ]
  },
  {
   "cell_type": "markdown",
   "id": "ef0c5355",
   "metadata": {},
   "source": [
    "> Garbage in, garbage out."
   ]
  },
  {
   "cell_type": "markdown",
   "id": "c6e56b17",
   "metadata": {},
   "source": [
    "<img src=\"images/img_01.webp\" >\n"
   ]
  },
  {
   "cell_type": "markdown",
   "id": "ab44ead8",
   "metadata": {},
   "source": [
    "**Quality data beats even the most sophisticated algorithms.**"
   ]
  },
  {
   "cell_type": "markdown",
   "id": "dd38a8fe",
   "metadata": {},
   "source": [
    "## Data Preprocessing"
   ]
  },
  {
   "attachments": {},
   "cell_type": "markdown",
   "id": "be3ecdee",
   "metadata": {},
   "source": [
    "4 Steps in Data Preprocessing:\n",
    "- **`Data Cleaning`**\n",
    "- **`Data Integration`**\n",
    "- **`Data Transformation`**\n",
    "- **`Data Reduction`**\n",
    ":prevec znacilk, model overfitta, zato zmanjsamo dimenzije\n",
    "\n",
    "\n",
    "\n",
    "- nujno odstranjevanje NaN podatkov, sicer modeli crashajo!\n",
    "- nekateri ML modeli delajo slabo na razlicne velikosti znacilk -> outlierji mocno poslabsajo delovanje modela\n",
    "- Iz določenih značilk lahko dobimo ostale značilke -> npr pri datumih: ali je praznik, vikend itd...\n",
    "\n",
    "   "
   ]
  },
  {
   "cell_type": "markdown",
   "id": "767026ef",
   "metadata": {},
   "source": [
    "## Why do we engineer features for machine learning?"
   ]
  },
  {
   "cell_type": "code",
   "execution_count": null,
   "id": "2ca6f7be",
   "metadata": {},
   "outputs": [],
   "source": []
  },
  {
   "cell_type": "code",
   "execution_count": null,
   "id": "785be996",
   "metadata": {},
   "outputs": [],
   "source": []
  },
  {
   "cell_type": "code",
   "execution_count": null,
   "id": "1f3de88a",
   "metadata": {},
   "outputs": [],
   "source": []
  },
  {
   "cell_type": "markdown",
   "id": "088efa9c",
   "metadata": {},
   "source": [
    "## What are the main feature engineering techniques?"
   ]
  },
  {
   "cell_type": "markdown",
   "id": "f69d2c79",
   "metadata": {},
   "source": [
    "\n",
    "1. **Missing data imputation**\n"
   ]
  },
  {
   "cell_type": "markdown",
   "id": "c24c847c",
   "metadata": {},
   "source": [
    "<img src=\"images/img_02.webp\" >\n"
   ]
  },
  {
   "cell_type": "markdown",
   "id": "9f971cca",
   "metadata": {},
   "source": [
    "2. **Categorical variable encoding**\n"
   ]
  },
  {
   "cell_type": "markdown",
   "id": "72b97a71",
   "metadata": {},
   "source": [
    "<img src=\"images/img_03.webp\" width=500>"
   ]
  },
  {
   "cell_type": "markdown",
   "id": "b1a56bf2",
   "metadata": {},
   "source": [
    "3. **Variable transformation**\n"
   ]
  },
  {
   "cell_type": "markdown",
   "id": "de1ead1c",
   "metadata": {},
   "source": [
    "<img src=\"images/img_04.webp\" width=500>"
   ]
  },
  {
   "attachments": {},
   "cell_type": "markdown",
   "id": "d9e69af7",
   "metadata": {},
   "source": [
    "4. **Discretization**\n",
    "koristno pri naive bayess in decision tree -> zmanjsamo overfitting\n"
   ]
  },
  {
   "cell_type": "markdown",
   "id": "e6e6fd7b",
   "metadata": {},
   "source": [
    "<img src=\"images/img_05.webp\" width=500>"
   ]
  },
  {
   "cell_type": "markdown",
   "id": "666a4645",
   "metadata": {},
   "source": [
    "5. **Handling outliers**\n"
   ]
  },
  {
   "cell_type": "markdown",
   "id": "7701f639",
   "metadata": {},
   "source": [
    "6. **Scaling the features**\n"
   ]
  },
  {
   "cell_type": "markdown",
   "id": "e2689bff",
   "metadata": {},
   "source": [
    "<img src=\"images/img_06.webp\" width=500>"
   ]
  },
  {
   "cell_type": "markdown",
   "id": "c644dad5",
   "metadata": {},
   "source": [
    "7. **Creating features from date and time**\n"
   ]
  },
  {
   "attachments": {},
   "cell_type": "markdown",
   "id": "27da6ddf",
   "metadata": {},
   "source": [
    "## Feature engineering vs feature selection\n",
    "\n",
    "Engineering - uporabimo domensko znanje da ustvarimo nove znacilke  \n",
    "\n",
    "Selection - izberemo najboljse znacilke v naslednjem koraku"
   ]
  },
  {
   "cell_type": "markdown",
   "id": "b17a0074",
   "metadata": {},
   "source": [
    "## Feature-engine"
   ]
  },
  {
   "cell_type": "markdown",
   "id": "0db09268",
   "metadata": {},
   "source": [
    "**Feature-engine is an open source Python library with the most exhaustive battery of transformers to engineer features for use in machine learning models.**\n"
   ]
  },
  {
   "cell_type": "markdown",
   "id": "68b69dc5",
   "metadata": {},
   "source": [
    " Feature-engine’s transformers preserve Scikit-learn functionality with the methods fit() and transform() to learn parameters from and then transform data."
   ]
  },
  {
   "cell_type": "markdown",
   "id": "5f11b308",
   "metadata": {},
   "source": [
    "[Feature-engine: A new open source Python package for feature engineering](https://trainindata.medium.com/feature-engine-a-new-open-source-python-package-for-feature-engineering-29a0ab88ea7c)"
   ]
  },
  {
   "cell_type": "markdown",
   "id": "44465817",
   "metadata": {},
   "source": [
    "Github: https://github.com/feature-engine/feature_engine"
   ]
  },
  {
   "cell_type": "markdown",
   "id": "a6088c50",
   "metadata": {},
   "source": [
    "Docs: https://feature-engine.trainindata.com/en/latest/"
   ]
  },
  {
   "cell_type": "markdown",
   "id": "d83504b2",
   "metadata": {},
   "source": [
    "Install: `pip install feature-engine`"
   ]
  },
  {
   "cell_type": "markdown",
   "id": "0fd315cc",
   "metadata": {},
   "source": [
    "[User Guide](https://feature-engine.trainindata.com/en/latest/user_guide/index.html#)"
   ]
  },
  {
   "cell_type": "markdown",
   "id": "509b2836",
   "metadata": {},
   "source": [
    "## Datasist"
   ]
  },
  {
   "cell_type": "markdown",
   "id": "644ae7dd",
   "metadata": {},
   "source": [
    "Datasist is an open source Python library that offers functions and methods for easy data analysis, visualization, modeling and also for effectively structuring and managing data science projects."
   ]
  },
  {
   "cell_type": "markdown",
   "id": "959a9213",
   "metadata": {},
   "source": [
    "https://risingodegua.gitbook.io/datasist-doc/"
   ]
  },
  {
   "cell_type": "markdown",
   "id": "87722076",
   "metadata": {},
   "source": [
    "Datasist is not a drop down replacement for popular data science  libraries like Pandas, Matplotlib or Seaborn, but serve as an abstraction with the goal of unifying processes and functions for efficient data analysis and management. "
   ]
  },
  {
   "cell_type": "markdown",
   "id": "d7fb149d",
   "metadata": {},
   "source": [
    "Installing Datasist: `pip install datasist`"
   ]
  },
  {
   "cell_type": "markdown",
   "id": "e65e3569",
   "metadata": {},
   "source": [
    "- [Tutorial: Xente Fraud Classification Challenge on Zindi](https://risingodegua.gitbook.io/datasist-doc/use-cases/sendy-logistics-regression-challenge)\n",
    "- [Quick Guide-Part 1](https://risingodegua.gitbook.io/datasist-doc/quickstart/part-1)\n",
    "- [Quick Guide-Part 2](https://risingodegua.gitbook.io/datasist-doc/quickstart/part-2)"
   ]
  },
  {
   "cell_type": "markdown",
   "id": "813ed293",
   "metadata": {},
   "source": [
    "## Featuretools"
   ]
  },
  {
   "cell_type": "markdown",
   "id": "851a27fb",
   "metadata": {},
   "source": [
    "Web page: https://www.featuretools.com/"
   ]
  },
  {
   "cell_type": "markdown",
   "id": "8bed6ea9",
   "metadata": {},
   "source": [
    "Featuretools is a framework to perform automated feature engineering. It excels at transforming temporal and relational datasets into feature matrices for machine learning."
   ]
  },
  {
   "cell_type": "markdown",
   "id": "4aa20ec7",
   "metadata": {},
   "source": [
    "Docs: https://featuretools.alteryx.com/en/stable/index.html"
   ]
  },
  {
   "cell_type": "markdown",
   "id": "e1436cf8",
   "metadata": {},
   "source": [
    "Install: `pip install featuretools`"
   ]
  },
  {
   "cell_type": "markdown",
   "id": "e817768b",
   "metadata": {},
   "source": [
    "[Getting Started](https://featuretools.alteryx.com/en/stable/getting_started/getting_started_index.html)"
   ]
  },
  {
   "cell_type": "markdown",
   "id": "590919a2",
   "metadata": {},
   "source": [
    "Great demos: https://www.featuretools.com/demos/"
   ]
  },
  {
   "cell_type": "markdown",
   "id": "9589f5d7",
   "metadata": {},
   "source": [
    "## Resources\n",
    "\n",
    "- [Coursera: Feature Engineering](https://www.coursera.org/learn/feature-engineering) \n",
    "- [Feature Engineering and Selection: A Practical Approach for Predictive Models](http://www.feat.engineering/index.html)\n",
    "- [Preprocessing data](https://scikit-learn.org/stable/modules/preprocessing.html)"
   ]
  }
 ],
 "metadata": {
  "kernelspec": {
   "display_name": ".venv",
   "language": "python",
   "name": "python3"
  },
  "language_info": {
   "codemirror_mode": {
    "name": "ipython",
    "version": 3
   },
   "file_extension": ".py",
   "mimetype": "text/x-python",
   "name": "python",
   "nbconvert_exporter": "python",
   "pygments_lexer": "ipython3",
   "version": "3.11.1 (tags/v3.11.1:a7a450f, Dec  6 2022, 19:58:39) [MSC v.1934 64 bit (AMD64)]"
  },
  "vscode": {
   "interpreter": {
    "hash": "fa22d641b846ad1a51e9fa43a97b4a160f6a3c3fc3abc162bbf7874c2905cea5"
   }
  }
 },
 "nbformat": 4,
 "nbformat_minor": 5
}
