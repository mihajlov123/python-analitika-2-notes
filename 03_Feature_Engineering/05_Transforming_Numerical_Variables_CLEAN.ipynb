{
 "cells": [
  {
   "cell_type": "markdown",
   "id": "325f75ee",
   "metadata": {},
   "source": [
    "# Transforming Numerical Variables"
   ]
  },
  {
   "cell_type": "code",
   "execution_count": null,
   "id": "76635295",
   "metadata": {},
   "outputs": [],
   "source": [
    "import numpy as np\n",
    "import pandas as pd\n",
    "\n",
    "%matplotlib inline\n",
    "import matplotlib.pyplot as plt\n",
    "import scipy.stats as stats"
   ]
  },
  {
   "cell_type": "markdown",
   "id": "94e9e7ce",
   "metadata": {},
   "source": [
    "## Transforming variables with the logarithm"
   ]
  },
  {
   "cell_type": "code",
   "execution_count": null,
   "id": "87d1fd1a",
   "metadata": {},
   "outputs": [],
   "source": [
    "import scipy.stats as stats\n",
    "from sklearn.datasets import load_boston\n",
    "from sklearn.preprocessing import FunctionTransformer"
   ]
  },
  {
   "cell_type": "code",
   "execution_count": null,
   "id": "30ed9e0f",
   "metadata": {},
   "outputs": [],
   "source": [
    "data = pd.read_csv(\"data/boston.csv\")\n",
    "data.head()"
   ]
  },
  {
   "cell_type": "code",
   "execution_count": null,
   "id": "6ef4ab07",
   "metadata": {},
   "outputs": [],
   "source": [
    "def diagnostic_plots(df, variable):\n",
    "    plt.figure(figsize=(12,4))\n",
    "    plt.subplot(1, 2, 1)\n",
    "    df[variable].hist(bins=30)\n",
    "    plt.subplot(1, 2, 2)\n",
    "    stats.probplot(df[variable], dist=\"norm\", plot=plt)\n",
    "    plt.show()"
   ]
  },
  {
   "cell_type": "code",
   "execution_count": null,
   "id": "4567e502",
   "metadata": {},
   "outputs": [],
   "source": [
    "diagnostic_plots(data, 'LSTAT')"
   ]
  },
  {
   "cell_type": "code",
   "execution_count": null,
   "id": "79dc6b38",
   "metadata": {},
   "outputs": [],
   "source": [
    "data_tf = data.copy()"
   ]
  },
  {
   "cell_type": "code",
   "execution_count": null,
   "id": "e812158c",
   "metadata": {},
   "outputs": [],
   "source": [
    "data_tf[['LSTAT', 'NOX', 'DIS', 'RM']] = np.log(data[['LSTAT', 'NOX', 'DIS', 'RM']])"
   ]
  },
  {
   "cell_type": "code",
   "execution_count": null,
   "id": "6cfe65e0",
   "metadata": {},
   "outputs": [],
   "source": [
    "diagnostic_plots(data_tf, 'LSTAT')"
   ]
  },
  {
   "cell_type": "code",
   "execution_count": null,
   "id": "a3d2754f",
   "metadata": {},
   "outputs": [],
   "source": [
    "transformer = FunctionTransformer(np.log)"
   ]
  },
  {
   "cell_type": "code",
   "execution_count": null,
   "id": "15cf1179",
   "metadata": {},
   "outputs": [],
   "source": [
    "data_tf = transformer.transform(data[['LSTAT', 'NOX', 'DIS', 'RM']])"
   ]
  },
  {
   "cell_type": "markdown",
   "id": "82c343a7",
   "metadata": {},
   "source": [
    "## Transforming variables with the reciprocal function"
   ]
  },
  {
   "cell_type": "code",
   "execution_count": null,
   "id": "ee44e760",
   "metadata": {},
   "outputs": [],
   "source": [
    "from sklearn.preprocessing import FunctionTransformer\n",
    "\n",
    "\n",
    "data = pd.read_csv(\"data/boston.csv\")"
   ]
  },
  {
   "cell_type": "code",
   "execution_count": null,
   "id": "91eb034d",
   "metadata": {},
   "outputs": [],
   "source": [
    "def diagnostic_plots(df, variable):\n",
    "    # function to plot a histogram and a Q-Q plot\n",
    "    # side by side, for a certain variable\n",
    "    plt.figure(figsize=(10,4))\n",
    "    plt.subplot(1, 2, 1)\n",
    "    df[variable].hist(bins=30)\n",
    "    plt.subplot(1, 2, 2)\n",
    "    stats.probplot(df[variable], dist=\"norm\", plot=plt)\n",
    "    plt.show()"
   ]
  },
  {
   "cell_type": "code",
   "execution_count": null,
   "id": "6c10c4cc",
   "metadata": {},
   "outputs": [],
   "source": [
    "diagnostic_plots(data, 'DIS')"
   ]
  },
  {
   "cell_type": "code",
   "execution_count": null,
   "id": "853cce3f",
   "metadata": {},
   "outputs": [],
   "source": [
    "transformer = FunctionTransformer(np.reciprocal)"
   ]
  },
  {
   "cell_type": "code",
   "execution_count": null,
   "id": "d990218f",
   "metadata": {},
   "outputs": [],
   "source": [
    "data_tf = transformer.transform(data[['LSTAT', 'NOX', 'DIS', 'RM']])"
   ]
  },
  {
   "cell_type": "code",
   "execution_count": null,
   "id": "518aec5e",
   "metadata": {},
   "outputs": [],
   "source": [
    "data_tf = pd.DataFrame(data_tf, columns=['LSTAT', 'NOX', 'DIS', 'RM'])\n",
    "diagnostic_plots(data_tf, 'DIS')"
   ]
  },
  {
   "cell_type": "markdown",
   "id": "aee21940",
   "metadata": {},
   "source": [
    "## Using power transformations on numerical variables"
   ]
  },
  {
   "cell_type": "code",
   "execution_count": null,
   "id": "fd004200",
   "metadata": {},
   "outputs": [],
   "source": [
    "from sklearn.preprocessing import FunctionTransformer\n",
    "\n",
    "data = pd.read_csv(\"data/boston.csv\")"
   ]
  },
  {
   "cell_type": "code",
   "execution_count": null,
   "id": "da9ebfe6",
   "metadata": {},
   "outputs": [],
   "source": [
    "data.head()"
   ]
  },
  {
   "cell_type": "code",
   "execution_count": null,
   "id": "05069067",
   "metadata": {},
   "outputs": [],
   "source": [
    "data.hist(bins=30, figsize=(10,10))\n",
    "plt.show()"
   ]
  },
  {
   "cell_type": "code",
   "execution_count": null,
   "id": "83b9ceff",
   "metadata": {},
   "outputs": [],
   "source": [
    "diagnostic_plots(data, 'LSTAT')"
   ]
  },
  {
   "cell_type": "code",
   "execution_count": null,
   "id": "cf969284",
   "metadata": {},
   "outputs": [],
   "source": [
    "# make a copy of the dataframe where we will store the modified\n",
    "# variables\n",
    "data_tf = data.copy()"
   ]
  },
  {
   "cell_type": "code",
   "execution_count": null,
   "id": "9fe2d178",
   "metadata": {},
   "outputs": [],
   "source": [
    "transformer = FunctionTransformer(lambda x: np.power(x, 0.3))\n",
    "\n",
    "# capture variables to transform in a list\n",
    "cols = ['LSTAT', 'NOX', 'DIS', 'RM']\n",
    "\n",
    "# transform slice of dataframe with indicated variables\n",
    "data_tf = transformer.transform(data[cols])\n",
    "\n",
    "data_tf = pd.DataFrame(data_tf, columns=cols)"
   ]
  },
  {
   "cell_type": "code",
   "execution_count": null,
   "id": "8a473cdd",
   "metadata": {},
   "outputs": [],
   "source": [
    "# visualize the transformation (not in book)\n",
    "diagnostic_plots(data_tf, 'LSTAT')"
   ]
  },
  {
   "cell_type": "markdown",
   "id": "1fe64a16",
   "metadata": {},
   "source": [
    "## Using square and cube root to transform variables"
   ]
  },
  {
   "cell_type": "code",
   "execution_count": null,
   "id": "83e8f97e",
   "metadata": {},
   "outputs": [],
   "source": [
    "data = pd.read_csv(\"data/boston.csv\")\n",
    "\n",
    "data_tf = data.copy()\n",
    "\n",
    "transformer = FunctionTransformer(np.sqrt)\n",
    "\n",
    "# make a list of variables to transform\n",
    "cols = ['LSTAT', 'NOX', 'DIS', 'RM']\n",
    "\n",
    "# transform slice of dataframe with indicated variables\n",
    "# returns NumPy array\n",
    "data_tf = transformer.transform(data[cols])\n",
    "\n",
    "data_tf = pd.DataFrame(data_tf, columns=cols)"
   ]
  },
  {
   "cell_type": "code",
   "execution_count": null,
   "id": "526e42e8",
   "metadata": {},
   "outputs": [],
   "source": [
    "diagnostic_plots(data_tf, 'LSTAT')"
   ]
  },
  {
   "cell_type": "markdown",
   "id": "5b4dc1ce",
   "metadata": {},
   "source": [
    "## Example: Customer churn dataset"
   ]
  },
  {
   "cell_type": "code",
   "execution_count": null,
   "id": "6d70b0cd",
   "metadata": {},
   "outputs": [],
   "source": [
    "from sklearn.pipeline import Pipeline\n",
    "from sklearn.compose import ColumnTransformer\n",
    "from sklearn.preprocessing import FunctionTransformer\n",
    "from sklearn.impute import SimpleImputer\n",
    "from sklearn.model_selection import train_test_split\n",
    "from sklearn.preprocessing import OneHotEncoder\n",
    "from sklearn.metrics import accuracy_score, confusion_matrix"
   ]
  },
  {
   "cell_type": "code",
   "execution_count": null,
   "id": "8d7b5618",
   "metadata": {},
   "outputs": [],
   "source": [
    "df = pd.read_csv('data/sampleSubmission.csv')\n",
    "df = df.rename(columns=str.lower)\n",
    "df['churn'] = df['churn'].replace(('yes', 'no'), (1, 0))\n",
    "df.head()"
   ]
  },
  {
   "cell_type": "code",
   "execution_count": null,
   "id": "947f3e7f",
   "metadata": {},
   "outputs": [],
   "source": [
    "df.isnull().sum()"
   ]
  },
  {
   "cell_type": "code",
   "execution_count": null,
   "id": "1b0a33c9",
   "metadata": {},
   "outputs": [],
   "source": [
    "df.shape"
   ]
  },
  {
   "cell_type": "code",
   "execution_count": null,
   "id": "8ea8f7a8",
   "metadata": {},
   "outputs": [],
   "source": [
    "X = df.drop(['churn'], axis=1)\n",
    "y = df['churn']"
   ]
  },
  {
   "cell_type": "markdown",
   "id": "0d36367b",
   "metadata": {},
   "source": [
    "### Simple baseline"
   ]
  },
  {
   "cell_type": "code",
   "execution_count": null,
   "id": "8de1e069",
   "metadata": {},
   "outputs": [],
   "source": [
    "def get_score(model, X_train, X_test, y_train, y_test):\n",
    "    predictions = model.predict(X_test)\n",
    "    print(f\"------------- {type(model).__name__} -------------\")\n",
    "    print(f\"Training set score: {model.score(X_train, y_train):.2f}\")\n",
    "    print(f\"Test set score: {model.score(X_test, y_test):.2f}\")\n",
    "    print('Accuracy: ', accuracy_score(y_test, predictions))\n",
    "    print(confusion_matrix(y_test, predictions))"
   ]
  },
  {
   "cell_type": "code",
   "execution_count": null,
   "id": "89c56758",
   "metadata": {},
   "outputs": [],
   "source": [
    "from sklearn.neighbors import KNeighborsClassifier\n",
    "from sklearn.linear_model import LogisticRegression\n",
    "from sklearn.tree import DecisionTreeClassifier\n",
    "\n",
    "X = pd.get_dummies(X)\n",
    "\n",
    "X_train, X_test, y_train, y_test = train_test_split(X, y, test_size=0.3, random_state=0)\n",
    "\n",
    "knn = KNeighborsClassifier(n_neighbors=8)\n",
    "knn.fit(X_train, y_train)\n",
    "get_score(knn, X_train, X_test, y_train, y_test)\n",
    "\n",
    "log = LogisticRegression(max_iter=10000)\n",
    "log.fit(X_train, y_train)\n",
    "get_score(log, X_train, X_test, y_train, y_test)\n",
    "\n",
    "tree = DecisionTreeClassifier(max_depth=10)\n",
    "tree.fit(X_train, y_train)\n",
    "get_score(tree, X_train, X_test, y_train, y_test)"
   ]
  },
  {
   "cell_type": "markdown",
   "id": "c02dbe5a",
   "metadata": {},
   "source": [
    "### With feature engineering\n"
   ]
  },
  {
   "cell_type": "code",
   "execution_count": null,
   "id": "099e430d",
   "metadata": {},
   "outputs": [],
   "source": [
    "def get_total_net_minutes(df):\n",
    "    df['total_net_minutes'] = df['total_day_minutes'] + df['total_eve_minutes'] + df['total_night_minutes']\n",
    "    return df\n",
    "\n",
    "def get_total_net_calls(df):\n",
    "    df['total_net_calls'] = df['total_day_calls'] + df['total_eve_calls'] + df['total_night_calls']\n",
    "    return df\n",
    "\n",
    "def get_total_net_charge(df):\n",
    "    df['total_net_charge'] = df['total_day_charge'] + df['total_eve_charge'] + df['total_night_charge']\n",
    "    return df\n",
    "\n",
    "def cs_calls_per_month(df):\n",
    "    df['cs_calls_per_month'] = (df['number_customer_service_calls'] + df['number_vmail_messages']) / df['account_length']\n",
    "    return df"
   ]
  },
  {
   "cell_type": "code",
   "execution_count": null,
   "id": "0049095e",
   "metadata": {},
   "outputs": [],
   "source": [
    "feature_engineering = ColumnTransformer([\n",
    "    ('total_net_minutes', FunctionTransformer(get_total_net_minutes, validate=False),\n",
    "     ['total_day_minutes', 'total_eve_minutes', 'total_night_minutes']),\n",
    "    ('total_net_calls', FunctionTransformer(get_total_net_calls, validate=False),\n",
    "     ['total_day_calls', 'total_eve_calls', 'total_night_calls']),\n",
    "    ('total_net_charge', FunctionTransformer(get_total_net_charge, validate=False),\n",
    "     ['total_day_charge', 'total_eve_charge', 'total_night_charge']),\n",
    "    ('cs_calls_per_month', FunctionTransformer(cs_calls_per_month, validate=False),\n",
    "     ['account_length', 'number_customer_service_calls', 'number_vmail_messages']),\n",
    "])"
   ]
  },
  {
   "cell_type": "code",
   "execution_count": null,
   "id": "5ef47408",
   "metadata": {},
   "outputs": [],
   "source": [
    "categorical_columns = list(X_train.select_dtypes(include=['object']).columns.values.tolist())\n",
    "numeric_columns = list(X_train.select_dtypes(exclude=['object']).columns.values.tolist())"
   ]
  },
  {
   "cell_type": "code",
   "execution_count": null,
   "id": "2cae352b",
   "metadata": {},
   "outputs": [],
   "source": [
    "numeric_transformer = SimpleImputer(strategy='constant')\n",
    "\n",
    "categorical_transformer = Pipeline(\n",
    "    steps=[\n",
    "        ('imputer', SimpleImputer(strategy='constant', fill_value='missing')),\n",
    "        ('onehot', OneHotEncoder(handle_unknown='ignore')),\n",
    "    ])"
   ]
  },
  {
   "cell_type": "code",
   "execution_count": null,
   "id": "f9a1021e",
   "metadata": {},
   "outputs": [],
   "source": [
    "preprocessor = ColumnTransformer(\n",
    "    transformers=[\n",
    "        ('feature_engineering', feature_engineering, numeric_columns),\n",
    "        ('numeric_transformers', numeric_transformer, numeric_columns),\n",
    "        ('categorical_transformers', categorical_transformer, categorical_columns),\n",
    "    ])"
   ]
  },
  {
   "cell_type": "code",
   "execution_count": null,
   "id": "cad94921",
   "metadata": {},
   "outputs": [],
   "source": [
    "model = DecisionTreeClassifier(max_depth=10)\n",
    "\n",
    "pipeline = Pipeline(steps=[('preprocessor', preprocessor),\n",
    "                           ('model', model)])"
   ]
  },
  {
   "cell_type": "code",
   "execution_count": null,
   "id": "384cb28a",
   "metadata": {},
   "outputs": [],
   "source": [
    "pipeline.fit(X_train, y_train)"
   ]
  },
  {
   "cell_type": "code",
   "execution_count": null,
   "id": "ae84deb9",
   "metadata": {},
   "outputs": [],
   "source": [
    "get_score(pipeline, X_train, X_test, y_train, y_test)"
   ]
  }
 ],
 "metadata": {
  "kernelspec": {
   "display_name": "Python 3 (ipykernel)",
   "language": "python",
   "name": "python3"
  },
  "language_info": {
   "codemirror_mode": {
    "name": "ipython",
    "version": 3
   },
   "file_extension": ".py",
   "mimetype": "text/x-python",
   "name": "python",
   "nbconvert_exporter": "python",
   "pygments_lexer": "ipython3",
   "version": "3.10.7"
  }
 },
 "nbformat": 4,
 "nbformat_minor": 5
}
