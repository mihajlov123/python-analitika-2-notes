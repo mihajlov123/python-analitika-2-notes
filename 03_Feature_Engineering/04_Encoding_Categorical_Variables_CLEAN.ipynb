{
 "cells": [
  {
   "cell_type": "markdown",
   "id": "0eabbee2",
   "metadata": {},
   "source": [
    "# Encoding Categorical Variables"
   ]
  },
  {
   "cell_type": "code",
   "execution_count": null,
   "id": "68296f17",
   "metadata": {},
   "outputs": [],
   "source": [
    "import pandas as pd\n",
    "import numpy as np\n",
    "%matplotlib inline\n",
    "import matplotlib.pyplot as plt"
   ]
  },
  {
   "cell_type": "markdown",
   "id": "73fc9b76",
   "metadata": {},
   "source": [
    "## Category Encoders"
   ]
  },
  {
   "cell_type": "markdown",
   "id": "d6cc3259",
   "metadata": {},
   "source": [
    "A set of scikit-learn-style transformers for encoding categorical variables into numeric with different techniques."
   ]
  },
  {
   "cell_type": "markdown",
   "id": "079562dd",
   "metadata": {},
   "source": [
    "https://contrib.scikit-learn.org/category_encoders/"
   ]
  },
  {
   "cell_type": "markdown",
   "id": "81ab0d10",
   "metadata": {},
   "source": [
    "Install: `category_encoders`"
   ]
  },
  {
   "cell_type": "markdown",
   "id": "fa88e723",
   "metadata": {},
   "source": [
    "## Creating binary variables through one-hot encoding"
   ]
  },
  {
   "cell_type": "code",
   "execution_count": null,
   "id": "847b888a",
   "metadata": {},
   "outputs": [],
   "source": [
    "from sklearn.model_selection import train_test_split\n",
    "from sklearn.preprocessing import OneHotEncoder"
   ]
  },
  {
   "cell_type": "code",
   "execution_count": null,
   "id": "a3064363",
   "metadata": {},
   "outputs": [],
   "source": [
    "data = pd.read_csv('data/creditApprovalUCI.csv')"
   ]
  },
  {
   "cell_type": "code",
   "execution_count": null,
   "id": "39ea506d",
   "metadata": {},
   "outputs": [],
   "source": [
    "X_train, X_test, y_train, y_test = train_test_split(data.drop(labels=['A16'], axis=1), data['A16'], test_size=0.3, random_state=0)"
   ]
  },
  {
   "cell_type": "code",
   "execution_count": null,
   "id": "150e9a81",
   "metadata": {},
   "outputs": [],
   "source": [
    "X_train['A4'].unique()"
   ]
  },
  {
   "cell_type": "code",
   "execution_count": null,
   "id": "cb33b980",
   "metadata": {},
   "outputs": [],
   "source": [
    "encoder = OneHotEncoder(categories='auto', drop='first', sparse=False)"
   ]
  },
  {
   "cell_type": "code",
   "execution_count": null,
   "id": "46142c2e",
   "metadata": {},
   "outputs": [],
   "source": [
    "vars_categorical = ['A1', 'A4', 'A5', 'A6', 'A7', 'A9', 'A10', 'A12', 'A13']\n",
    "encoder.fit(X_train[vars_categorical])"
   ]
  },
  {
   "cell_type": "code",
   "execution_count": null,
   "id": "688c5431",
   "metadata": {},
   "outputs": [],
   "source": [
    "X_train_enc = encoder.transform(X_train[vars_categorical])\n",
    "X_test_enc = encoder.transform(X_test[vars_categorical])"
   ]
  },
  {
   "cell_type": "code",
   "execution_count": null,
   "id": "e3b462e3",
   "metadata": {},
   "outputs": [],
   "source": [
    "X_train_enc"
   ]
  },
  {
   "cell_type": "markdown",
   "id": "5bdd25f0",
   "metadata": {},
   "source": [
    "## Performing one-hot encoding of frequent categories"
   ]
  },
  {
   "cell_type": "code",
   "execution_count": null,
   "id": "2eb1d97a",
   "metadata": {},
   "outputs": [],
   "source": [
    "from feature_engine.encoding import OneHotEncoder\n",
    "from feature_engine.imputation import CategoricalImputer"
   ]
  },
  {
   "cell_type": "code",
   "execution_count": null,
   "id": "f176ba93",
   "metadata": {},
   "outputs": [],
   "source": [
    "data = pd.read_csv('data/creditApprovalUCI.csv')\n",
    "\n",
    "X_train, X_test, y_train, y_test = train_test_split(\n",
    "    data.drop(labels=['A16'], axis=1), # predictors\n",
    "    data['A16'], # target\n",
    "    test_size=0.3, # percentage of observations in test set\n",
    "    random_state=0) # seed to ensure reproducibility\n",
    "\n",
    "\n",
    "imputer = CategoricalImputer()\n",
    "imputer.fit(X_train)\n",
    "X_train = imputer.transform(X_train)\n",
    "X_test = imputer.transform(X_test)"
   ]
  },
  {
   "cell_type": "code",
   "execution_count": null,
   "id": "2dc54493",
   "metadata": {},
   "outputs": [],
   "source": [
    "X_train['A6'].unique()"
   ]
  },
  {
   "cell_type": "code",
   "execution_count": null,
   "id": "a6310dc5",
   "metadata": {},
   "outputs": [],
   "source": [
    "X_train['A6'].value_counts().sort_values(ascending=False).head(5)"
   ]
  },
  {
   "cell_type": "code",
   "execution_count": null,
   "id": "630bfdfc",
   "metadata": {},
   "outputs": [],
   "source": [
    "ohe_enc = OneHotEncoder(top_categories=5, variables=['A6', 'A7'], drop_last=False)"
   ]
  },
  {
   "cell_type": "code",
   "execution_count": null,
   "id": "9b20095b",
   "metadata": {},
   "outputs": [],
   "source": [
    "ohe_enc.fit(X_train)"
   ]
  },
  {
   "cell_type": "code",
   "execution_count": null,
   "id": "04cb9cc5",
   "metadata": {},
   "outputs": [],
   "source": [
    "X_train_enc = ohe_enc.transform(X_train)\n",
    "X_test_enc = ohe_enc.transform(X_test)"
   ]
  },
  {
   "cell_type": "code",
   "execution_count": null,
   "id": "cce36a99",
   "metadata": {},
   "outputs": [],
   "source": [
    "X_train_enc.head()"
   ]
  },
  {
   "cell_type": "code",
   "execution_count": null,
   "id": "e84e8907",
   "metadata": {},
   "outputs": [],
   "source": [
    "ohe_enc.encoder_dict_"
   ]
  },
  {
   "cell_type": "markdown",
   "id": "77e84e89",
   "metadata": {},
   "source": [
    "## Replacing categories with ordinal numbers"
   ]
  },
  {
   "cell_type": "code",
   "execution_count": null,
   "id": "6ff0a72d",
   "metadata": {},
   "outputs": [],
   "source": [
    "from sklearn.preprocessing import OrdinalEncoder"
   ]
  },
  {
   "cell_type": "code",
   "execution_count": null,
   "id": "7d29fd9c",
   "metadata": {},
   "outputs": [],
   "source": [
    "data = pd.read_csv('data/creditApprovalUCI.csv')\n",
    "\n",
    "X_train, X_test, y_train, y_test = train_test_split(data.drop(labels=['A16'], axis=1), data['A16'],test_size=0.3, random_state=0)"
   ]
  },
  {
   "cell_type": "code",
   "execution_count": null,
   "id": "f47cb6a2",
   "metadata": {},
   "outputs": [],
   "source": [
    "vars_categorical = ['A1', 'A4', 'A5', 'A6', 'A7', 'A9', 'A10', 'A12', 'A13']\n",
    "\n",
    "le = OrdinalEncoder()"
   ]
  },
  {
   "cell_type": "code",
   "execution_count": null,
   "id": "feee033c",
   "metadata": {},
   "outputs": [],
   "source": [
    "le.fit(X_train[vars_categorical])"
   ]
  },
  {
   "cell_type": "code",
   "execution_count": null,
   "id": "6bf3d96b",
   "metadata": {},
   "outputs": [],
   "source": [
    "X_train_enc = le.transform(X_train[vars_categorical])\n",
    "X_test_enc = le.transform(X_test[vars_categorical])"
   ]
  },
  {
   "cell_type": "markdown",
   "id": "06ac3aa0",
   "metadata": {},
   "source": [
    "## Replacing categories with counts or frequency of observations"
   ]
  },
  {
   "cell_type": "code",
   "execution_count": null,
   "id": "c2716098",
   "metadata": {},
   "outputs": [],
   "source": [
    "data = pd.read_csv('data/creditApprovalUCI.csv')"
   ]
  },
  {
   "cell_type": "code",
   "execution_count": null,
   "id": "4d195ec3",
   "metadata": {},
   "outputs": [],
   "source": [
    "data.head(3)"
   ]
  },
  {
   "cell_type": "code",
   "execution_count": null,
   "id": "f086cada",
   "metadata": {},
   "outputs": [],
   "source": [
    "X_train, X_test, y_train, y_test = train_test_split(data.drop(labels=['A16'], axis=1), data['A16'],test_size=0.3, random_state=0)\n",
    "\n",
    "imputer = CategoricalImputer()\n",
    "imputer.fit(X_train)\n",
    "X_train = imputer.transform(X_train)\n",
    "X_test = imputer.transform(X_test)"
   ]
  },
  {
   "cell_type": "code",
   "execution_count": null,
   "id": "a6773d24",
   "metadata": {},
   "outputs": [],
   "source": [
    "from feature_engine.encoding import CountFrequencyEncoder\n",
    "\n",
    "count_enc = CountFrequencyEncoder(encoding_method='count', variables=None)"
   ]
  },
  {
   "cell_type": "code",
   "execution_count": null,
   "id": "3cbfb0f1",
   "metadata": {},
   "outputs": [],
   "source": [
    "count_enc.fit(X_train)"
   ]
  },
  {
   "cell_type": "code",
   "execution_count": null,
   "id": "a7859f57",
   "metadata": {},
   "outputs": [],
   "source": [
    "count_enc.encoder_dict_"
   ]
  },
  {
   "cell_type": "code",
   "execution_count": null,
   "id": "dec553b5",
   "metadata": {},
   "outputs": [],
   "source": [
    "X_train_enc = count_enc.transform(X_train)\n",
    "X_test_enc = count_enc.transform(X_test)"
   ]
  },
  {
   "cell_type": "code",
   "execution_count": null,
   "id": "155709d3",
   "metadata": {},
   "outputs": [],
   "source": [
    "X_train_enc.head()"
   ]
  },
  {
   "cell_type": "markdown",
   "id": "648f9752",
   "metadata": {},
   "source": [
    "## Encoding with integers in an ordered manner"
   ]
  },
  {
   "cell_type": "code",
   "execution_count": null,
   "id": "9e4c77aa",
   "metadata": {},
   "outputs": [],
   "source": [
    "data = pd.read_csv('data/creditApprovalUCI.csv')\n",
    "\n",
    "X_train, X_test, y_train, y_test = train_test_split(data, data['A16'], test_size=0.3, random_state=0)\n",
    "\n",
    "imputer = CategoricalImputer()\n",
    "imputer.fit(X_train)\n",
    "X_train = imputer.transform(X_train)\n",
    "X_test = imputer.transform(X_test)"
   ]
  },
  {
   "cell_type": "code",
   "execution_count": null,
   "id": "83a81a01",
   "metadata": {},
   "outputs": [],
   "source": [
    "X_train[\"A7\"].unique()"
   ]
  },
  {
   "cell_type": "code",
   "execution_count": null,
   "id": "0e3545a5",
   "metadata": {},
   "outputs": [],
   "source": [
    "X_train.groupby(['A7'])['A16'].mean().plot()\n",
    "plt.title('Relationship between A7 and the target')\n",
    "plt.ylabel('Mean of target')\n",
    "plt.show()"
   ]
  },
  {
   "cell_type": "code",
   "execution_count": null,
   "id": "46d2e87b",
   "metadata": {},
   "outputs": [],
   "source": [
    "X_train.groupby(['A7'])['A16'].mean()"
   ]
  },
  {
   "cell_type": "code",
   "execution_count": null,
   "id": "8a441a4f",
   "metadata": {},
   "outputs": [],
   "source": [
    "X_train.groupby(['A7'])['A16'].mean().sort_values()"
   ]
  },
  {
   "cell_type": "code",
   "execution_count": null,
   "id": "58cbf4b4",
   "metadata": {},
   "outputs": [],
   "source": [
    "ordered_labels = X_train.groupby(['A7'])['A16'].mean().sort_values().index\n",
    "ordered_labels"
   ]
  },
  {
   "cell_type": "code",
   "execution_count": null,
   "id": "044e6028",
   "metadata": {},
   "outputs": [],
   "source": [
    "ordinal_mapping = {k: i for i, k in enumerate(ordered_labels, 0)}\n",
    "ordinal_mapping"
   ]
  },
  {
   "cell_type": "code",
   "execution_count": null,
   "id": "26c55c92",
   "metadata": {},
   "outputs": [],
   "source": [
    "X_train['A7'] = X_train['A7'].map(ordinal_mapping)\n",
    "X_test['A7'] = X_test['A7'].map(ordinal_mapping)"
   ]
  },
  {
   "cell_type": "code",
   "execution_count": null,
   "id": "9f5487d5",
   "metadata": {},
   "outputs": [],
   "source": [
    "X_train.groupby(['A7'])['A16'].mean().plot()\n",
    "plt.title('Relationship between A7 and the target')\n",
    "plt.ylabel('Mean of target')\n",
    "plt.show()"
   ]
  },
  {
   "cell_type": "code",
   "execution_count": null,
   "id": "d6f1dcf0",
   "metadata": {},
   "outputs": [],
   "source": [
    "X_train, X_test, y_train, y_test = train_test_split(data.drop(labels=['A16'], axis=1), data['A16'], test_size=0.3, random_state=0)"
   ]
  },
  {
   "cell_type": "code",
   "execution_count": null,
   "id": "c2cf8aa7",
   "metadata": {},
   "outputs": [],
   "source": [
    "from feature_engine.encoding import OrdinalEncoder\n",
    "\n",
    "ordinal_enc = OrdinalEncoder(encoding_method='ordered', variables=None)"
   ]
  },
  {
   "cell_type": "code",
   "execution_count": null,
   "id": "81ced781",
   "metadata": {},
   "outputs": [],
   "source": [
    "ordinal_enc.fit(X_train, y_train)"
   ]
  },
  {
   "cell_type": "code",
   "execution_count": null,
   "id": "bd2f66fd",
   "metadata": {},
   "outputs": [],
   "source": [
    "ordinal_enc.encoder_dict_"
   ]
  },
  {
   "cell_type": "code",
   "execution_count": null,
   "id": "53a4f3f2",
   "metadata": {},
   "outputs": [],
   "source": [
    "X_train_enc = ordinal_enc.transform(X_train)\n",
    "X_test_enc = ordinal_enc.transform(X_test)"
   ]
  },
  {
   "cell_type": "code",
   "execution_count": null,
   "id": "2634f36b",
   "metadata": {},
   "outputs": [],
   "source": [
    "X_test_enc.head()"
   ]
  },
  {
   "cell_type": "markdown",
   "id": "21b3b518",
   "metadata": {},
   "source": [
    "## Encoding with the mean of the target"
   ]
  },
  {
   "cell_type": "code",
   "execution_count": null,
   "id": "bf29564f",
   "metadata": {},
   "outputs": [],
   "source": [
    "data = pd.read_csv('data/creditApprovalUCI.csv')\n",
    "\n",
    "X_train, X_test, y_train, y_test = train_test_split(data, data['A16'], test_size=0.3, random_state=0)\n",
    "\n",
    "imputer = CategoricalImputer()\n",
    "imputer.fit(X_train)\n",
    "X_train = imputer.transform(X_train)\n",
    "X_test = imputer.transform(X_test)"
   ]
  },
  {
   "cell_type": "code",
   "execution_count": null,
   "id": "e0595d28",
   "metadata": {},
   "outputs": [],
   "source": [
    "from feature_engine.encoding import MeanEncoder\n",
    "\n",
    "mean_enc = MeanEncoder(variables=None)"
   ]
  },
  {
   "cell_type": "code",
   "execution_count": null,
   "id": "9c779da7",
   "metadata": {},
   "outputs": [],
   "source": [
    "mean_enc.fit(X_train, y_train)"
   ]
  },
  {
   "cell_type": "code",
   "execution_count": null,
   "id": "ae14ba5f",
   "metadata": {},
   "outputs": [],
   "source": [
    "X_train_enc = mean_enc.transform(X_train)\n",
    "X_test_enc = mean_enc.transform(X_test)"
   ]
  },
  {
   "cell_type": "markdown",
   "id": "f15ac18b",
   "metadata": {},
   "source": [
    "## Grouping rare or infrequent categories"
   ]
  },
  {
   "cell_type": "code",
   "execution_count": null,
   "id": "d5c17349",
   "metadata": {},
   "outputs": [],
   "source": [
    "from feature_engine.encoding import RareLabelEncoder"
   ]
  },
  {
   "cell_type": "code",
   "execution_count": null,
   "id": "59341325",
   "metadata": {},
   "outputs": [],
   "source": [
    "data = pd.read_csv('data/creditApprovalUCI.csv')\n",
    "\n",
    "X_train, X_test, y_train, y_test = train_test_split(data.drop(labels=['A16'], axis=1), data['A16'],test_size=0.3, random_state=0)\n",
    "\n",
    "imputer = CategoricalImputer()\n",
    "imputer.fit(X_train)\n",
    "X_train = imputer.transform(X_train)\n",
    "X_test = imputer.transform(X_test)"
   ]
  },
  {
   "cell_type": "code",
   "execution_count": null,
   "id": "681ab234",
   "metadata": {},
   "outputs": [],
   "source": [
    "rare_encoder = RareLabelEncoder(tol=0.05, n_categories=4)"
   ]
  },
  {
   "cell_type": "code",
   "execution_count": null,
   "id": "d5f0b979",
   "metadata": {},
   "outputs": [],
   "source": [
    "rare_encoder.fit(X_train)"
   ]
  },
  {
   "cell_type": "code",
   "execution_count": null,
   "id": "1c10c77b",
   "metadata": {},
   "outputs": [],
   "source": [
    "X_train_enc = rare_encoder.transform(X_train)\n",
    "X_test_enc = rare_encoder.transform(X_test)"
   ]
  }
 ],
 "metadata": {
  "kernelspec": {
   "display_name": "Python 3 (ipykernel)",
   "language": "python",
   "name": "python3"
  },
  "language_info": {
   "codemirror_mode": {
    "name": "ipython",
    "version": 3
   },
   "file_extension": ".py",
   "mimetype": "text/x-python",
   "name": "python",
   "nbconvert_exporter": "python",
   "pygments_lexer": "ipython3",
   "version": "3.10.7"
  }
 },
 "nbformat": 4,
 "nbformat_minor": 5
}
