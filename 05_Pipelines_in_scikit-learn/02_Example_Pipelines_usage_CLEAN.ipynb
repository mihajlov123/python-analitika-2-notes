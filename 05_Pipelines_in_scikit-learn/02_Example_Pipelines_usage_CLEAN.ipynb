{
 "cells": [
  {
   "cell_type": "markdown",
   "id": "2bd3851d",
   "metadata": {},
   "source": [
    "# Example: Pipelines usage"
   ]
  },
  {
   "cell_type": "code",
   "execution_count": null,
   "id": "457baba2",
   "metadata": {},
   "outputs": [],
   "source": [
    "import pandas as pd\n",
    "import numpy as np\n",
    "import seaborn as sns\n",
    "%matplotlib inline\n",
    "import matplotlib.pyplot as plt"
   ]
  },
  {
   "cell_type": "code",
   "execution_count": null,
   "id": "92655e76",
   "metadata": {},
   "outputs": [],
   "source": [
    "train = pd.read_csv('data/house_train.csv')\n",
    "X_test = pd.read_csv('data/house_test.csv')"
   ]
  },
  {
   "cell_type": "code",
   "execution_count": null,
   "id": "7864d3ee",
   "metadata": {},
   "outputs": [],
   "source": [
    "from sklearn.model_selection import train_test_split"
   ]
  },
  {
   "cell_type": "code",
   "execution_count": null,
   "id": "c7806a17",
   "metadata": {},
   "outputs": [],
   "source": [
    "from sklearn.model_selection import train_test_split\n",
    "\n",
    "X = train.drop('SalePrice', axis=1)\n",
    "y = train[\"SalePrice\"]\n",
    "\n",
    "X_train, X_valid, y_train, y_valid = train_test_split(X, y, test_size=.3, random_state=1121218)"
   ]
  },
  {
   "cell_type": "code",
   "execution_count": null,
   "id": "a7fe5d93",
   "metadata": {},
   "outputs": [],
   "source": [
    "X_train.describe().T.iloc[:10] # All numerical cols"
   ]
  },
  {
   "cell_type": "code",
   "execution_count": null,
   "id": "172172d5",
   "metadata": {},
   "outputs": [],
   "source": [
    "X_train.describe(include=\"object\").T.iloc[:10] # All object cols"
   ]
  },
  {
   "cell_type": "code",
   "execution_count": null,
   "id": "b99a98c1",
   "metadata": {},
   "outputs": [],
   "source": [
    "above_0_missing = X_train.isnull().sum() > 0"
   ]
  },
  {
   "cell_type": "code",
   "execution_count": null,
   "id": "9add262e",
   "metadata": {},
   "outputs": [],
   "source": [
    "X_train.isnull().sum()[above_0_missing]"
   ]
  },
  {
   "cell_type": "code",
   "execution_count": null,
   "id": "9d3a37f2",
   "metadata": {},
   "outputs": [],
   "source": [
    "numerical_features = X_train.select_dtypes(include='number').columns.tolist()"
   ]
  },
  {
   "cell_type": "code",
   "execution_count": null,
   "id": "9294d11c",
   "metadata": {},
   "outputs": [],
   "source": [
    "print(f'There are {len(numerical_features)} numerical features:', '\\n')"
   ]
  },
  {
   "cell_type": "code",
   "execution_count": null,
   "id": "57d4f669",
   "metadata": {},
   "outputs": [],
   "source": [
    "print(numerical_features)"
   ]
  },
  {
   "cell_type": "code",
   "execution_count": null,
   "id": "d43a5072",
   "metadata": {},
   "outputs": [],
   "source": [
    "categorical_features = X_train.select_dtypes(exclude='number').columns.tolist()"
   ]
  },
  {
   "cell_type": "code",
   "execution_count": null,
   "id": "b388b72d",
   "metadata": {},
   "outputs": [],
   "source": [
    "print(f'There are {len(categorical_features)} categorical features:', '\\n')"
   ]
  },
  {
   "cell_type": "code",
   "execution_count": null,
   "id": "e01575ca",
   "metadata": {},
   "outputs": [],
   "source": [
    "print(categorical_features)"
   ]
  },
  {
   "cell_type": "code",
   "execution_count": null,
   "id": "dd06afdb",
   "metadata": {},
   "outputs": [],
   "source": [
    "from sklearn.impute import SimpleImputer\n",
    "from sklearn.preprocessing import OneHotEncoder, MinMaxScaler\n",
    "from sklearn.pipeline import Pipeline"
   ]
  },
  {
   "cell_type": "code",
   "execution_count": null,
   "id": "3126e6ac",
   "metadata": {},
   "outputs": [],
   "source": [
    "numeric_pipeline = Pipeline(steps=[\n",
    "    ('impute', SimpleImputer(strategy='mean')),\n",
    "    ('scale', MinMaxScaler())\n",
    "])\n",
    "\n",
    "categorical_pipeline = Pipeline(steps=[\n",
    "    ('impute', SimpleImputer(strategy='most_frequent')),\n",
    "    ('one-hot', OneHotEncoder(handle_unknown='ignore', sparse_output=False))\n",
    "])"
   ]
  },
  {
   "cell_type": "code",
   "execution_count": null,
   "id": "b8e671dd",
   "metadata": {},
   "outputs": [],
   "source": [
    "from sklearn.compose import ColumnTransformer"
   ]
  },
  {
   "cell_type": "code",
   "execution_count": null,
   "id": "e205866e",
   "metadata": {},
   "outputs": [],
   "source": [
    "full_processor = ColumnTransformer(transformers=[\n",
    "    ('number', numeric_pipeline, numerical_features),\n",
    "    ('category', categorical_pipeline, categorical_features)\n",
    "])"
   ]
  },
  {
   "cell_type": "code",
   "execution_count": null,
   "id": "d7cb710b",
   "metadata": {},
   "outputs": [],
   "source": [
    "from sklearn.linear_model import Lasso\n",
    "from sklearn.metrics import mean_absolute_error"
   ]
  },
  {
   "cell_type": "code",
   "execution_count": null,
   "id": "27356ea4",
   "metadata": {},
   "outputs": [],
   "source": [
    "lasso = Lasso(alpha=0.1)\n",
    "\n",
    "lasso_pipeline = Pipeline(steps=[\n",
    "    ('preprocess', full_processor),\n",
    "    ('model', lasso)\n",
    "])\n",
    "\n",
    "lasso_pipeline.fit(X_train, y_train)\n",
    "\n",
    "preds = lasso_pipeline.predict(X_valid)"
   ]
  },
  {
   "cell_type": "code",
   "execution_count": null,
   "id": "970fe9f5",
   "metadata": {},
   "outputs": [],
   "source": [
    "mean_absolute_error(y_valid, preds)"
   ]
  },
  {
   "cell_type": "code",
   "execution_count": null,
   "id": "3ab78872",
   "metadata": {},
   "outputs": [],
   "source": [
    "lasso_pipeline.score(X_valid, y_valid)"
   ]
  },
  {
   "cell_type": "code",
   "execution_count": null,
   "id": "fe12daa3",
   "metadata": {},
   "outputs": [],
   "source": [
    "def run_training(data, model):\n",
    "    X = data.drop('SalePrice', axis=1)\n",
    "    y = data[\"SalePrice\"]\n",
    "    X_train, X_valid, y_train, y_valid = train_test_split(X, y, test_size=.3, random_state=1121218)\n",
    "    \n",
    "    numerical_features = X_train.select_dtypes(include='number').columns.tolist()\n",
    "    categorical_features = X_train.select_dtypes(exclude='number').columns.tolist()\n",
    "    \n",
    "    # pipeline\n",
    "    numeric_pipeline = Pipeline(steps=[\n",
    "        ('impute', SimpleImputer(strategy='mean')),\n",
    "        ('scale', MinMaxScaler())\n",
    "    ])\n",
    "    categorical_pipeline = Pipeline(steps=[\n",
    "        ('impute', SimpleImputer(strategy='most_frequent')),\n",
    "        ('one-hot', OneHotEncoder(handle_unknown='ignore', sparse_output=False))\n",
    "    ])  \n",
    "    full_processor = ColumnTransformer(transformers=[\n",
    "        ('number', numeric_pipeline, numerical_features),\n",
    "        ('category', categorical_pipeline, categorical_features)\n",
    "    ])\n",
    "    \n",
    "    full_pipeline = Pipeline(steps=[\n",
    "        ('preprocess', full_processor),\n",
    "        ('model', model)\n",
    "    ])\n",
    "    \n",
    "    full_pipeline.fit(X_train, y_train)\n",
    "    preds = full_pipeline.predict(X_valid)\n",
    "    \n",
    "    print(f\"Mean absolute error: {mean_absolute_error(y_valid, preds)}\")\n",
    "    print(f\"Score: {lasso_pipeline.score(X_valid, y_valid)}\")"
   ]
  },
  {
   "cell_type": "code",
   "execution_count": null,
   "id": "0db2d9b5",
   "metadata": {},
   "outputs": [],
   "source": [
    "train = pd.read_csv('data/house_train.csv')\n",
    "lasso = Lasso(alpha=0.1)\n",
    "run_training(train, lasso)"
   ]
  },
  {
   "cell_type": "markdown",
   "id": "ccaca005",
   "metadata": {},
   "source": [
    "Naloga: Dodajte feature selection v pipeline."
   ]
  },
  {
   "cell_type": "code",
   "execution_count": null,
   "id": "a1179bfe",
   "metadata": {},
   "outputs": [],
   "source": []
  },
  {
   "cell_type": "code",
   "execution_count": null,
   "id": "da56e886",
   "metadata": {},
   "outputs": [],
   "source": []
  },
  {
   "cell_type": "code",
   "execution_count": null,
   "id": "cbe54eb1",
   "metadata": {},
   "outputs": [],
   "source": []
  },
  {
   "cell_type": "code",
   "execution_count": null,
   "id": "133186e7",
   "metadata": {},
   "outputs": [],
   "source": []
  },
  {
   "cell_type": "code",
   "execution_count": null,
   "id": "7bea7f7b",
   "metadata": {},
   "outputs": [],
   "source": []
  },
  {
   "cell_type": "code",
   "execution_count": null,
   "id": "23123fd2",
   "metadata": {},
   "outputs": [],
   "source": [
    "from sklearn.model_selection import GridSearchCV\n",
    "\n",
    "param_dict = {'model__alpha': np.arange(0.01, 1, 0.05)}\n",
    "\n",
    "search = GridSearchCV(lasso_pipeline, param_dict, \n",
    "                      cv=10, \n",
    "                      scoring='neg_mean_absolute_error')\n",
    "\n",
    "search.fit(X_train, y_train)"
   ]
  },
  {
   "cell_type": "code",
   "execution_count": null,
   "id": "7df97303",
   "metadata": {},
   "outputs": [],
   "source": [
    "print('Best score:', abs(search.best_score_))\n",
    "print('Best alpha:', search.best_params_)"
   ]
  },
  {
   "cell_type": "code",
   "execution_count": null,
   "id": "bee7a707",
   "metadata": {},
   "outputs": [],
   "source": [
    "param_dict = {'model__alpha': np.arange(1, 100, 5)}\n",
    "\n",
    "search = GridSearchCV(lasso_pipeline, param_dict, \n",
    "                      cv=5, \n",
    "                      scoring='neg_mean_absolute_error')\n",
    "\n",
    "search.fit(X_train, y_train)\n",
    "\n",
    "print('Best score:', abs(search.best_score_))\n",
    "print('Best alpha:', search.best_params_)"
   ]
  },
  {
   "cell_type": "code",
   "execution_count": null,
   "id": "1dce7a8a",
   "metadata": {},
   "outputs": [],
   "source": [
    "def run_training_gridcv(data, model, params):\n",
    "    X = data.drop('SalePrice', axis=1)\n",
    "    y = data[\"SalePrice\"]\n",
    "    X_train, X_valid, y_train, y_valid = train_test_split(X, y, test_size=.3, random_state=1121218)\n",
    "    \n",
    "    numerical_features = X_train.select_dtypes(include='number').columns.tolist()\n",
    "    categorical_features = X_train.select_dtypes(exclude='number').columns.tolist()\n",
    "    \n",
    "    # pipeline\n",
    "    numeric_pipeline = Pipeline(steps=[\n",
    "        ('impute', SimpleImputer(strategy='mean')),\n",
    "        ('scale', MinMaxScaler())\n",
    "    ])\n",
    "    categorical_pipeline = Pipeline(steps=[\n",
    "        ('impute', SimpleImputer(strategy='most_frequent')),\n",
    "        ('one-hot', OneHotEncoder(handle_unknown='ignore', sparse_output=False))\n",
    "    ])  \n",
    "    full_processor = ColumnTransformer(transformers=[\n",
    "        ('number', numeric_pipeline, numerical_features),\n",
    "        ('category', categorical_pipeline, categorical_features)\n",
    "    ])\n",
    "    \n",
    "    full_pipeline = Pipeline(steps=[\n",
    "        ('preprocess', full_processor),\n",
    "        (\"select\", SelectPercentile(score_func=f_regression, percentile=80)),\n",
    "        ('model', model)\n",
    "    ])\n",
    "    \n",
    "    \n",
    "    search = GridSearchCV(full_pipeline, params, \n",
    "                      cv=5, \n",
    "                      scoring='neg_mean_absolute_error')\n",
    "    \n",
    "    search.fit(X_train, y_train)\n",
    "\n",
    "    print('Best score:', abs(search.best_score_))\n",
    "    print('Best params:', search.best_params_)\n",
    "    return search\n",
    "    \n",
    "train = pd.read_csv('data/house_train.csv')\n",
    "param_dict = {'model__alpha': np.arange(1, 300, 10)}\n",
    "lasso = Lasso(alpha=0.1)\n",
    "run_training_gridcv(train, lasso, param_dict)"
   ]
  },
  {
   "cell_type": "code",
   "execution_count": null,
   "id": "b1732a36",
   "metadata": {},
   "outputs": [],
   "source": [
    "lasso = Lasso(alpha=151)\n",
    "\n",
    "final_lasso_pipe = Pipeline(steps=[\n",
    "    ('preprocess', full_processor),\n",
    "    ('model', lasso)\n",
    "])\n",
    "\n",
    "final_lasso_pipe.fit(X_train, y_train)\n",
    "preds = final_lasso_pipe.predict(X_valid)\n",
    "\n",
    "mean_absolute_error(y_valid, preds)"
   ]
  },
  {
   "cell_type": "code",
   "execution_count": null,
   "id": "6a28577c",
   "metadata": {},
   "outputs": [],
   "source": [
    "preds_final = final_lasso_pipe.predict(X_test)\n",
    "\n",
    "output = pd.DataFrame({'Id': X_test[\"Id\"], 'SalePrice': preds_final})\n",
    "output.head()"
   ]
  }
 ],
 "metadata": {
  "kernelspec": {
   "display_name": "Python 3 (ipykernel)",
   "language": "python",
   "name": "python3"
  },
  "language_info": {
   "codemirror_mode": {
    "name": "ipython",
    "version": 3
   },
   "file_extension": ".py",
   "mimetype": "text/x-python",
   "name": "python",
   "nbconvert_exporter": "python",
   "pygments_lexer": "ipython3",
   "version": "3.10.7"
  }
 },
 "nbformat": 4,
 "nbformat_minor": 5
}
