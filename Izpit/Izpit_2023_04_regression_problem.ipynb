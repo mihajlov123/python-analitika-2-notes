{
 "cells": [
  {
   "cell_type": "markdown",
   "metadata": {},
   "source": [
    "# Izpit: Analitika 2: Strojno učenje v Python-u"
   ]
  },
  {
   "attachments": {},
   "cell_type": "markdown",
   "metadata": {},
   "source": [
    "Rok oddaje: `TODO!`\n",
    "\n",
    "Cilj: `doseči čim boljšo končno napoved.`"
   ]
  },
  {
   "cell_type": "markdown",
   "metadata": {},
   "source": [
    "Za vsa vprašanja smo na voljo.\n",
    "\n",
    "Lahko si pomagate z uporabo gradiv in internetom. Ne pozabite na uradno dokumentacijo.\n",
    "\n",
    "Srečno!!"
   ]
  },
  {
   "attachments": {},
   "cell_type": "markdown",
   "metadata": {},
   "source": [
    "# Problem 2: Regresijski\n",
    "\n",
    "Podane imate podatke o stanovanjskih območjih in njihove povprečne karakteristike.\n",
    "\n",
    "Atributi:\n",
    "* `Prihodek` (povprečen prihodek v hiši)\n",
    "* `StartostHise` (povprečna starost hiše)\n",
    "* `SteviloSob` (povprečno število sob v hiši)\n",
    "* `SteviloSpalnic` (povprečno število spalnic v hiši)\n",
    "* `VzorcnoSteviloPrebivalcev` (število prebivalcev iz kjer smo izračunali povprečja)\n",
    "* `SteviloPrebivalcev` (povprečno število prebivalcev v hiši)\n",
    "* `ZemljepisnaSirina` (povprečna zemljepisna širina hiše)\n",
    "* `ZemljepisnaDolzina` (povrečna zemljepisna dolžina hiše)\n",
    "\n",
    "Ciljni atribut:\n",
    "* `VrednostHise` (povprečna vrednost hiše)\n",
    "\n",
    "Vaša naloga je, da izdelate regresijski model, ki bo čim boljše napovedoval povprečno ceno hiše glede na podane atribute.\n",
    "\n",
    "Za napovedovanje lahko uporabite kakršnekoli metode.\n",
    "\n",
    "Pred samo napovedjo boste morali značilke urediti v obliko, ki bo omogočala napovedovanje cene.\n",
    "\n",
    "```\n",
    "POZOR: Pazite, da za optimizacijo modela uporabljate validacijske podatke, ki jih naredite z delitvijo train podatkov, že naloženih s spodnjo kodo. Spodnje celice ne spreminjajte, da vsi primerjamo rezultate z istimi testnimi podatki.\n",
    "```"
   ]
  },
  {
   "cell_type": "code",
   "execution_count": null,
   "metadata": {},
   "outputs": [],
   "source": [
    "import pandas as pd\n",
    "from sklearn.model_selection import train_test_split\n",
    "\n",
    "data = pd.read_csv(\"./data/Problem2_cena_hise.csv\",sep=\"\\t\",encoding=\"utf-8\")\n",
    "train, test = train_test_split(data, test_size=0.3, random_state=42, shuffle=True)\n",
    "display(data)\n",
    "display(train)\n",
    "display(test)"
   ]
  },
  {
   "cell_type": "markdown",
   "metadata": {},
   "source": []
  },
  {
   "attachments": {},
   "cell_type": "markdown",
   "metadata": {},
   "source": [
    "#### Prvotna analiza podatkov"
   ]
  },
  {
   "cell_type": "code",
   "execution_count": null,
   "metadata": {},
   "outputs": [],
   "source": [
    "display(data.shape)\n",
    "display(data.info())\n",
    "display(data.isnull().sum())\n",
    "# vidimo da ni manjkajočih vrednosti -> imputacija ne bo potrebna\n"
   ]
  },
  {
   "cell_type": "code",
   "execution_count": null,
   "metadata": {},
   "outputs": [],
   "source": [
    "display(data.describe())\n",
    "# vsi podatki so že v numerični obliki -> ni potrebe po encodiranju podatkov"
   ]
  },
  {
   "attachments": {},
   "cell_type": "markdown",
   "metadata": {},
   "source": [
    "Dodatne ideje - todo!\n",
    "- vizualiziraj outlinerje\n",
    "- vizualiziraj medsebojne odvisnosti\n",
    "- iz zemplepisne sirine in dolzine ustvari znacilko povprecne velikosti (footrprint)"
   ]
  },
  {
   "cell_type": "code",
   "execution_count": null,
   "metadata": {},
   "outputs": [],
   "source": [
    "# Vizualizacija značilnosti podatkov, ki so pomembne za izbiro modela\n",
    "import seaborn as sns\n",
    "import matplotlib.pyplot as plt\n",
    "\n",
    "g = sns.PairGrid(data)\n",
    "g.map(sns.scatterplot)\n",
    "plt.show()"
   ]
  },
  {
   "cell_type": "code",
   "execution_count": null,
   "metadata": {},
   "outputs": [],
   "source": [
    "sns.lmplot(x=\"StartostHise\", y=\"VrednostHise\", data=data, order=1)\n",
    "plt.show()"
   ]
  },
  {
   "cell_type": "code",
   "execution_count": null,
   "metadata": {},
   "outputs": [],
   "source": [
    "sns.lmplot(x=\"Prihodek\", y=\"VrednostHise\", data=data, order=1)\n",
    "plt.show()"
   ]
  },
  {
   "cell_type": "code",
   "execution_count": null,
   "metadata": {},
   "outputs": [],
   "source": [
    "sns.lmplot(x=\"ZemljepisnaSirina\", y=\"ZemljepisnaDolzina\", data=data, order=1)\n",
    "plt.show()"
   ]
  },
  {
   "attachments": {},
   "cell_type": "markdown",
   "metadata": {},
   "source": [
    "#### Feature-engineering\n",
    "- iz geo latitude & longitude s pomočjo reverse geocodinga pridobimo podatke o lokaciji"
   ]
  },
  {
   "attachments": {},
   "cell_type": "markdown",
   "metadata": {},
   "source": [
    "Spodnjo kodo uporabimo za reverse-geocoding. Ker izvajanje traja dolgo časa smo končni rezultat shranili v csv iz katerega beremo podatke v nadaljevanju.\n",
    "\n",
    "``` python\n",
    "import numpy as np\n",
    "import pandas as pd\n",
    "from geopy.geocoders import Nominatim\n",
    "from geopy.point import Point\n",
    "\n",
    "geolocator = Nominatim(user_agent=\"test\")\n",
    "\n",
    "def reverse_geocoding(lat, lon):\n",
    "    try:\n",
    "        location = geolocator.reverse(Point(lat, lon))\n",
    "        return location.raw['display_name']\n",
    "    except:\n",
    "        return None\n",
    "\n",
    "df = data\n",
    "df['address'] = np.vectorize(reverse_geocoding)(df['ZemljepisnaSirina'], df['ZemljepisnaDolzina'])\n",
    "df[\"Mesto\"] = df[\"address\"].str.split(',').str[-5]\n",
    "df.drop(columns = ['Unnamed: 0'], inplace=True)\n",
    "df.to_csv(\"./data/Problem2_cena_hise_reverse_geocoding.csv\", sep=\"\\t\",encoding=\"utf-8\", index=False)\n",
    "\n",
    "```"
   ]
  },
  {
   "attachments": {},
   "cell_type": "markdown",
   "metadata": {},
   "source": [
    "- Prebermo podatke, kjer je stolpec Mesto že pripravljeno (Glede na kodo zgoraj)"
   ]
  },
  {
   "cell_type": "code",
   "execution_count": null,
   "metadata": {},
   "outputs": [],
   "source": [
    "data_mesto = pd.read_csv(\"./data/Problem2_cena_hise_reverse_geocoding.csv\",sep=\"\\t\",encoding=\"utf-8\")\n",
    "data_mesto.drop(columns = ['address'], inplace=True)\n",
    "display(data_mesto.head(5))"
   ]
  },
  {
   "attachments": {},
   "cell_type": "markdown",
   "metadata": {},
   "source": [
    "#### Porazdelitev podatkov, distribucija značilk"
   ]
  },
  {
   "cell_type": "code",
   "execution_count": null,
   "metadata": {},
   "outputs": [],
   "source": [
    "from scipy import stats\n",
    "# Create a grid of subplots with matplotlib\n",
    "fig, axes = plt.subplots(nrows=len(data.columns), ncols=1, figsize=(6, 30))\n",
    "\n",
    "# Iterate over all columns and plot a probability plot on each subplot\n",
    "for i, col in enumerate(data.columns):\n",
    "    ax = axes[i]\n",
    "    stats.probplot(data[col], dist=\"norm\", plot=ax)\n",
    "    ax.set_title(f\"Probability Plot for {col}\")\n",
    "\n",
    "plt.tight_layout()\n",
    "plt.show()"
   ]
  },
  {
   "cell_type": "code",
   "execution_count": null,
   "metadata": {},
   "outputs": [],
   "source": [
    "data.hist(bins=30, figsize=(12,12), density=True)\n",
    "plt.show()"
   ]
  },
  {
   "attachments": {},
   "cell_type": "markdown",
   "metadata": {},
   "source": [
    "#### Linear regresion"
   ]
  },
  {
   "cell_type": "code",
   "execution_count": null,
   "metadata": {},
   "outputs": [],
   "source": [
    "# Train in test podatke razdelimo na znacilke in prediktorje za nadaljnjo uporabo\n",
    "y_train = train['VrednostHise']\n",
    "X_train = train.drop(columns=[\"VrednostHise\"])\n",
    "y_test = test['VrednostHise']\n",
    "X_test = test.drop(columns=[\"VrednostHise\"])"
   ]
  },
  {
   "cell_type": "code",
   "execution_count": null,
   "metadata": {},
   "outputs": [],
   "source": [
    "from sklearn.linear_model import LinearRegression\n",
    "\n",
    "lr = LinearRegression().fit(X_train, y_train)\n",
    "print(f\"Training set score: {lr.score(X_train, y_train):.2f}\")\n",
    "print(f\"Test set score: {lr.score(X_test, y_test):.2f}\")\n",
    "\n",
    "# Primer underfittinga -> preveč enostaven model, kar povzorči nizek accuracy na train in test podatkih."
   ]
  },
  {
   "attachments": {},
   "cell_type": "markdown",
   "metadata": {},
   "source": [
    "- Dodamo skaliranje in regularizacijo"
   ]
  },
  {
   "cell_type": "code",
   "execution_count": null,
   "metadata": {},
   "outputs": [],
   "source": [
    "from sklearn.preprocessing import StandardScaler\n",
    "from sklearn.linear_model import Ridge # importanje L2 regularizacije\n",
    "\n",
    "scaler = StandardScaler()\n",
    "\n",
    "scaler.fit(X_train)\n",
    "X_train_scaled = scaler.transform(X_train)\n",
    "X_test_scaled = scaler.transform(X_test)\n",
    "ridge = Ridge()\n",
    "ridge.fit(X_train_scaled, y_train)\n",
    "print(f\"Training set score: {ridge.score(X_train_scaled, y_train):.2f}\")\n",
    "print(f\"Test set score: {ridge.score(X_test_scaled, y_test):.2f}\")"
   ]
  },
  {
   "cell_type": "code",
   "execution_count": null,
   "metadata": {},
   "outputs": [],
   "source": []
  },
  {
   "cell_type": "code",
   "execution_count": null,
   "metadata": {},
   "outputs": [],
   "source": []
  },
  {
   "cell_type": "code",
   "execution_count": null,
   "metadata": {},
   "outputs": [],
   "source": []
  },
  {
   "cell_type": "code",
   "execution_count": null,
   "metadata": {},
   "outputs": [],
   "source": []
  },
  {
   "cell_type": "code",
   "execution_count": null,
   "metadata": {},
   "outputs": [],
   "source": []
  },
  {
   "cell_type": "code",
   "execution_count": null,
   "metadata": {},
   "outputs": [],
   "source": []
  }
 ],
 "metadata": {
  "kernelspec": {
   "display_name": "Python 3",
   "language": "python",
   "name": "python3"
  },
  "language_info": {
   "codemirror_mode": {
    "name": "ipython",
    "version": 3
   },
   "file_extension": ".py",
   "mimetype": "text/x-python",
   "name": "python",
   "nbconvert_exporter": "python",
   "pygments_lexer": "ipython3",
   "version": "3.11.1"
  },
  "vscode": {
   "interpreter": {
    "hash": "ecf2b9bec03ffdeedd6f93263319f3fbbf4b32c0dbd57148b9b626b3dfa2bbc4"
   }
  }
 },
 "nbformat": 4,
 "nbformat_minor": 4
}
