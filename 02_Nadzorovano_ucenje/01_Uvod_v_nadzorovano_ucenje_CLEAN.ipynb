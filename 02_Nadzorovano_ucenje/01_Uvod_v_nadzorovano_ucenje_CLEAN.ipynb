{
 "cells": [
  {
   "cell_type": "markdown",
   "id": "50fef487",
   "metadata": {},
   "source": [
    "# Uvod v nadzorovano učenje"
   ]
  },
  {
   "cell_type": "markdown",
   "id": "25841aef",
   "metadata": {},
   "source": [
    "Supervised machine learning or more commonly, supervised learning, **refers to algorithms that learn x to y** or **input to output mappings**. "
   ]
  },
  {
   "cell_type": "markdown",
   "id": "c9aa06fc",
   "metadata": {},
   "source": [
    "- The key characteristic of supervised learning is that **you give your learning algorithm examples to learn from**."
   ]
  },
  {
   "cell_type": "markdown",
   "id": "d22ea794",
   "metadata": {},
   "source": [
    "<img src=\"./images/img01.png\"/>"
   ]
  },
  {
   "cell_type": "markdown",
   "id": "07991b72",
   "metadata": {},
   "source": [
    "<img src=\"./images/img02.png\"/>"
   ]
  },
  {
   "cell_type": "markdown",
   "id": "e9e98f87",
   "metadata": {},
   "source": [
    "## Classification and Regression"
   ]
  },
  {
   "cell_type": "markdown",
   "id": "93283523",
   "metadata": {},
   "source": [
    "### Regression"
   ]
  },
  {
   "cell_type": "markdown",
   "id": "feb7cfa5",
   "metadata": {},
   "source": [
    "`For regression tasks, the goal is to predict a continuous number, or a floating-point number in programming terms (or real number in mathematical terms).`"
   ]
  },
  {
   "cell_type": "markdown",
   "id": "47514f7d",
   "metadata": {},
   "source": [
    "### Classification"
   ]
  },
  {
   "cell_type": "markdown",
   "id": "eecfd25e",
   "metadata": {},
   "source": [
    "`In classification, the goal is to predict a class label, which is a choice from a predefined\n",
    "list of possibilities.`\n",
    "\n",
    "    \n",
    "    "
   ]
  },
  {
   "cell_type": "markdown",
   "id": "ec64cd35",
   "metadata": {},
   "source": [
    "## Generalization, Overfitting, and Underfitting"
   ]
  },
  {
   "attachments": {},
   "cell_type": "markdown",
   "id": "61056be0",
   "metadata": {},
   "source": [
    "**The only measure of whether an algorithm will perform well on new data is the evaluation on the test set**. \n",
    "\n",
    "\n",
    "- Building a model that is **too complex for the amount of information** we have, is called **overfitting**. \n",
    "- **Choosing too simple a model is called underfitting**.\n",
    "\n",
    "Cilj da dosežemo sweet spot - neko točko kompleksnosti modela, ki se bo približno dobro odrezala na novih podatkih (generalization)"
   ]
  },
  {
   "cell_type": "markdown",
   "id": "d7253535",
   "metadata": {},
   "source": [
    "<img src=\"./images/overfitting.png\"/>"
   ]
  },
  {
   "cell_type": "markdown",
   "id": "ab7a945c",
   "metadata": {},
   "source": [
    "## Relation of Model Complexity to Dataset Size"
   ]
  },
  {
   "attachments": {},
   "cell_type": "markdown",
   "id": "4494679c",
   "metadata": {},
   "source": [
    "Kompleksnost modela je povezana s kompleksnostjo podatkov.\n",
    "\n",
    "- Več kot je podatkov -> bolj kompleksne modele si lahko privoščimo (ne moremo prehitro overfittat). To pomeni, da pri manjših podatkih (manj featurejev) lahko hitro model naredimo prekompleksen.\n",
    "- Izboljšanje podatkov je velikokrat pomembneje kot pa \"tunat\" model"
   ]
  }
 ],
 "metadata": {
  "kernelspec": {
   "display_name": "Python 3",
   "language": "python",
   "name": "python3"
  },
  "language_info": {
   "codemirror_mode": {
    "name": "ipython",
    "version": 3
   },
   "file_extension": ".py",
   "mimetype": "text/x-python",
   "name": "python",
   "nbconvert_exporter": "python",
   "pygments_lexer": "ipython3",
   "version": "3.9.2 (tags/v3.9.2:1a79785, Feb 19 2021, 13:44:55) [MSC v.1928 64 bit (AMD64)]"
  },
  "vscode": {
   "interpreter": {
    "hash": "44eea051ad02c8878532f0fd42534248d35d0c9a8dc13d671a1adc94fda67b31"
   }
  }
 },
 "nbformat": 4,
 "nbformat_minor": 5
}
