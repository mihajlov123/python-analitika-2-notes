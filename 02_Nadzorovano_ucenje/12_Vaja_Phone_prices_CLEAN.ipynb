{
 "cells": [
  {
   "cell_type": "markdown",
   "id": "2019f15b",
   "metadata": {},
   "source": [
    "# Vaja: Phone prices"
   ]
  },
  {
   "cell_type": "code",
   "execution_count": 1,
   "id": "c032d837",
   "metadata": {},
   "outputs": [],
   "source": [
    "import pandas as pd\n",
    "import numpy as np\n",
    "%matplotlib inline\n",
    "import matplotlib.pyplot as plt"
   ]
  },
  {
   "cell_type": "markdown",
   "id": "f7b531cf",
   "metadata": {},
   "source": [
    "## Treniranje modela"
   ]
  },
  {
   "cell_type": "markdown",
   "id": "c87dd0e4",
   "metadata": {},
   "source": [
    "Podatki za trening so na voljo v datoteki: `data/vaja/mobile_clean.csv`"
   ]
  },
  {
   "cell_type": "code",
   "execution_count": 2,
   "id": "8c077a9d",
   "metadata": {},
   "outputs": [],
   "source": [
    "data = mobile_data = pd.read_csv(\"data/vaja/mobile_clean.csv\", index_col=\"product_id\")"
   ]
  },
  {
   "cell_type": "code",
   "execution_count": 3,
   "id": "1fbadbd5",
   "metadata": {},
   "outputs": [
    {
     "data": {
      "text/plain": [
       "(151, 13)"
      ]
     },
     "execution_count": 3,
     "metadata": {},
     "output_type": "execute_result"
    }
   ],
   "source": [
    "data.shape"
   ]
  },
  {
   "cell_type": "code",
   "execution_count": 4,
   "id": "b0503b3b",
   "metadata": {},
   "outputs": [
    {
     "data": {
      "text/html": [
       "<div>\n",
       "<style scoped>\n",
       "    .dataframe tbody tr th:only-of-type {\n",
       "        vertical-align: middle;\n",
       "    }\n",
       "\n",
       "    .dataframe tbody tr th {\n",
       "        vertical-align: top;\n",
       "    }\n",
       "\n",
       "    .dataframe thead th {\n",
       "        text-align: right;\n",
       "    }\n",
       "</style>\n",
       "<table border=\"1\" class=\"dataframe\">\n",
       "  <thead>\n",
       "    <tr style=\"text-align: right;\">\n",
       "      <th></th>\n",
       "      <th>price</th>\n",
       "      <th>sale</th>\n",
       "      <th>weight</th>\n",
       "      <th>resoloution</th>\n",
       "      <th>ppi</th>\n",
       "      <th>cpu_core</th>\n",
       "      <th>cpu_freq</th>\n",
       "      <th>internal_mem</th>\n",
       "      <th>ram</th>\n",
       "      <th>rearcam</th>\n",
       "      <th>front_cam</th>\n",
       "      <th>battery</th>\n",
       "      <th>thickness</th>\n",
       "    </tr>\n",
       "  </thead>\n",
       "  <tbody>\n",
       "    <tr>\n",
       "      <th>count</th>\n",
       "      <td>151.000000</td>\n",
       "      <td>151.000000</td>\n",
       "      <td>151.000000</td>\n",
       "      <td>151.000000</td>\n",
       "      <td>151.000000</td>\n",
       "      <td>151.000000</td>\n",
       "      <td>151.000000</td>\n",
       "      <td>151.000000</td>\n",
       "      <td>151.000000</td>\n",
       "      <td>151.000000</td>\n",
       "      <td>151.000000</td>\n",
       "      <td>151.000000</td>\n",
       "      <td>151.000000</td>\n",
       "    </tr>\n",
       "    <tr>\n",
       "      <th>mean</th>\n",
       "      <td>550.889073</td>\n",
       "      <td>591.980132</td>\n",
       "      <td>167.556954</td>\n",
       "      <td>5.160927</td>\n",
       "      <td>334.516556</td>\n",
       "      <td>4.794702</td>\n",
       "      <td>1.501331</td>\n",
       "      <td>24.058119</td>\n",
       "      <td>2.175523</td>\n",
       "      <td>10.231126</td>\n",
       "      <td>4.415894</td>\n",
       "      <td>2809.668874</td>\n",
       "      <td>8.964901</td>\n",
       "    </tr>\n",
       "    <tr>\n",
       "      <th>std</th>\n",
       "      <td>195.212038</td>\n",
       "      <td>1469.778874</td>\n",
       "      <td>83.062901</td>\n",
       "      <td>1.447040</td>\n",
       "      <td>135.430172</td>\n",
       "      <td>2.463921</td>\n",
       "      <td>0.613407</td>\n",
       "      <td>28.381497</td>\n",
       "      <td>1.615576</td>\n",
       "      <td>6.236927</td>\n",
       "      <td>4.326925</td>\n",
       "      <td>1293.732671</td>\n",
       "      <td>2.230492</td>\n",
       "    </tr>\n",
       "    <tr>\n",
       "      <th>min</th>\n",
       "      <td>153.500000</td>\n",
       "      <td>10.000000</td>\n",
       "      <td>66.000000</td>\n",
       "      <td>1.400000</td>\n",
       "      <td>121.000000</td>\n",
       "      <td>0.000000</td>\n",
       "      <td>0.000000</td>\n",
       "      <td>0.000000</td>\n",
       "      <td>0.000000</td>\n",
       "      <td>0.000000</td>\n",
       "      <td>0.000000</td>\n",
       "      <td>800.000000</td>\n",
       "      <td>5.100000</td>\n",
       "    </tr>\n",
       "    <tr>\n",
       "      <th>25%</th>\n",
       "      <td>433.500000</td>\n",
       "      <td>37.000000</td>\n",
       "      <td>134.050000</td>\n",
       "      <td>4.800000</td>\n",
       "      <td>233.000000</td>\n",
       "      <td>4.000000</td>\n",
       "      <td>1.200000</td>\n",
       "      <td>8.000000</td>\n",
       "      <td>1.000000</td>\n",
       "      <td>5.000000</td>\n",
       "      <td>0.000000</td>\n",
       "      <td>2020.000000</td>\n",
       "      <td>7.600000</td>\n",
       "    </tr>\n",
       "    <tr>\n",
       "      <th>50%</th>\n",
       "      <td>564.500000</td>\n",
       "      <td>109.000000</td>\n",
       "      <td>153.000000</td>\n",
       "      <td>5.150000</td>\n",
       "      <td>294.000000</td>\n",
       "      <td>4.000000</td>\n",
       "      <td>1.400000</td>\n",
       "      <td>16.000000</td>\n",
       "      <td>2.000000</td>\n",
       "      <td>12.000000</td>\n",
       "      <td>5.000000</td>\n",
       "      <td>2800.000000</td>\n",
       "      <td>8.500000</td>\n",
       "    </tr>\n",
       "    <tr>\n",
       "      <th>75%</th>\n",
       "      <td>686.000000</td>\n",
       "      <td>380.000000</td>\n",
       "      <td>170.000000</td>\n",
       "      <td>5.500000</td>\n",
       "      <td>430.000000</td>\n",
       "      <td>8.000000</td>\n",
       "      <td>1.875000</td>\n",
       "      <td>32.000000</td>\n",
       "      <td>3.000000</td>\n",
       "      <td>16.000000</td>\n",
       "      <td>6.550000</td>\n",
       "      <td>3240.000000</td>\n",
       "      <td>9.850000</td>\n",
       "    </tr>\n",
       "    <tr>\n",
       "      <th>max</th>\n",
       "      <td>1090.250000</td>\n",
       "      <td>9807.000000</td>\n",
       "      <td>753.000000</td>\n",
       "      <td>12.200000</td>\n",
       "      <td>806.000000</td>\n",
       "      <td>8.000000</td>\n",
       "      <td>2.700000</td>\n",
       "      <td>128.000000</td>\n",
       "      <td>6.000000</td>\n",
       "      <td>23.000000</td>\n",
       "      <td>20.000000</td>\n",
       "      <td>9500.000000</td>\n",
       "      <td>18.500000</td>\n",
       "    </tr>\n",
       "  </tbody>\n",
       "</table>\n",
       "</div>"
      ],
      "text/plain": [
       "             price         sale      weight  resoloution         ppi  \\\n",
       "count   151.000000   151.000000  151.000000   151.000000  151.000000   \n",
       "mean    550.889073   591.980132  167.556954     5.160927  334.516556   \n",
       "std     195.212038  1469.778874   83.062901     1.447040  135.430172   \n",
       "min     153.500000    10.000000   66.000000     1.400000  121.000000   \n",
       "25%     433.500000    37.000000  134.050000     4.800000  233.000000   \n",
       "50%     564.500000   109.000000  153.000000     5.150000  294.000000   \n",
       "75%     686.000000   380.000000  170.000000     5.500000  430.000000   \n",
       "max    1090.250000  9807.000000  753.000000    12.200000  806.000000   \n",
       "\n",
       "         cpu_core    cpu_freq  internal_mem         ram     rearcam  \\\n",
       "count  151.000000  151.000000    151.000000  151.000000  151.000000   \n",
       "mean     4.794702    1.501331     24.058119    2.175523   10.231126   \n",
       "std      2.463921    0.613407     28.381497    1.615576    6.236927   \n",
       "min      0.000000    0.000000      0.000000    0.000000    0.000000   \n",
       "25%      4.000000    1.200000      8.000000    1.000000    5.000000   \n",
       "50%      4.000000    1.400000     16.000000    2.000000   12.000000   \n",
       "75%      8.000000    1.875000     32.000000    3.000000   16.000000   \n",
       "max      8.000000    2.700000    128.000000    6.000000   23.000000   \n",
       "\n",
       "        front_cam      battery   thickness  \n",
       "count  151.000000   151.000000  151.000000  \n",
       "mean     4.415894  2809.668874    8.964901  \n",
       "std      4.326925  1293.732671    2.230492  \n",
       "min      0.000000   800.000000    5.100000  \n",
       "25%      0.000000  2020.000000    7.600000  \n",
       "50%      5.000000  2800.000000    8.500000  \n",
       "75%      6.550000  3240.000000    9.850000  \n",
       "max     20.000000  9500.000000   18.500000  "
      ]
     },
     "execution_count": 4,
     "metadata": {},
     "output_type": "execute_result"
    }
   ],
   "source": [
    "data.describe()"
   ]
  },
  {
   "cell_type": "markdown",
   "id": "63ae82d6",
   "metadata": {},
   "source": [
    "Pri oceni testnega modela vam je lahko v pomoč spodnja funkcija:"
   ]
  },
  {
   "cell_type": "code",
   "execution_count": 9,
   "id": "e05ea868",
   "metadata": {},
   "outputs": [],
   "source": [
    "from sklearn.metrics import mean_squared_error\n",
    "\n",
    "def get_scores(trained_model, X_train, X_test, y_train, y_test):\n",
    "    pred = trained_model.predict(X_test)\n",
    "    mse = np.sqrt(mean_squared_error(y_test, pred))\n",
    "    print(f'Mean error: {mse:3.3}€ ({mse/np.mean(pred)*100:3.3}%)')\n",
    "    print(f\"Training set score: {trained_model.score(X_train, y_train):.2f}\")\n",
    "    print(f\"Test set score: {trained_model.score(X_test, y_test):.2f}\")"
   ]
  },
  {
   "cell_type": "markdown",
   "id": "67295841",
   "metadata": {},
   "source": [
    "Cilj je ustvariti model, ki glede na značilke napove napove ceno telefona (cena je v €). Podatke skalirajte s `StandardScaler`."
   ]
  },
  {
   "cell_type": "code",
   "execution_count": 7,
   "id": "9dc7e5fc",
   "metadata": {},
   "outputs": [],
   "source": [
    "X = data.drop(columns=\"price\")\n",
    "y = data[\"price\"]"
   ]
  },
  {
   "cell_type": "markdown",
   "id": "6eed4c68",
   "metadata": {},
   "source": [
    "MLR z ridge regularizacijo"
   ]
  },
  {
   "cell_type": "code",
   "execution_count": 22,
   "id": "adc7378c",
   "metadata": {},
   "outputs": [
    {
     "name": "stdout",
     "output_type": "stream",
     "text": [
      "Mean error: 44.8€ (8.25%)\n",
      "Training set score: 0.96\n",
      "Test set score: 0.91\n"
     ]
    }
   ],
   "source": [
    "from sklearn.model_selection import train_test_split\n",
    "from sklearn.preprocessing import StandardScaler\n",
    "from sklearn.linear_model import Ridge\n",
    "\n",
    "# split dataset\n",
    "X_train, X_test, y_train, y_test = train_test_split(X, y, random_state=0)\n",
    "# iniclializiramo standard scaler\n",
    "scaler = StandardScaler()\n",
    "\n",
    "# fitamo samo train\n",
    "scaler.fit(X_train)\n",
    "\n",
    "# transformiramo train in test\n",
    "X_train_scaled = scaler.transform(X_train)\n",
    "X_test_scaled = scaler.transform(X_test)\n",
    "\n",
    "ridge = Ridge(alpha=1) # v tem primeru brez parametrov\n",
    "ridge.fit(X_train_scaled, y_train)\n",
    "\n",
    "# ko gledaš oceno moraš nad skaliranimi preverit\n",
    "get_scores(ridge, X_train_scaled, X_test_scaled, y_train, y_test)"
   ]
  },
  {
   "attachments": {},
   "cell_type": "markdown",
   "id": "3f8a78ed",
   "metadata": {},
   "source": [
    "Preveri še ostale modele in njihovo učinkovitos\n",
    "- Lasso + MLR\n",
    "- Features generation (non-linear)\n",
    "- k-nearest neighbours\n",
    "- SVM"
   ]
  }
 ],
 "metadata": {
  "kernelspec": {
   "display_name": ".venv",
   "language": "python",
   "name": "python3"
  },
  "language_info": {
   "codemirror_mode": {
    "name": "ipython",
    "version": 3
   },
   "file_extension": ".py",
   "mimetype": "text/x-python",
   "name": "python",
   "nbconvert_exporter": "python",
   "pygments_lexer": "ipython3",
   "version": "3.11.1"
  },
  "vscode": {
   "interpreter": {
    "hash": "fa22d641b846ad1a51e9fa43a97b4a160f6a3c3fc3abc162bbf7874c2905cea5"
   }
  }
 },
 "nbformat": 4,
 "nbformat_minor": 5
}
