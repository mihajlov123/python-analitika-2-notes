{
 "cells": [
  {
   "cell_type": "markdown",
   "id": "a8d8740b",
   "metadata": {},
   "source": [
    "# Accounting for seasonality"
   ]
  },
  {
   "cell_type": "code",
   "execution_count": null,
   "id": "4689100a",
   "metadata": {},
   "outputs": [],
   "source": [
    "import pandas as pd\n",
    "import numpy as np\n",
    "%matplotlib inline\n",
    "import matplotlib.pyplot as plt\n",
    "\n",
    "from sklearn.metrics import mean_squared_error, mean_absolute_error\n",
    "from statsmodels.graphics.tsaplots import plot_acf, plot_pacf\n",
    "from statsmodels.tsa.seasonal import seasonal_decompose, STL\n",
    "from statsmodels.stats.diagnostic import acorr_ljungbox\n",
    "from statsmodels.tsa.statespace.sarimax import SARIMAX\n",
    "from statsmodels.tsa.arima_process import ArmaProcess\n",
    "from statsmodels.graphics.gofplots import qqplot\n",
    "from statsmodels.tsa.stattools import adfuller\n",
    "from tqdm.notebook import tqdm\n",
    "from itertools import product\n",
    "from typing import Union"
   ]
  },
  {
   "attachments": {},
   "cell_type": "markdown",
   "id": "6c947c09",
   "metadata": {},
   "source": [
    "## Examining the SARIMA(p,d,q)(P,D,Q)m model\n",
    "- SARIMA = Seasonal ARIMA = Seasonal Autoregressive integrative moving average model"
   ]
  },
  {
   "attachments": {},
   "cell_type": "markdown",
   "id": "cd050922",
   "metadata": {},
   "source": [
    "**The parameter m stands for the frequency.**\n",
    "- spodaj tabela m parametrov (v SARIMA funkciji je označeno kot parameter s) glede na observacije in velikosti podatkov. Vrednost pove koliko naših vzorcev tvori periodo."
   ]
  },
  {
   "attachments": {},
   "cell_type": "markdown",
   "id": "12640545",
   "metadata": {},
   "source": [
    "                     Minute           Hour       Day       Week         Year\n",
    "    Monthly                                                              12 -> primer v nadaljevanju\n",
    "    Daily                                                    7           365\n",
    "    Hourly                                        24        168          8766\n",
    "    Every minute                       60        1440      10080        525960\n",
    "    Every second        60            3600       86400     604800       31557600"
   ]
  },
  {
   "cell_type": "code",
   "execution_count": null,
   "id": "e4fc234e",
   "metadata": {},
   "outputs": [],
   "source": [
    "df = pd.read_csv('data/air-passengers.csv')\n",
    "df.head()"
   ]
  },
  {
   "cell_type": "code",
   "execution_count": null,
   "id": "48874b62",
   "metadata": {},
   "outputs": [],
   "source": [
    "fig, ax = plt.subplots()\n",
    "\n",
    "ax.plot(df['Month'], df['Passengers'])\n",
    "ax.set_xlabel('Date')\n",
    "ax.set_ylabel('Number of air passengers')\n",
    "\n",
    "# podatki so beleženi vsak mesec -> m=12\n",
    "plt.xticks(np.arange(0, 145, 12), np.arange(1949, 1962, 1))\n",
    "\n",
    "fig.autofmt_xdate()\n",
    "plt.tight_layout()"
   ]
  },
  {
   "cell_type": "code",
   "execution_count": null,
   "id": "37341c94",
   "metadata": {},
   "outputs": [],
   "source": [
    "fig, ax = plt.subplots()\n",
    "\n",
    "ax.plot(df['Month'], df['Passengers'], markevery=np.arange(6, 145, 12), marker='o')\n",
    "ax.set_xlabel('Date')\n",
    "ax.set_ylabel('Number of air passengers')\n",
    "\n",
    "plt.xticks(np.arange(0, 145, 12), np.arange(1949, 1962, 1))\n",
    "\n",
    "fig.autofmt_xdate()\n",
    "plt.tight_layout()"
   ]
  },
  {
   "cell_type": "markdown",
   "id": "cb913bfe",
   "metadata": {},
   "source": [
    "## Identifying seasonal patterns in a time series"
   ]
  },
  {
   "cell_type": "markdown",
   "id": "8967f7d7",
   "metadata": {},
   "source": [
    "**Usually, plotting the time series data is enough to observe periodic patterns.**"
   ]
  },
  {
   "cell_type": "code",
   "execution_count": null,
   "id": "03be73cf",
   "metadata": {},
   "outputs": [],
   "source": [
    "fig, ax = plt.subplots()\n",
    "\n",
    "ax.plot(df['Month'], df['Passengers'])\n",
    "for i in np.arange(0, 145, 12):\n",
    "    ax.axvline(x=i, linestyle='--', color='black', linewidth=1)\n",
    "ax.set_xlabel('Date')\n",
    "ax.set_ylabel('Number of air passengers')\n",
    "\n",
    "plt.xticks(np.arange(0, 145, 12), np.arange(1949, 1962, 1))\n",
    "\n",
    "fig.autofmt_xdate()\n",
    "plt.tight_layout()"
   ]
  },
  {
   "attachments": {},
   "cell_type": "markdown",
   "id": "8f55deef",
   "metadata": {},
   "source": [
    "**Time series decomposition (dekompozicija časovne vrste) is\n",
    "a statistical task that separates the time series into its three main components: a trend\n",
    "component, a seasonal component, and the residuals.**"
   ]
  },
  {
   "cell_type": "markdown",
   "id": "d213bf68",
   "metadata": {},
   "source": [
    "- **The trend component** represents the long-term change in the time series. This\n",
    "component is responsible for time series that increase or decrease over time.\n",
    "- **The seasonal component** is, of course, the seasonal pattern in the time series. It represents\n",
    "repeated fluctuations that occur over a fixed period of time.\n",
    "- **The residuals**, or the noise, express any irregularity that cannot be explained by the trend or the seasonal\n",
    "component."
   ]
  },
  {
   "cell_type": "code",
   "execution_count": null,
   "id": "e055cf63",
   "metadata": {},
   "outputs": [],
   "source": [
    "decomposition = STL(df['Passengers'], period=12).fit() # STL => funkcija iz statsmodel\n",
    "\n",
    "fig, (ax1, ax2, ax3, ax4) = plt.subplots(nrows=4, ncols=1, sharex=True, figsize=(10,8))\n",
    "\n",
    "ax1.plot(decomposition.observed)\n",
    "ax1.set_ylabel('Observed')\n",
    "\n",
    "ax2.plot(decomposition.trend)\n",
    "ax2.set_ylabel('Trend')\n",
    "\n",
    "ax3.plot(decomposition.seasonal)\n",
    "ax3.set_ylabel('Seasonal')\n",
    "\n",
    "ax4.plot(decomposition.resid)\n",
    "ax4.set_ylabel('Residuals')\n",
    "\n",
    "plt.xticks(np.arange(0, 145, 12), np.arange(1949, 1962, 1))\n",
    "\n",
    "fig.autofmt_xdate()\n",
    "plt.tight_layout()\n",
    "\n",
    "# če podatki ne bi vsebovali sezonskosti - bi Seasonal line graf bil raven"
   ]
  },
  {
   "cell_type": "markdown",
   "id": "5580f62c",
   "metadata": {},
   "source": [
    "## Forecasting the number of monthly air passengers"
   ]
  },
  {
   "attachments": {},
   "cell_type": "markdown",
   "id": "55fa1e15",
   "metadata": {},
   "source": [
    "Novo - poleg parametra d imamo tudi parameter D (sezonski)"
   ]
  },
  {
   "cell_type": "markdown",
   "id": "f9530569",
   "metadata": {},
   "source": [
    "<img src=\"images/tsf_08.png\">"
   ]
  },
  {
   "attachments": {},
   "cell_type": "markdown",
   "id": "d54be910",
   "metadata": {},
   "source": [
    "### Forecasting with an ARIMA(p,d,q) model\n",
    "- poglejmo kako tipično sezonske podatke napove ARIMA model"
   ]
  },
  {
   "cell_type": "code",
   "execution_count": null,
   "id": "b8d2e42b",
   "metadata": {},
   "outputs": [],
   "source": [
    "ad_fuller_result = adfuller(df['Passengers'])\n",
    "\n",
    "print(f'ADF Statistic: {ad_fuller_result[0]}')\n",
    "print(f'p-value: {ad_fuller_result[1]}')"
   ]
  },
  {
   "cell_type": "code",
   "execution_count": null,
   "id": "e3a877ba",
   "metadata": {},
   "outputs": [],
   "source": [
    "df_diff = np.diff(df['Passengers'], n=1)\n",
    "\n",
    "ad_fuller_result = adfuller(df_diff)\n",
    "\n",
    "print(f'ADF Statistic: {ad_fuller_result[0]}')\n",
    "print(f'p-value: {ad_fuller_result[1]}')"
   ]
  },
  {
   "cell_type": "code",
   "execution_count": null,
   "id": "0db04eec",
   "metadata": {},
   "outputs": [],
   "source": [
    "df_diff_seasonal_diff = np.diff(df_diff, n=12)\n",
    "\n",
    "ad_fuller_result = adfuller(df_diff_seasonal_diff)\n",
    "\n",
    "print(f'ADF Statistic: {ad_fuller_result[0]}')\n",
    "print(f'p-value: {ad_fuller_result[1]}')"
   ]
  },
  {
   "cell_type": "code",
   "execution_count": null,
   "id": "8ac18a07",
   "metadata": {},
   "outputs": [],
   "source": [
    "fig, ax = plt.subplots()\n",
    "\n",
    "ax.plot(df['Month'], df['Passengers'])\n",
    "ax.set_xlabel('Date')\n",
    "ax.set_ylabel('Number of air passengers)')\n",
    "ax.axvspan(132, 143, color='#808080', alpha=0.2)\n",
    "\n",
    "plt.xticks(np.arange(0, 145, 12), np.arange(1949, 1962, 1))\n",
    "\n",
    "fig.autofmt_xdate()\n",
    "plt.tight_layout()"
   ]
  },
  {
   "cell_type": "code",
   "execution_count": null,
   "id": "de687ee1",
   "metadata": {},
   "outputs": [],
   "source": [
    "def optimize_SARIMA(endog: Union[pd.Series, list], order_list: list, d: int, D: int, s: int) -> pd.DataFrame:\n",
    "    \n",
    "    results = []\n",
    "    \n",
    "    for order in tqdm(order_list):\n",
    "        try: \n",
    "            model = SARIMAX(\n",
    "                endog, \n",
    "                order=(order[0], d, order[1]),\n",
    "                seasonal_order=(order[2], D, order[3], s),\n",
    "                simple_differencing=False).fit(disp=False)\n",
    "        except:\n",
    "            continue\n",
    "            \n",
    "        aic = model.aic\n",
    "        results.append([order, aic])\n",
    "        \n",
    "    result_df = pd.DataFrame(results)\n",
    "    result_df.columns = ['(p,q,P,Q)', 'AIC']\n",
    "    \n",
    "    #Sort in ascending order, lower AIC is better\n",
    "    result_df = result_df.sort_values(by='AIC', ascending=True).reset_index(drop=True)\n",
    "    \n",
    "    return result_df"
   ]
  },
  {
   "cell_type": "code",
   "execution_count": null,
   "id": "452538c1",
   "metadata": {},
   "outputs": [],
   "source": [
    "import warnings\n",
    "warnings.filterwarnings('ignore')\n",
    "\n",
    "ps = range(0, 13, 1)\n",
    "qs = range(0, 13, 1)\n",
    "Ps = [0] # postavimo na 0, testiramo samo ARIMA model\n",
    "Qs = [0] # postavimo na 0, testiramo samo ARIMA model\n",
    "\n",
    "d = 2\n",
    "D = 0\n",
    "s = 12\n",
    "\n",
    "ARIMA_order_list = list(product(ps, qs, Ps, Qs))\n",
    "\n",
    "train = df['Passengers'][:-12]\n",
    "\n",
    "ARIMA_result_df = optimize_SARIMA(train, ARIMA_order_list, d, D, s)\n",
    "ARIMA_result_df"
   ]
  },
  {
   "attachments": {},
   "cell_type": "markdown",
   "id": "8bd5763e",
   "metadata": {},
   "source": [
    "Glede na zgornje rezultate: ARIMA(11,2,3)"
   ]
  },
  {
   "cell_type": "code",
   "execution_count": null,
   "id": "28125ffd",
   "metadata": {},
   "outputs": [],
   "source": [
    "ARIMA_model = SARIMAX(train, order=(11,2,3), simple_differencing=False)\n",
    "ARIMA_model_fit = ARIMA_model.fit(disp=False)\n",
    "ARIMA_model_fit.plot_diagnostics(figsize=(10,8));"
   ]
  },
  {
   "cell_type": "code",
   "execution_count": null,
   "id": "6f7df3d6",
   "metadata": {},
   "outputs": [],
   "source": [
    "from statsmodels.stats.diagnostic import acorr_ljungbox\n",
    "\n",
    "residuals = ARIMA_model_fit.resid\n",
    "res = acorr_ljungbox(residuals, np.arange(1, 11, 1))\n",
    "print(list(res[\"lb_pvalue\"]))"
   ]
  },
  {
   "cell_type": "code",
   "execution_count": null,
   "id": "ef2bbeb2",
   "metadata": {},
   "outputs": [],
   "source": [
    "test = df.iloc[-12:]\n",
    "\n",
    "test['naive_seasonal'] = df['Passengers'].iloc[120:132].values\n",
    "test"
   ]
  },
  {
   "cell_type": "code",
   "execution_count": null,
   "id": "c5e2fbbb",
   "metadata": {},
   "outputs": [],
   "source": [
    "ARIMA_pred = ARIMA_model_fit.get_prediction(132, 143).predicted_mean\n",
    "test['ARIMA_pred'] = ARIMA_pred"
   ]
  },
  {
   "attachments": {},
   "cell_type": "markdown",
   "id": "9d7867f3",
   "metadata": {},
   "source": [
    "- dobljeni rezultat bomo v nadaljevanju primerjali s predikcijo SARIMA modela."
   ]
  },
  {
   "cell_type": "markdown",
   "id": "a7778913",
   "metadata": {},
   "source": [
    "### Forecasting with a SARIMA(p,d,q)(P,D,Q)m model"
   ]
  },
  {
   "cell_type": "code",
   "execution_count": null,
   "id": "dc1f982b",
   "metadata": {},
   "outputs": [],
   "source": [
    "ad_fuller_result = adfuller(df['Passengers'])\n",
    "print(f'ADF Statistic: {ad_fuller_result[0]}')\n",
    "print(f'p-value: {ad_fuller_result[1]}')"
   ]
  },
  {
   "cell_type": "code",
   "execution_count": null,
   "id": "6bee4837",
   "metadata": {},
   "outputs": [],
   "source": [
    "df_diff = np.diff(df['Passengers'], n=1)\n",
    "ad_fuller_result = adfuller(df_diff)\n",
    "print(f'ADF Statistic: {ad_fuller_result[0]}')\n",
    "print(f'p-value: {ad_fuller_result[1]}')\n",
    "\n",
    "# podatki še vedno niso stacionarni"
   ]
  },
  {
   "attachments": {},
   "cell_type": "markdown",
   "id": "d94d6b14",
   "metadata": {},
   "source": [
    "V tem primeru uporabimo sezonski diferencial -> stopnja diferenciala je enaka parametru sezonskosti"
   ]
  },
  {
   "cell_type": "code",
   "execution_count": null,
   "id": "9fb13c1f",
   "metadata": {},
   "outputs": [],
   "source": [
    "df_diff_seasonal_diff = np.diff(df_diff, n=12) # SEZONSKI DIFERENCIAL\n",
    "\n",
    "ad_fuller_result = adfuller(df_diff_seasonal_diff)\n",
    "print(f'ADF Statistic: {ad_fuller_result[0]}')\n",
    "print(f'p-value: {ad_fuller_result[1]}')"
   ]
  },
  {
   "attachments": {},
   "cell_type": "markdown",
   "id": "22b9e505",
   "metadata": {},
   "source": [
    "- m = 12... sezonskost, perioda (glej tabelo zgoraj)\n",
    "- d = 1 ... navaden diff ... df_diff = np.diff(df['Passengers'], n=1)\n",
    "- D = 1 ...sezonski diff ... df_diff_seasonal_diff = np.diff(df_diff, n=12)"
   ]
  },
  {
   "cell_type": "code",
   "execution_count": null,
   "id": "db3a4fe0",
   "metadata": {},
   "outputs": [],
   "source": [
    "ps = range(0, 4, 1)\n",
    "qs = range(0, 4, 1)\n",
    "Ps = range(0, 4, 1)\n",
    "Qs = range(0, 4, 1)\n",
    "\n",
    "SARIMA_order_list = list(product(ps, qs, Ps, Qs))\n",
    "\n",
    "train = df['Passengers'][:-12]\n",
    "\n",
    "d = 1\n",
    "D = 1\n",
    "s = 12\n",
    "\n",
    "SARIMA_result_df = optimize_SARIMA(train, SARIMA_order_list, d, D, s)\n",
    "SARIMA_result_df"
   ]
  },
  {
   "cell_type": "code",
   "execution_count": null,
   "id": "1467ae83",
   "metadata": {},
   "outputs": [],
   "source": [
    "SARIMA_model = SARIMAX(train, order=(2,1,1), seasonal_order=(1,1,2,12), simple_differencing=False) # (p,d,q)  (P,D,Q,s=m)\n",
    "SARIMA_model_fit = SARIMA_model.fit(disp=False)\n",
    "SARIMA_model_fit.plot_diagnostics(figsize=(10,8));"
   ]
  },
  {
   "cell_type": "code",
   "execution_count": null,
   "id": "d6b931bb",
   "metadata": {},
   "outputs": [],
   "source": [
    "from statsmodels.stats.diagnostic import acorr_ljungbox\n",
    "residuals = SARIMA_model_fit.resid\n",
    "res = acorr_ljungbox(residuals, np.arange(1, 11, 1))\n",
    "print(list(res[\"lb_pvalue\"]))"
   ]
  },
  {
   "cell_type": "code",
   "execution_count": null,
   "id": "f64bd168",
   "metadata": {},
   "outputs": [],
   "source": [
    "SARIMA_pred = SARIMA_model_fit.get_prediction(132, 143).predicted_mean\n",
    "\n",
    "test['SARIMA_pred'] = SARIMA_pred\n",
    "test"
   ]
  },
  {
   "cell_type": "code",
   "execution_count": null,
   "id": "71a630a2",
   "metadata": {},
   "outputs": [],
   "source": [
    "fig, ax = plt.subplots()\n",
    "\n",
    "ax.plot(df['Month'], df['Passengers'])\n",
    "ax.plot(test['Passengers'], 'b-', label='actual')\n",
    "ax.plot(test['naive_seasonal'], 'r:', label='naive seasonal')\n",
    "ax.plot(test['ARIMA_pred'], 'k--', label='ARIMA(11,2,3)')\n",
    "ax.plot(test['SARIMA_pred'], 'g-.', label='SARIMA(2,1,1)(1,1,2,12)')\n",
    "\n",
    "ax.set_xlabel('Date')\n",
    "ax.set_ylabel('Number of air passengers')\n",
    "ax.axvspan(132, 143, color='#808080', alpha=0.2)\n",
    "\n",
    "ax.legend(loc=2)\n",
    "\n",
    "plt.xticks(np.arange(0, 145, 12), np.arange(1949, 1962, 1))\n",
    "ax.set_xlim(120, 143)\n",
    "\n",
    "fig.autofmt_xdate()\n",
    "plt.tight_layout()"
   ]
  },
  {
   "cell_type": "code",
   "execution_count": null,
   "id": "7d48ac21",
   "metadata": {},
   "outputs": [],
   "source": [
    "def mape(y_true, y_pred):\n",
    "    return np.mean(np.abs((y_true - y_pred) / y_true)) * 100"
   ]
  },
  {
   "cell_type": "code",
   "execution_count": null,
   "id": "7a97dbfd",
   "metadata": {},
   "outputs": [],
   "source": [
    "mape_naive_seasonal = mape(test['Passengers'], test['naive_seasonal'])\n",
    "mape_ARIMA = mape(test['Passengers'], test['ARIMA_pred'])\n",
    "mape_SARIMA = mape(test['Passengers'], test['SARIMA_pred'])\n",
    "\n",
    "print(mape_naive_seasonal, mape_ARIMA, mape_SARIMA)"
   ]
  },
  {
   "cell_type": "code",
   "execution_count": null,
   "id": "907e5568",
   "metadata": {},
   "outputs": [],
   "source": [
    "fig, ax = plt.subplots()\n",
    "\n",
    "x = ['naive seasonal', 'ARIMA(11,2,3)', 'SARIMA(2,1,1)(1,1,2,12)']\n",
    "y = [mape_naive_seasonal, mape_ARIMA, mape_SARIMA]\n",
    "\n",
    "ax.bar(x, y, width=0.4)\n",
    "ax.set_xlabel('Models')\n",
    "ax.set_ylabel('MAPE (%)')\n",
    "ax.set_ylim(0, 15)\n",
    "\n",
    "for index, value in enumerate(y):\n",
    "    plt.text(x=index, y=value + 1, s=str(round(value,2)), ha='center')\n",
    "\n",
    "plt.tight_layout()"
   ]
  },
  {
   "cell_type": "markdown",
   "id": "4d4deb52",
   "metadata": {},
   "source": [
    "## Summary\n",
    "\n",
    "- The seasonal autoregressive integrated moving average model, denoted as\n",
    "SARIMA(p,d,q)(P,D,Q)m, adds seasonal properties to the ARIMA(p,d,q) model.\n",
    "- P is the order of the seasonal autoregressive process, D is the order of seasonal\n",
    "integration, Q is the order of the seasonal moving average process, and m is the\n",
    "frequency of the data.\n",
    "- The frequency m corresponds to the number of observations in a cycle. If the\n",
    "data is collected every month, then m = 12. If data is collected every quarter,\n",
    "then m = 4.\n",
    "- Time series decomposition can be used to identify seasonal patterns in a time\n",
    "series."
   ]
  }
 ],
 "metadata": {
  "kernelspec": {
   "display_name": ".venv",
   "language": "python",
   "name": "python3"
  },
  "language_info": {
   "codemirror_mode": {
    "name": "ipython",
    "version": 3
   },
   "file_extension": ".py",
   "mimetype": "text/x-python",
   "name": "python",
   "nbconvert_exporter": "python",
   "pygments_lexer": "ipython3",
   "version": "3.11.1"
  },
  "vscode": {
   "interpreter": {
    "hash": "fa22d641b846ad1a51e9fa43a97b4a160f6a3c3fc3abc162bbf7874c2905cea5"
   }
  }
 },
 "nbformat": 4,
 "nbformat_minor": 5
}
