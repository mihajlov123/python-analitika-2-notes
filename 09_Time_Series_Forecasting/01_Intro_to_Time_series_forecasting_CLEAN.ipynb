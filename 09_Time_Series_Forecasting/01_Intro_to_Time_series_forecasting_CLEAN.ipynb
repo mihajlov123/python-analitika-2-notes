{
 "cells": [
  {
   "cell_type": "markdown",
   "id": "e0b0cbc8",
   "metadata": {},
   "source": [
    "# Intro to Time series forecasting"
   ]
  },
  {
   "cell_type": "markdown",
   "id": "147de2ae",
   "metadata": {},
   "source": [
    "Time series forecasting is the task of **predicting future values based on historical data**."
   ]
  },
  {
   "cell_type": "markdown",
   "id": "5637cea7",
   "metadata": {},
   "source": [
    "Examples across industries include forecasting of:\n",
    "- weather, \n",
    "- sales numbers and \n",
    "- stock prices. \n",
    "- More recently, it has been applied to predicting price trends for cryptocurrencies such as Bitcoin and Ethereum. "
   ]
  },
  {
   "cell_type": "markdown",
   "id": "954886d0",
   "metadata": {},
   "source": [
    "## Some definitions"
   ]
  },
  {
   "cell_type": "markdown",
   "id": "2b1815b0",
   "metadata": {},
   "source": [
    "**Time series**"
   ]
  },
  {
   "cell_type": "markdown",
   "id": "33389bea",
   "metadata": {},
   "source": [
    "**Time series analysis**"
   ]
  },
  {
   "cell_type": "markdown",
   "id": "3440a2ed",
   "metadata": {},
   "source": [
    "**Time series forecasting**"
   ]
  },
  {
   "cell_type": "markdown",
   "id": "76244c0b",
   "metadata": {},
   "source": [
    "## Time Seriesdata characteristics to consider"
   ]
  },
  {
   "cell_type": "markdown",
   "id": "967c4603",
   "metadata": {},
   "source": [
    "- **Trends**: Trends are defined as measurable increases and decreases over time.\n",
    "- **Seasonality**: Seasonality is defined as periodic fluctuations, such as holiday rushes that might affect sales, for example.\n",
    "- **Outliers**: Outliers are far away from the standard data variance.\n",
    "- **Long-run cycle**: Independent of seasonality, data might display a long-run cycle such as an economic down-turn that lasts longer than a year.\n",
    "- **Constant variance**: Over time, some data display constant fluctuations, such as energy usage per day and night.\n",
    "- **Abrupt changes**: The data might display an abrupt change that might need further analysis. The abrupt shuttering of businesses due to COVID, for example, caused changes in data."
   ]
  },
  {
   "cell_type": "markdown",
   "id": "ce72136a",
   "metadata": {},
   "source": [
    "## Models"
   ]
  },
  {
   "cell_type": "markdown",
   "id": "cc17a1fd",
   "metadata": {},
   "source": [
    "**Autoregressive Moving Average (ARMA)**"
   ]
  },
  {
   "cell_type": "markdown",
   "id": "449ab63f",
   "metadata": {},
   "source": [
    "**Autoregressive Integrated Moving Average (ARIMA)** "
   ]
  },
  {
   "cell_type": "markdown",
   "id": "b24f08bf",
   "metadata": {},
   "source": [
    "**seasonal ARIMA (SARIMA)** "
   ]
  },
  {
   "cell_type": "markdown",
   "id": "de31cac8",
   "metadata": {},
   "source": [
    "## Python Packages for Time Series Forecasting"
   ]
  },
  {
   "cell_type": "markdown",
   "id": "d7d07a59",
   "metadata": {},
   "source": [
    "### statsmodels"
   ]
  },
  {
   "cell_type": "markdown",
   "id": "10c5c6d3",
   "metadata": {},
   "source": [
    "StatsForecast is a Python package that provides a collection of univariate time-series Forecasting models. What is unique about StatsForecast is the model provides fast training and is optimized for high-accuracy models. Also, the package offers several benchmarks we could use when training various models."
   ]
  },
  {
   "cell_type": "markdown",
   "id": "f5b1083e",
   "metadata": {},
   "source": [
    "statsmodels is a Python module that provides classes and functions for the estimation of many different statistical models, as well as for conducting statistical tests, and statistical data exploration. An extensive list of result statistics are available for each estimator."
   ]
  },
  {
   "cell_type": "markdown",
   "id": "7d8ac472",
   "metadata": {},
   "source": [
    "Docs: https://www.statsmodels.org/stable/index.html"
   ]
  },
  {
   "cell_type": "markdown",
   "id": "9ecd8909",
   "metadata": {},
   "source": [
    "Install: `pip install statsmodels`"
   ]
  },
  {
   "cell_type": "markdown",
   "id": "7bbfe280",
   "metadata": {},
   "source": [
    "User Guide: https://www.statsmodels.org/stable/user-guide.html"
   ]
  },
  {
   "cell_type": "markdown",
   "id": "2c226cb2",
   "metadata": {},
   "source": [
    "### StatsForecast"
   ]
  },
  {
   "cell_type": "markdown",
   "id": "70c5f08a",
   "metadata": {},
   "source": [
    "StatsForecast offers a collection of popular univariate time series forecasting models optimized for high performance and scalability."
   ]
  },
  {
   "cell_type": "markdown",
   "id": "98b81fa8",
   "metadata": {},
   "source": [
    "Docs: https://nixtla.github.io/statsforecast/"
   ]
  },
  {
   "cell_type": "markdown",
   "id": "e98c0897",
   "metadata": {},
   "source": [
    "Install: `pip install statsforecast`"
   ]
  },
  {
   "cell_type": "markdown",
   "id": "eb953179",
   "metadata": {},
   "source": [
    "### PyAF"
   ]
  },
  {
   "cell_type": "markdown",
   "id": "5b14a6bc",
   "metadata": {},
   "source": [
    "PyAF or Python Automatic Forecasting is an open-source Python package to automatically develop time-series forecasting models (either univariate or with exogenous data). The model was built on top of Scikit-Learn and Pandas, so expect familiar APIs. The package also offers various models to use in a few lines as much as possible."
   ]
  },
  {
   "cell_type": "markdown",
   "id": "27dc858f",
   "metadata": {},
   "source": [
    "https://github.com/antoinecarme/pyaf"
   ]
  },
  {
   "cell_type": "markdown",
   "id": "7967819a",
   "metadata": {},
   "source": [
    "### NeuralProphet"
   ]
  },
  {
   "cell_type": "markdown",
   "id": "07d12a11",
   "metadata": {},
   "source": [
    "NeuralProphet is a Python Package for developing a time-series model based on Facebook Prophet but with Neural Network architecture. The package is based on PyTorch and could easily be used with as few lines as possible."
   ]
  },
  {
   "cell_type": "markdown",
   "id": "9839e6d7",
   "metadata": {},
   "source": [
    "Web: https://neuralprophet.com/"
   ]
  },
  {
   "cell_type": "markdown",
   "id": "79803f07",
   "metadata": {},
   "source": [
    "Docs: https://neuralprophet.com/contents.html"
   ]
  },
  {
   "cell_type": "markdown",
   "id": "1bc7a9e1",
   "metadata": {},
   "source": [
    "### tsfresh"
   ]
  },
  {
   "cell_type": "markdown",
   "id": "c8b97b02",
   "metadata": {},
   "source": [
    "Itsfresh is used for systematic feature engineering from time-series and other sequential data. These data have in common that they are ordered by an independent variable. The most common independent variable is time (time series)."
   ]
  },
  {
   "cell_type": "markdown",
   "id": "4ecd1b7e",
   "metadata": {},
   "source": [
    "Install: `pip install tsfresh`"
   ]
  },
  {
   "cell_type": "markdown",
   "id": "db8e1768",
   "metadata": {},
   "source": [
    "Docs: https://tsfresh.readthedocs.io/en/latest/text/introduction.html"
   ]
  }
 ],
 "metadata": {
  "kernelspec": {
   "display_name": ".venv",
   "language": "python",
   "name": "python3"
  },
  "language_info": {
   "codemirror_mode": {
    "name": "ipython",
    "version": 3
   },
   "file_extension": ".py",
   "mimetype": "text/x-python",
   "name": "python",
   "nbconvert_exporter": "python",
   "pygments_lexer": "ipython3",
   "version": "3.11.1"
  },
  "vscode": {
   "interpreter": {
    "hash": "fa22d641b846ad1a51e9fa43a97b4a160f6a3c3fc3abc162bbf7874c2905cea5"
   }
  }
 },
 "nbformat": 4,
 "nbformat_minor": 5
}
