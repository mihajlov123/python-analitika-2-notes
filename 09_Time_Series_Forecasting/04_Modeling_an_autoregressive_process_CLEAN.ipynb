{
 "cells": [
  {
   "cell_type": "markdown",
   "id": "89a7a743",
   "metadata": {},
   "source": [
    "# Modeling an autoregressive process"
   ]
  },
  {
   "cell_type": "code",
   "execution_count": null,
   "id": "aacba781",
   "metadata": {},
   "outputs": [],
   "source": [
    "import pandas as pd\n",
    "import numpy as np\n",
    "%matplotlib inline\n",
    "import matplotlib.pyplot as plt"
   ]
  },
  {
   "cell_type": "markdown",
   "id": "51b1df38",
   "metadata": {},
   "source": [
    "## Predicting the average weekly foot traffic in a retail store"
   ]
  },
  {
   "cell_type": "code",
   "execution_count": null,
   "id": "929e4e03",
   "metadata": {},
   "outputs": [],
   "source": [
    "df = pd.read_csv('data/foot_traffic.csv')"
   ]
  },
  {
   "cell_type": "code",
   "execution_count": null,
   "id": "5aa4447b",
   "metadata": {},
   "outputs": [],
   "source": [
    "df.head()"
   ]
  },
  {
   "cell_type": "code",
   "execution_count": null,
   "id": "3b4fe1e1",
   "metadata": {},
   "outputs": [],
   "source": [
    "fig, ax = plt.subplots()\n",
    "\n",
    "ax.plot(df['foot_traffic'])\n",
    "ax.set_xlabel('Time')\n",
    "ax.set_ylabel('Average weekly foot traffic')\n",
    "\n",
    "plt.xticks(np.arange(0, 1000, 104), np.arange(2000, 2020, 2))\n",
    "\n",
    "fig.autofmt_xdate()\n",
    "plt.tight_layout()"
   ]
  },
  {
   "cell_type": "markdown",
   "id": "a45768d9",
   "metadata": {},
   "source": [
    "## Defining the autoregressive process"
   ]
  },
  {
   "cell_type": "markdown",
   "id": "5b296568",
   "metadata": {},
   "source": [
    "**An autoregressive process establishes that the output variable depends linearly on its\n",
    "own previous values. In other words, it is a regression of the variable against itself.**"
   ]
  },
  {
   "cell_type": "markdown",
   "id": "b4375778",
   "metadata": {},
   "source": [
    "An autoregressive process is denoted as an `AR(p)` process, where `p` is the order."
   ]
  },
  {
   "cell_type": "markdown",
   "id": "727779e3",
   "metadata": {},
   "source": [
    "<img src=\"images/tsf_04.png\">"
   ]
  },
  {
   "cell_type": "code",
   "execution_count": null,
   "id": "57720c8e",
   "metadata": {},
   "outputs": [],
   "source": [
    "from statsmodels.tsa.stattools import adfuller\n",
    "\n",
    "ADF_result = adfuller(df['foot_traffic'])\n",
    "\n",
    "print(f'ADF Statistic: {ADF_result[0]}')\n",
    "print(f'p-value: {ADF_result[1]}')"
   ]
  },
  {
   "cell_type": "code",
   "execution_count": null,
   "id": "d444e3c7",
   "metadata": {},
   "outputs": [],
   "source": [
    "foot_traffic_diff = np.diff(df['foot_traffic'], n=1)"
   ]
  },
  {
   "cell_type": "code",
   "execution_count": null,
   "id": "f7e048bb",
   "metadata": {},
   "outputs": [],
   "source": [
    "fig, ax = plt.subplots()\n",
    "\n",
    "ax.plot(foot_traffic_diff)\n",
    "ax.set_xlabel('Time')\n",
    "ax.set_ylabel('Average weekly foot traffic (differenced)')\n",
    "\n",
    "plt.xticks(np.arange(0, 1000, 104), np.arange(2000, 2020, 2))\n",
    "\n",
    "fig.autofmt_xdate()\n",
    "plt.tight_layout()"
   ]
  },
  {
   "cell_type": "code",
   "execution_count": null,
   "id": "450fe323",
   "metadata": {},
   "outputs": [],
   "source": [
    "ADF_result = adfuller(foot_traffic_diff)\n",
    "\n",
    "print(f'ADF Statistic: {ADF_result[0]}')\n",
    "print(f'p-value: {ADF_result[1]}')"
   ]
  },
  {
   "cell_type": "code",
   "execution_count": null,
   "id": "5a4f7504",
   "metadata": {},
   "outputs": [],
   "source": [
    "from statsmodels.graphics.tsaplots import plot_acf, plot_pacf\n",
    "\n",
    "plot_acf(foot_traffic_diff, lags=20);\n",
    "plt.tight_layout()"
   ]
  },
  {
   "cell_type": "markdown",
   "id": "3a71a0ca",
   "metadata": {},
   "source": [
    "## The partial autocorrelation function (PACF)"
   ]
  },
  {
   "cell_type": "markdown",
   "id": "a9a2efc2",
   "metadata": {},
   "source": [
    "**Partial autocorrelation measures the correlation between lagged values in a time\n",
    "series when we remove the influence of correlated lagged values in between.** We can\n",
    "plot the partial autocorrelation function to determine the order of a stationary AR(p)\n",
    "process. The coefficients will be non-significant after lag p."
   ]
  },
  {
   "cell_type": "code",
   "execution_count": null,
   "id": "d2926595",
   "metadata": {},
   "outputs": [],
   "source": [
    "plot_pacf(foot_traffic_diff, lags=20, method='ywm');\n",
    "plt.tight_layout()"
   ]
  },
  {
   "cell_type": "markdown",
   "id": "2a858ef8",
   "metadata": {},
   "source": [
    "## Forecasting an autoregressive process"
   ]
  },
  {
   "cell_type": "code",
   "execution_count": null,
   "id": "033f43df",
   "metadata": {},
   "outputs": [],
   "source": [
    "df_diff = pd.DataFrame({'foot_traffic_diff': foot_traffic_diff})\n",
    "\n",
    "train = df_diff[:-52]\n",
    "test = df_diff[-52:]\n",
    "\n",
    "print(len(train))\n",
    "print(len(test))"
   ]
  },
  {
   "cell_type": "code",
   "execution_count": null,
   "id": "72004cab",
   "metadata": {},
   "outputs": [],
   "source": [
    "fig, (ax1, ax2) = plt.subplots(nrows=2, ncols=1, sharex=True, figsize=(8, 6))\n",
    "\n",
    "ax1.plot(df['foot_traffic'])\n",
    "ax1.set_xlabel('Time')\n",
    "ax1.set_ylabel('Avg. weekly foot traffic')\n",
    "ax1.axvspan(948, 1000, color='#808080', alpha=0.2)\n",
    "\n",
    "ax2.plot(df_diff['foot_traffic_diff'])\n",
    "ax2.set_xlabel('Time')\n",
    "ax2.set_ylabel('Diff. avg. weekly foot traffic')\n",
    "ax2.axvspan(947, 999, color='#808080', alpha=0.2)\n",
    "\n",
    "plt.xticks(np.arange(0, 1000, 104), np.arange(2000, 2020, 2))\n",
    "\n",
    "fig.autofmt_xdate()\n",
    "plt.tight_layout()"
   ]
  },
  {
   "cell_type": "code",
   "execution_count": null,
   "id": "19b508a7",
   "metadata": {},
   "outputs": [],
   "source": [
    "from statsmodels.tsa.statespace.sarimax import SARIMAX\n",
    "\n",
    "def rolling_forecast(df: pd.DataFrame, train_len: int, horizon: int, window: int, method: str) -> list:\n",
    "    \n",
    "    total_len = train_len + horizon\n",
    "    end_idx = train_len\n",
    "    \n",
    "    if method == 'mean':\n",
    "        pred_mean = []\n",
    "        \n",
    "        for i in range(train_len, total_len, window):\n",
    "            mean = np.mean(df[:i].values)\n",
    "            pred_mean.extend(mean for _ in range(window))\n",
    "            \n",
    "        return pred_mean\n",
    "\n",
    "    elif method == 'last':\n",
    "        pred_last_value = []\n",
    "        \n",
    "        for i in range(train_len, total_len, window):\n",
    "            last_value = df[:i].iloc[-1].values[0]\n",
    "            pred_last_value.extend(last_value for _ in range(window))\n",
    "            \n",
    "        return pred_last_value\n",
    "    \n",
    "    elif method == 'AR':\n",
    "        pred_AR = []\n",
    "        \n",
    "        for i in range(train_len, total_len, window):\n",
    "            model = SARIMAX(df[:i], order=(3,0,0))\n",
    "            res = model.fit(disp=False)\n",
    "            predictions = res.get_prediction(0, i + window - 1)\n",
    "            oos_pred = predictions.predicted_mean.iloc[-window:]\n",
    "            pred_AR.extend(oos_pred)\n",
    "            \n",
    "        return pred_AR"
   ]
  },
  {
   "cell_type": "code",
   "execution_count": null,
   "id": "d319eb55",
   "metadata": {},
   "outputs": [],
   "source": [
    "pred_df = test.copy()\n",
    "\n",
    "TRAIN_LEN = len(train)\n",
    "HORIZON = len(test)\n",
    "WINDOW = 1\n",
    "\n",
    "pred_mean = rolling_forecast(df_diff, TRAIN_LEN, HORIZON, WINDOW, 'mean')\n",
    "pred_last_value = rolling_forecast(df_diff, TRAIN_LEN, HORIZON, WINDOW, 'last')\n",
    "pred_AR = rolling_forecast(df_diff, TRAIN_LEN, HORIZON, WINDOW, 'AR')\n",
    "\n",
    "pred_df['pred_mean'] = pred_mean\n",
    "pred_df['pred_last_value'] = pred_last_value\n",
    "pred_df['pred_AR'] = pred_AR\n",
    "\n",
    "pred_df.head()"
   ]
  },
  {
   "cell_type": "code",
   "execution_count": null,
   "id": "afcc395a",
   "metadata": {},
   "outputs": [],
   "source": [
    "fig, ax = plt.subplots()\n",
    "\n",
    "ax.plot(df_diff['foot_traffic_diff'])\n",
    "ax.plot(pred_df['foot_traffic_diff'], 'b-', label='actual')\n",
    "ax.plot(pred_df['pred_mean'], 'g:', label='mean')\n",
    "ax.plot(pred_df['pred_last_value'], 'r-.', label='last')\n",
    "ax.plot(pred_df['pred_AR'], 'k--', label='AR(3)')\n",
    "\n",
    "ax.legend(loc=2)\n",
    "\n",
    "ax.set_xlabel('Time')\n",
    "ax.set_ylabel('Diff. avg. weekly foot traffic')\n",
    "\n",
    "ax.axvspan(947, 998, color='#808080', alpha=0.2)\n",
    "\n",
    "ax.set_xlim(920, 999)\n",
    "\n",
    "plt.xticks([936, 988],[2018, 2019])\n",
    "\n",
    "fig.autofmt_xdate()\n",
    "plt.tight_layout()"
   ]
  },
  {
   "cell_type": "code",
   "execution_count": null,
   "id": "e7769ab0",
   "metadata": {},
   "outputs": [],
   "source": [
    "from sklearn.metrics import mean_squared_error\n",
    "\n",
    "mse_mean = mean_squared_error(test['foot_traffic_diff'], test['pred_mean'])\n",
    "mse_last = mean_squared_error(test['foot_traffic_diff'], test['pred_last_value'])\n",
    "mse_AR = mean_squared_error(test['foot_traffic_diff'], test['pred_AR'])\n",
    "\n",
    "print(mse_mean, mse_last, mse_AR)"
   ]
  },
  {
   "cell_type": "code",
   "execution_count": null,
   "id": "d78e9c88",
   "metadata": {},
   "outputs": [],
   "source": [
    "df['pred_foot_traffic'] = pd.Series(dtype=\"float64\")\n",
    "df['pred_foot_traffic'][948:] = df['foot_traffic'].iloc[948] + test['pred_AR'].cumsum()"
   ]
  },
  {
   "cell_type": "code",
   "execution_count": null,
   "id": "ce6aa8de",
   "metadata": {},
   "outputs": [],
   "source": [
    "fig, ax = plt.subplots()\n",
    "\n",
    "ax.plot(df['foot_traffic'])\n",
    "ax.plot(df['foot_traffic'], 'b-', label='actual')\n",
    "ax.plot(df['pred_foot_traffic'], 'k--', label='AR(3)')\n",
    "\n",
    "ax.legend(loc=2)\n",
    "\n",
    "ax.set_xlabel('Time')\n",
    "ax.set_ylabel('Average weekly foot traffic')\n",
    "\n",
    "ax.axvspan(948, 1000, color='#808080', alpha=0.2)\n",
    "\n",
    "ax.set_xlim(920, 1000)\n",
    "ax.set_ylim(650, 770)\n",
    "\n",
    "plt.xticks([936, 988],[2018, 2019])\n",
    "\n",
    "fig.autofmt_xdate()\n",
    "plt.tight_layout()"
   ]
  },
  {
   "cell_type": "code",
   "execution_count": null,
   "id": "5cf4c2c4",
   "metadata": {},
   "outputs": [],
   "source": [
    "from sklearn.metrics import mean_absolute_error\n",
    "\n",
    "mae_AR_undiff = mean_absolute_error(df['foot_traffic'][948:], df['pred_foot_traffic'][948:])\n",
    "\n",
    "print(mae_AR_undiff)"
   ]
  },
  {
   "cell_type": "markdown",
   "id": "057f6938",
   "metadata": {},
   "source": [
    "## Summary"
   ]
  },
  {
   "cell_type": "markdown",
   "id": "e8e49bed",
   "metadata": {},
   "source": [
    "- An autoregressive process states that the present value is linearly dependent on\n",
    "its past values and an error term.\n",
    "- If the ACF plot of a stationary process shows a slow decay, then you likely have\n",
    "an autoregressive process.\n",
    "- The partial autocorrelation measures the correlation between two lagged values\n",
    "of a time series when you remove the effect of the other autocorrelated\n",
    "lagged values.\n",
    "- Plotting the PACF of a stationary autoregressive process will show the order p of\n",
    "the process. The coefficients will be significant up until lag p only."
   ]
  }
 ],
 "metadata": {
  "kernelspec": {
   "display_name": "Python 3 (ipykernel)",
   "language": "python",
   "name": "python3"
  },
  "language_info": {
   "codemirror_mode": {
    "name": "ipython",
    "version": 3
   },
   "file_extension": ".py",
   "mimetype": "text/x-python",
   "name": "python",
   "nbconvert_exporter": "python",
   "pygments_lexer": "ipython3",
   "version": "3.10.7"
  }
 },
 "nbformat": 4,
 "nbformat_minor": 5
}
