{
 "cells": [
  {
   "attachments": {},
   "cell_type": "markdown",
   "metadata": {},
   "source": [
    "# Time Series Forecasting\n",
    "\n",
    "### Razna gradiva\n",
    "- [web article 1](https://medium.com/analytics-vidhya/time-series-forecasting-and-analysis-arima-and-seasonal-arima-cacaf61ae863)\n",
    "- [End-to-End Time Series Analysis and Forecasting: a Trio of SARIMAX, LSTM and Prophet (Part 1)](https://towardsdatascience.com/end-to-end-time-series-analysis-and-forecasting-a-trio-of-sarimax-lstm-and-prophet-part-1-306367e57db8#:~:text=What%20is%20SARIMAX%3F,%2Daverage%20term%20(MA).)\n",
    "- [End-to-End Time Series Analysis and Forecasting: a Trio of SARIMAX, LSTM and Prophet (Part 2)](https://medium.com/@minhsonle199/end-to-end-time-series-analysis-and-forecasting-a-trio-of-sarimax-lstm-and-prophet-part-2-4ca0046073ab)\n",
    "- [Prophet](https://facebook.github.io/prophet/docs/quick_start.html)\n"
   ]
  },
  {
   "attachments": {},
   "cell_type": "markdown",
   "metadata": {},
   "source": [
    "### Case studies\n",
    "- [UK Electricity consumption prediction -Time series](https://www.kaggle.com/code/albertovidalrod/uk-electricity-consumption-prediction-time-series)\n"
   ]
  },
  {
   "attachments": {},
   "cell_type": "markdown",
   "metadata": {},
   "source": [
    "### Modeling techniques\n",
    "- AutoRegressive Model (AR)\n",
    "- Moving Average Model (MA)\n",
    "- AutoRegressive Integrated Moving Average (ARIMA)\n",
    "    - p: number of autoregressive terms (AR order)\n",
    "    - d: number of nonseasonal differences (differencing order)\n",
    "    - q: number of moving-average terms (MA order)\n",
    "- Seasonal AutoRegressive Integrated Moving Average (SARIMA)\n",
    "    - ARIMA(p,d,q)(P, D, Q)m,\n",
    "    - p — the number of autoregressive\n",
    "    - d — degree of differencing\n",
    "    - q — the number of moving average terms\n",
    "    - m — refers to the number of periods in each season\n",
    "    - (P, D, Q ) — represents the (p,d,q) for the seasonal part of the time series\n",
    "- Seasonal Auto-Regressive Integrated Moving Average with eXogenous factors (SARIMAX)\n",
    "- XGBoost\n",
    "- Linear Boosting\n",
    "- Prophet"
   ]
  }
 ],
 "metadata": {
  "kernelspec": {
   "display_name": ".venv",
   "language": "python",
   "name": "python3"
  },
  "language_info": {
   "codemirror_mode": {
    "name": "ipython",
    "version": 3
   },
   "file_extension": ".py",
   "mimetype": "text/x-python",
   "name": "python",
   "nbconvert_exporter": "python",
   "pygments_lexer": "ipython3",
   "version": "3.11.1"
  },
  "orig_nbformat": 4,
  "vscode": {
   "interpreter": {
    "hash": "fa22d641b846ad1a51e9fa43a97b4a160f6a3c3fc3abc162bbf7874c2905cea5"
   }
  }
 },
 "nbformat": 4,
 "nbformat_minor": 2
}
